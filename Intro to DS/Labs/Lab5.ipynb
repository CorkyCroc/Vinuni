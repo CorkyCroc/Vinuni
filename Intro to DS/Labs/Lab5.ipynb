{
 "cells": [
  {
   "cell_type": "code",
   "execution_count": 72,
   "metadata": {},
   "outputs": [
    {
     "name": "stderr",
     "output_type": "stream",
     "text": [
      "/var/folders/jq/3spgz0t105z044g721j_zwdw0000gn/T/ipykernel_16173/3433799785.py:14: DeprecationWarning:\n",
      "\n",
      "load_dataset is deprecated and will be removed in future version.\n",
      "\n"
     ]
    }
   ],
   "source": [
    "# Install dependencies as needed:\n",
    "# pip install kagglehub[pandas-datasets]\n",
    "import kagglehub\n",
    "from kagglehub import KaggleDatasetAdapter\n",
    "import pandas as pd\n",
    "import matplotlib.pyplot as plt\n",
    "import plotly.express as px\n",
    "import plotly.graph_objects as go\n",
    "\n",
    "# Set the path to the file you'd like to load\n",
    "file_path = \"netflix_titles.csv\"\n",
    "\n",
    "# Load the latest version\n",
    "df = kagglehub.load_dataset(\n",
    "  KaggleDatasetAdapter.PANDAS,\n",
    "  \"shivamb/netflix-shows\",\n",
    "  file_path,\n",
    "  # Provide any additional arguments like \n",
    "  # sql_query or pandas_kwargs. See the \n",
    "  # documenation for more information:\n",
    "  # https://github.com/Kaggle/kagglehub/blob/main/README.md#kaggledatasetadapterpandas\n",
    ")"
   ]
  },
  {
   "cell_type": "code",
   "execution_count": 4,
   "metadata": {},
   "outputs": [
    {
     "name": "stdout",
     "output_type": "stream",
     "text": [
      "<class 'pandas.core.frame.DataFrame'>\n",
      "RangeIndex: 8807 entries, 0 to 8806\n",
      "Data columns (total 12 columns):\n",
      " #   Column        Non-Null Count  Dtype \n",
      "---  ------        --------------  ----- \n",
      " 0   show_id       8807 non-null   object\n",
      " 1   type          8807 non-null   object\n",
      " 2   title         8807 non-null   object\n",
      " 3   director      6173 non-null   object\n",
      " 4   cast          7982 non-null   object\n",
      " 5   country       7976 non-null   object\n",
      " 6   date_added    8797 non-null   object\n",
      " 7   release_year  8807 non-null   int64 \n",
      " 8   rating        8803 non-null   object\n",
      " 9   duration      8804 non-null   object\n",
      " 10  listed_in     8807 non-null   object\n",
      " 11  description   8807 non-null   object\n",
      "dtypes: int64(1), object(11)\n",
      "memory usage: 825.8+ KB\n"
     ]
    }
   ],
   "source": [
    "# df.head()\n",
    "df.info()"
   ]
  },
  {
   "cell_type": "markdown",
   "metadata": {},
   "source": [
    "# Task 1"
   ]
  },
  {
   "cell_type": "code",
   "execution_count": 103,
   "metadata": {},
   "outputs": [
    {
     "data": {
      "image/png": "[encoded data removed]",
      "text/plain": [
       "<Figure size 1200x600 with 1 Axes>"
      ]
     },
     "metadata": {},
     "output_type": "display_data"
    }
   ],
   "source": [
    "def categorize_year(year):\n",
    "    if year < 2000:\n",
    "        return \"1900s\"\n",
    "    start = (year // 5) * 5\n",
    "    end = start + 4\n",
    "    return f\"{start}-{end}\"\n",
    "\n",
    "df[\"year_group\"] = df[\"release_year\"].apply(categorize_year)\n",
    "\n",
    "rating_year_counts = df.groupby([\"year_group\", \"rating\"]).size().unstack(fill_value=0)\n",
    "\n",
    "year_order = [\"1900s\"] + sorted(\n",
    "    [col for col in rating_year_counts.index if col != \"1900s\"], \n",
    "    key=lambda x: int(x.split(\"-\")[0])\n",
    ")\n",
    "\n",
    "rating_year_counts = rating_year_counts.loc[year_order]\n",
    "\n",
    "plt.figure(figsize=(12, 6))\n",
    "\n",
    "plt.bar(rating_year_counts.index, rating_year_counts.sum(axis=1), color='skyblue')\n",
    "\n",
    "plt.xlabel('Release Year', fontsize=12)\n",
    "plt.ylabel('Number of Titles', fontsize=12)\n",
    "plt.title('Number of Titles Released by Year', fontsize=14, fontweight='bold')\n",
    "\n",
    "plt.xticks(rotation=45)\n",
    "plt.grid(axis='y', linestyle='--', alpha=0.7)\n",
    "\n",
    "plt.show()\n"
   ]
  },
  {
   "cell_type": "code",
   "execution_count": 110,
   "metadata": {},
   "outputs": [
    {
     "data": {
      "application/vnd.plotly.v1+json": {
       "config": {
        "plotlyServerURL": "https://plot.ly"
       },
       "data": [
        {
         "hovertemplate": "year_group=%{x}<br>Number of Titles=%{y}<extra></extra>",
         "legendgroup": "",
         "marker": {
          "color": "skyblue",
          "pattern": {
           "shape": ""
          }
         },
         "name": "",
         "orientation": "v",
         "showlegend": false,
         "textposition": "auto",
         "type": "bar",
         "x": [
          "1900s",
          "2000-2004",
          "2005-2009",
          "2010-2014",
          "2015-2019",
          "2020-2024"
         ],
         "xaxis": "x",
         "y": {
          "bdata": "DQICASgC5wQ8EgkG",
          "dtype": "i2"
         },
         "yaxis": "y"
        }
       ],
       "layout": {
        "barmode": "relative",
        "legend": {
         "tracegroupgap": 0
        },
        "template": {
         "data": {
          "bar": [
           {
            "error_x": {
             "color": "#2a3f5f"
            },
            "error_y": {
             "color": "#2a3f5f"
            },
            "marker": {
             "line": {
              "color": "#E5ECF6",
              "width": 0.5
             },
             "pattern": {
              "fillmode": "overlay",
              "size": 10,
              "solidity": 0.2
             }
            },
            "type": "bar"
           }
          ],
          "barpolar": [
           {
            "marker": {
             "line": {
              "color": "#E5ECF6",
              "width": 0.5
             },
             "pattern": {
              "fillmode": "overlay",
              "size": 10,
              "solidity": 0.2
             }
            },
            "type": "barpolar"
           }
          ],
          "carpet": [
           {
            "aaxis": {
             "endlinecolor": "#2a3f5f",
             "gridcolor": "white",
             "linecolor": "white",
             "minorgridcolor": "white",
             "startlinecolor": "#2a3f5f"
            },
            "baxis": {
             "endlinecolor": "#2a3f5f",
             "gridcolor": "white",
             "linecolor": "white",
             "minorgridcolor": "white",
             "startlinecolor": "#2a3f5f"
            },
            "type": "carpet"
           }
          ],
          "choropleth": [
           {
            "colorbar": {
             "outlinewidth": 0,
             "ticks": ""
            },
            "type": "choropleth"
           }
          ],
          "contour": [
           {
            "colorbar": {
             "outlinewidth": 0,
             "ticks": ""
            },
            "colorscale": [
             [
              0,
              "#0d0887"
             ],
             [
              0.1111111111111111,
              "#46039f"
             ],
             [
              0.2222222222222222,
              "#7201a8"
             ],
             [
              0.3333333333333333,
              "#9c179e"
             ],
             [
              0.4444444444444444,
              "#bd3786"
             ],
             [
              0.5555555555555556,
              "#d8576b"
             ],
             [
              0.6666666666666666,
              "#ed7953"
             ],
             [
              0.7777777777777778,
              "#fb9f3a"
             ],
             [
              0.8888888888888888,
              "#fdca26"
             ],
             [
              1,
              "#f0f921"
             ]
            ],
            "type": "contour"
           }
          ],
          "contourcarpet": [
           {
            "colorbar": {
             "outlinewidth": 0,
             "ticks": ""
            },
            "type": "contourcarpet"
           }
          ],
          "heatmap": [
           {
            "colorbar": {
             "outlinewidth": 0,
             "ticks": ""
            },
            "colorscale": [
             [
              0,
              "#0d0887"
             ],
             [
              0.1111111111111111,
              "#46039f"
             ],
             [
              0.2222222222222222,
              "#7201a8"
             ],
             [
              0.3333333333333333,
              "#9c179e"
             ],
             [
              0.4444444444444444,
              "#bd3786"
             ],
             [
              0.5555555555555556,
              "#d8576b"
             ],
             [
              0.6666666666666666,
              "#ed7953"
             ],
             [
              0.7777777777777778,
              "#fb9f3a"
             ],
             [
              0.8888888888888888,
              "#fdca26"
             ],
             [
              1,
              "#f0f921"
             ]
            ],
            "type": "heatmap"
           }
          ],
          "histogram": [
           {
            "marker": {
             "pattern": {
              "fillmode": "overlay",
              "size": 10,
              "solidity": 0.2
             }
            },
            "type": "histogram"
           }
          ],
          "histogram2d": [
           {
            "colorbar": {
             "outlinewidth": 0,
             "ticks": ""
            },
            "colorscale": [
             [
              0,
              "#0d0887"
             ],
             [
              0.1111111111111111,
              "#46039f"
             ],
             [
              0.2222222222222222,
              "#7201a8"
             ],
             [
              0.3333333333333333,
              "#9c179e"
             ],
             [
              0.4444444444444444,
              "#bd3786"
             ],
             [
              0.5555555555555556,
              "#d8576b"
             ],
             [
              0.6666666666666666,
              "#ed7953"
             ],
             [
              0.7777777777777778,
              "#fb9f3a"
             ],
             [
              0.8888888888888888,
              "#fdca26"
             ],
             [
              1,
              "#f0f921"
             ]
            ],
            "type": "histogram2d"
           }
          ],
          "histogram2dcontour": [
           {
            "colorbar": {
             "outlinewidth": 0,
             "ticks": ""
            },
            "colorscale": [
             [
              0,
              "#0d0887"
             ],
             [
              0.1111111111111111,
              "#46039f"
             ],
             [
              0.2222222222222222,
              "#7201a8"
             ],
             [
              0.3333333333333333,
              "#9c179e"
             ],
             [
              0.4444444444444444,
              "#bd3786"
             ],
             [
              0.5555555555555556,
              "#d8576b"
             ],
             [
              0.6666666666666666,
              "#ed7953"
             ],
             [
              0.7777777777777778,
              "#fb9f3a"
             ],
             [
              0.8888888888888888,
              "#fdca26"
             ],
             [
              1,
              "#f0f921"
             ]
            ],
            "type": "histogram2dcontour"
           }
          ],
          "mesh3d": [
           {
            "colorbar": {
             "outlinewidth": 0,
             "ticks": ""
            },
            "type": "mesh3d"
           }
          ],
          "parcoords": [
           {
            "line": {
             "colorbar": {
              "outlinewidth": 0,
              "ticks": ""
             }
            },
            "type": "parcoords"
           }
          ],
          "pie": [
           {
            "automargin": true,
            "type": "pie"
           }
          ],
          "scatter": [
           {
            "fillpattern": {
             "fillmode": "overlay",
             "size": 10,
             "solidity": 0.2
            },
            "type": "scatter"
           }
          ],
          "scatter3d": [
           {
            "line": {
             "colorbar": {
              "outlinewidth": 0,
              "ticks": ""
             }
            },
            "marker": {
             "colorbar": {
              "outlinewidth": 0,
              "ticks": ""
             }
            },
            "type": "scatter3d"
           }
          ],
          "scattercarpet": [
           {
            "marker": {
             "colorbar": {
              "outlinewidth": 0,
              "ticks": ""
             }
            },
            "type": "scattercarpet"
           }
          ],
          "scattergeo": [
           {
            "marker": {
             "colorbar": {
              "outlinewidth": 0,
              "ticks": ""
             }
            },
            "type": "scattergeo"
           }
          ],
          "scattergl": [
           {
            "marker": {
             "colorbar": {
              "outlinewidth": 0,
              "ticks": ""
             }
            },
            "type": "scattergl"
           }
          ],
          "scattermap": [
           {
            "marker": {
             "colorbar": {
              "outlinewidth": 0,
              "ticks": ""
             }
            },
            "type": "scattermap"
           }
          ],
          "scattermapbox": [
           {
            "marker": {
             "colorbar": {
              "outlinewidth": 0,
              "ticks": ""
             }
            },
            "type": "scattermapbox"
           }
          ],
          "scatterpolar": [
           {
            "marker": {
             "colorbar": {
              "outlinewidth": 0,
              "ticks": ""
             }
            },
            "type": "scatterpolar"
           }
          ],
          "scatterpolargl": [
           {
            "marker": {
             "colorbar": {
              "outlinewidth": 0,
              "ticks": ""
             }
            },
            "type": "scatterpolargl"
           }
          ],
          "scatterternary": [
           {
            "marker": {
             "colorbar": {
              "outlinewidth": 0,
              "ticks": ""
             }
            },
            "type": "scatterternary"
           }
          ],
          "surface": [
           {
            "colorbar": {
             "outlinewidth": 0,
             "ticks": ""
            },
            "colorscale": [
             [
              0,
              "#0d0887"
             ],
             [
              0.1111111111111111,
              "#46039f"
             ],
             [
              0.2222222222222222,
              "#7201a8"
             ],
             [
              0.3333333333333333,
              "#9c179e"
             ],
             [
              0.4444444444444444,
              "#bd3786"
             ],
             [
              0.5555555555555556,
              "#d8576b"
             ],
             [
              0.6666666666666666,
              "#ed7953"
             ],
             [
              0.7777777777777778,
              "#fb9f3a"
             ],
             [
              0.8888888888888888,
              "#fdca26"
             ],
             [
              1,
              "#f0f921"
             ]
            ],
            "type": "surface"
           }
          ],
          "table": [
           {
            "cells": {
             "fill": {
              "color": "#EBF0F8"
             },
             "line": {
              "color": "white"
             }
            },
            "header": {
             "fill": {
              "color": "#C8D4E3"
             },
             "line": {
              "color": "white"
             }
            },
            "type": "table"
           }
          ]
         },
         "layout": {
          "annotationdefaults": {
           "arrowcolor": "#2a3f5f",
           "arrowhead": 0,
           "arrowwidth": 1
          },
          "autotypenumbers": "strict",
          "coloraxis": {
           "colorbar": {
            "outlinewidth": 0,
            "ticks": ""
           }
          },
          "colorscale": {
           "diverging": [
            [
             0,
             "#8e0152"
            ],
            [
             0.1,
             "#c51b7d"
            ],
            [
             0.2,
             "#de77ae"
            ],
            [
             0.3,
             "#f1b6da"
            ],
            [
             0.4,
             "#fde0ef"
            ],
            [
             0.5,
             "#f7f7f7"
            ],
            [
             0.6,
             "#e6f5d0"
            ],
            [
             0.7,
             "#b8e186"
            ],
            [
             0.8,
             "#7fbc41"
            ],
            [
             0.9,
             "#4d9221"
            ],
            [
             1,
             "#276419"
            ]
           ],
           "sequential": [
            [
             0,
             "#0d0887"
            ],
            [
             0.1111111111111111,
             "#46039f"
            ],
            [
             0.2222222222222222,
             "#7201a8"
            ],
            [
             0.3333333333333333,
             "#9c179e"
            ],
            [
             0.4444444444444444,
             "#bd3786"
            ],
            [
             0.5555555555555556,
             "#d8576b"
            ],
            [
             0.6666666666666666,
             "#ed7953"
            ],
            [
             0.7777777777777778,
             "#fb9f3a"
            ],
            [
             0.8888888888888888,
             "#fdca26"
            ],
            [
             1,
             "#f0f921"
            ]
           ],
           "sequentialminus": [
            [
             0,
             "#0d0887"
            ],
            [
             0.1111111111111111,
             "#46039f"
            ],
            [
             0.2222222222222222,
             "#7201a8"
            ],
            [
             0.3333333333333333,
             "#9c179e"
            ],
            [
             0.4444444444444444,
             "#bd3786"
            ],
            [
             0.5555555555555556,
             "#d8576b"
            ],
            [
             0.6666666666666666,
             "#ed7953"
            ],
            [
             0.7777777777777778,
             "#fb9f3a"
            ],
            [
             0.8888888888888888,
             "#fdca26"
            ],
            [
             1,
             "#f0f921"
            ]
           ]
          },
          "colorway": [
           "#636efa",
           "#EF553B",
           "#00cc96",
           "#ab63fa",
           "#FFA15A",
           "#19d3f3",
           "#FF6692",
           "#B6E880",
           "#FF97FF",
           "#FECB52"
          ],
          "font": {
           "color": "#2a3f5f"
          },
          "geo": {
           "bgcolor": "white",
           "lakecolor": "white",
           "landcolor": "#E5ECF6",
           "showlakes": true,
           "showland": true,
           "subunitcolor": "white"
          },
          "hoverlabel": {
           "align": "left"
          },
          "hovermode": "closest",
          "mapbox": {
           "style": "light"
          },
          "paper_bgcolor": "white",
          "plot_bgcolor": "#E5ECF6",
          "polar": {
           "angularaxis": {
            "gridcolor": "white",
            "linecolor": "white",
            "ticks": ""
           },
           "bgcolor": "#E5ECF6",
           "radialaxis": {
            "gridcolor": "white",
            "linecolor": "white",
            "ticks": ""
           }
          },
          "scene": {
           "xaxis": {
            "backgroundcolor": "#E5ECF6",
            "gridcolor": "white",
            "gridwidth": 2,
            "linecolor": "white",
            "showbackground": true,
            "ticks": "",
            "zerolinecolor": "white"
           },
           "yaxis": {
            "backgroundcolor": "#E5ECF6",
            "gridcolor": "white",
            "gridwidth": 2,
            "linecolor": "white",
            "showbackground": true,
            "ticks": "",
            "zerolinecolor": "white"
           },
           "zaxis": {
            "backgroundcolor": "#E5ECF6",
            "gridcolor": "white",
            "gridwidth": 2,
            "linecolor": "white",
            "showbackground": true,
            "ticks": "",
            "zerolinecolor": "white"
           }
          },
          "shapedefaults": {
           "line": {
            "color": "#2a3f5f"
           }
          },
          "ternary": {
           "aaxis": {
            "gridcolor": "white",
            "linecolor": "white",
            "ticks": ""
           },
           "baxis": {
            "gridcolor": "white",
            "linecolor": "white",
            "ticks": ""
           },
           "bgcolor": "#E5ECF6",
           "caxis": {
            "gridcolor": "white",
            "linecolor": "white",
            "ticks": ""
           }
          },
          "title": {
           "x": 0.05
          },
          "xaxis": {
           "automargin": true,
           "gridcolor": "white",
           "linecolor": "white",
           "ticks": "",
           "title": {
            "standoff": 15
           },
           "zerolinecolor": "white",
           "zerolinewidth": 2
          },
          "yaxis": {
           "automargin": true,
           "gridcolor": "white",
           "linecolor": "white",
           "ticks": "",
           "title": {
            "standoff": 15
           },
           "zerolinecolor": "white",
           "zerolinewidth": 2
          }
         }
        },
        "title": {
         "text": "Number of Titles Released by Year"
        },
        "xaxis": {
         "anchor": "y",
         "domain": [
          0,
          1
         ],
         "title": {
          "text": "Release Year"
         }
        },
        "yaxis": {
         "anchor": "x",
         "domain": [
          0,
          1
         ],
         "title": {
          "text": "Number of Titles"
         }
        }
       }
      }
     },
     "metadata": {},
     "output_type": "display_data"
    }
   ],
   "source": [
    "def categorize_year(year):\n",
    "    if year < 2000:\n",
    "        return \"1900s\"\n",
    "    start = (year // 5) * 5\n",
    "    end = start + 4\n",
    "    return f\"{start}-{end}\"\n",
    "\n",
    "df[\"year_group\"] = df[\"release_year\"].apply(categorize_year)\n",
    "\n",
    "rating_year_counts = df.groupby([\"year_group\", \"rating\"]).size().unstack(fill_value=0)\n",
    "\n",
    "year_order = [\"1900s\"] + sorted(\n",
    "    [col for col in rating_year_counts.index if col != \"1900s\"], \n",
    "    key=lambda x: int(x.split(\"-\")[0])\n",
    ")\n",
    "\n",
    "rating_year_counts = rating_year_counts.loc[year_order]\n",
    "\n",
    "fig = px.bar(\n",
    "    rating_year_counts,\n",
    "    x=rating_year_counts.index,\n",
    "    y=rating_year_counts.sum(axis=1),\n",
    "    labels={'x': 'Release Year', 'y': 'Number of Titles'},\n",
    "    title='Number of Titles Released by Year'\n",
    ")\n",
    "\n",
    "fig.update_traces(marker_color='skyblue')\n",
    "fig.update_layout(xaxis_title='Release Year', yaxis_title='Number of Titles')\n",
    "\n",
    "fig.show()\n"
   ]
  },
  {
   "cell_type": "code",
   "execution_count": 97,
   "metadata": {},
   "outputs": [
    {
     "data": {
      "image/png": "[encoded data removed]",
      "text/plain": [
       "<Figure size 500x400 with 1 Axes>"
      ]
     },
     "metadata": {},
     "output_type": "display_data"
    }
   ],
   "source": [
    "type_counts = df['type'].value_counts().head()\n",
    "\n",
    "plt.figure(figsize=(5, 4))\n",
    "plt.pie(\n",
    "    type_counts.values, \n",
    "    labels=type_counts.index, \n",
    "    autopct='%1.1f%%',\n",
    "    colors=['skyblue', 'lightcoral'],\n",
    "    wedgeprops={'edgecolor': 'black'}, \n",
    "    pctdistance=0.85\n",
    ")\n",
    "\n",
    "centre_circle = plt.Circle((0, 0), 0.5, fc='white')\n",
    "plt.title(\"Distribution of Netflix Content by Type\")\n",
    "plt.show()\n"
   ]
  },
  {
   "cell_type": "code",
   "execution_count": 106,
   "metadata": {},
   "outputs": [
    {
     "data": {
      "application/vnd.plotly.v1+json": {
       "config": {
        "plotlyServerURL": "https://plot.ly"
       },
       "data": [
        {
         "labels": [
          "Movie",
          "TV Show"
         ],
         "marker": {
          "colors": [
           "skyblue",
           "lightcoral"
          ],
          "line": {
           "color": "black",
           "width": 1
          }
         },
         "textinfo": "percent",
         "type": "pie",
         "values": {
          "bdata": "8xd0Cg==",
          "dtype": "i2"
         }
        }
       ],
       "layout": {
        "height": 500,
        "template": {
         "data": {
          "bar": [
           {
            "error_x": {
             "color": "#2a3f5f"
            },
            "error_y": {
             "color": "#2a3f5f"
            },
            "marker": {
             "line": {
              "color": "#E5ECF6",
              "width": 0.5
             },
             "pattern": {
              "fillmode": "overlay",
              "size": 10,
              "solidity": 0.2
             }
            },
            "type": "bar"
           }
          ],
          "barpolar": [
           {
            "marker": {
             "line": {
              "color": "#E5ECF6",
              "width": 0.5
             },
             "pattern": {
              "fillmode": "overlay",
              "size": 10,
              "solidity": 0.2
             }
            },
            "type": "barpolar"
           }
          ],
          "carpet": [
           {
            "aaxis": {
             "endlinecolor": "#2a3f5f",
             "gridcolor": "white",
             "linecolor": "white",
             "minorgridcolor": "white",
             "startlinecolor": "#2a3f5f"
            },
            "baxis": {
             "endlinecolor": "#2a3f5f",
             "gridcolor": "white",
             "linecolor": "white",
             "minorgridcolor": "white",
             "startlinecolor": "#2a3f5f"
            },
            "type": "carpet"
           }
          ],
          "choropleth": [
           {
            "colorbar": {
             "outlinewidth": 0,
             "ticks": ""
            },
            "type": "choropleth"
           }
          ],
          "contour": [
           {
            "colorbar": {
             "outlinewidth": 0,
             "ticks": ""
            },
            "colorscale": [
             [
              0,
              "#0d0887"
             ],
             [
              0.1111111111111111,
              "#46039f"
             ],
             [
              0.2222222222222222,
              "#7201a8"
             ],
             [
              0.3333333333333333,
              "#9c179e"
             ],
             [
              0.4444444444444444,
              "#bd3786"
             ],
             [
              0.5555555555555556,
              "#d8576b"
             ],
             [
              0.6666666666666666,
              "#ed7953"
             ],
             [
              0.7777777777777778,
              "#fb9f3a"
             ],
             [
              0.8888888888888888,
              "#fdca26"
             ],
             [
              1,
              "#f0f921"
             ]
            ],
            "type": "contour"
           }
          ],
          "contourcarpet": [
           {
            "colorbar": {
             "outlinewidth": 0,
             "ticks": ""
            },
            "type": "contourcarpet"
           }
          ],
          "heatmap": [
           {
            "colorbar": {
             "outlinewidth": 0,
             "ticks": ""
            },
            "colorscale": [
             [
              0,
              "#0d0887"
             ],
             [
              0.1111111111111111,
              "#46039f"
             ],
             [
              0.2222222222222222,
              "#7201a8"
             ],
             [
              0.3333333333333333,
              "#9c179e"
             ],
             [
              0.4444444444444444,
              "#bd3786"
             ],
             [
              0.5555555555555556,
              "#d8576b"
             ],
             [
              0.6666666666666666,
              "#ed7953"
             ],
             [
              0.7777777777777778,
              "#fb9f3a"
             ],
             [
              0.8888888888888888,
              "#fdca26"
             ],
             [
              1,
              "#f0f921"
             ]
            ],
            "type": "heatmap"
           }
          ],
          "histogram": [
           {
            "marker": {
             "pattern": {
              "fillmode": "overlay",
              "size": 10,
              "solidity": 0.2
             }
            },
            "type": "histogram"
           }
          ],
          "histogram2d": [
           {
            "colorbar": {
             "outlinewidth": 0,
             "ticks": ""
            },
            "colorscale": [
             [
              0,
              "#0d0887"
             ],
             [
              0.1111111111111111,
              "#46039f"
             ],
             [
              0.2222222222222222,
              "#7201a8"
             ],
             [
              0.3333333333333333,
              "#9c179e"
             ],
             [
              0.4444444444444444,
              "#bd3786"
             ],
             [
              0.5555555555555556,
              "#d8576b"
             ],
             [
              0.6666666666666666,
              "#ed7953"
             ],
             [
              0.7777777777777778,
              "#fb9f3a"
             ],
             [
              0.8888888888888888,
              "#fdca26"
             ],
             [
              1,
              "#f0f921"
             ]
            ],
            "type": "histogram2d"
           }
          ],
          "histogram2dcontour": [
           {
            "colorbar": {
             "outlinewidth": 0,
             "ticks": ""
            },
            "colorscale": [
             [
              0,
              "#0d0887"
             ],
             [
              0.1111111111111111,
              "#46039f"
             ],
             [
              0.2222222222222222,
              "#7201a8"
             ],
             [
              0.3333333333333333,
              "#9c179e"
             ],
             [
              0.4444444444444444,
              "#bd3786"
             ],
             [
              0.5555555555555556,
              "#d8576b"
             ],
             [
              0.6666666666666666,
              "#ed7953"
             ],
             [
              0.7777777777777778,
              "#fb9f3a"
             ],
             [
              0.8888888888888888,
              "#fdca26"
             ],
             [
              1,
              "#f0f921"
             ]
            ],
            "type": "histogram2dcontour"
           }
          ],
          "mesh3d": [
           {
            "colorbar": {
             "outlinewidth": 0,
             "ticks": ""
            },
            "type": "mesh3d"
           }
          ],
          "parcoords": [
           {
            "line": {
             "colorbar": {
              "outlinewidth": 0,
              "ticks": ""
             }
            },
            "type": "parcoords"
           }
          ],
          "pie": [
           {
            "automargin": true,
            "type": "pie"
           }
          ],
          "scatter": [
           {
            "fillpattern": {
             "fillmode": "overlay",
             "size": 10,
             "solidity": 0.2
            },
            "type": "scatter"
           }
          ],
          "scatter3d": [
           {
            "line": {
             "colorbar": {
              "outlinewidth": 0,
              "ticks": ""
             }
            },
            "marker": {
             "colorbar": {
              "outlinewidth": 0,
              "ticks": ""
             }
            },
            "type": "scatter3d"
           }
          ],
          "scattercarpet": [
           {
            "marker": {
             "colorbar": {
              "outlinewidth": 0,
              "ticks": ""
             }
            },
            "type": "scattercarpet"
           }
          ],
          "scattergeo": [
           {
            "marker": {
             "colorbar": {
              "outlinewidth": 0,
              "ticks": ""
             }
            },
            "type": "scattergeo"
           }
          ],
          "scattergl": [
           {
            "marker": {
             "colorbar": {
              "outlinewidth": 0,
              "ticks": ""
             }
            },
            "type": "scattergl"
           }
          ],
          "scattermap": [
           {
            "marker": {
             "colorbar": {
              "outlinewidth": 0,
              "ticks": ""
             }
            },
            "type": "scattermap"
           }
          ],
          "scattermapbox": [
           {
            "marker": {
             "colorbar": {
              "outlinewidth": 0,
              "ticks": ""
             }
            },
            "type": "scattermapbox"
           }
          ],
          "scatterpolar": [
           {
            "marker": {
             "colorbar": {
              "outlinewidth": 0,
              "ticks": ""
             }
            },
            "type": "scatterpolar"
           }
          ],
          "scatterpolargl": [
           {
            "marker": {
             "colorbar": {
              "outlinewidth": 0,
              "ticks": ""
             }
            },
            "type": "scatterpolargl"
           }
          ],
          "scatterternary": [
           {
            "marker": {
             "colorbar": {
              "outlinewidth": 0,
              "ticks": ""
             }
            },
            "type": "scatterternary"
           }
          ],
          "surface": [
           {
            "colorbar": {
             "outlinewidth": 0,
             "ticks": ""
            },
            "colorscale": [
             [
              0,
              "#0d0887"
             ],
             [
              0.1111111111111111,
              "#46039f"
             ],
             [
              0.2222222222222222,
              "#7201a8"
             ],
             [
              0.3333333333333333,
              "#9c179e"
             ],
             [
              0.4444444444444444,
              "#bd3786"
             ],
             [
              0.5555555555555556,
              "#d8576b"
             ],
             [
              0.6666666666666666,
              "#ed7953"
             ],
             [
              0.7777777777777778,
              "#fb9f3a"
             ],
             [
              0.8888888888888888,
              "#fdca26"
             ],
             [
              1,
              "#f0f921"
             ]
            ],
            "type": "surface"
           }
          ],
          "table": [
           {
            "cells": {
             "fill": {
              "color": "#EBF0F8"
             },
             "line": {
              "color": "white"
             }
            },
            "header": {
             "fill": {
              "color": "#C8D4E3"
             },
             "line": {
              "color": "white"
             }
            },
            "type": "table"
           }
          ]
         },
         "layout": {
          "annotationdefaults": {
           "arrowcolor": "#2a3f5f",
           "arrowhead": 0,
           "arrowwidth": 1
          },
          "autotypenumbers": "strict",
          "coloraxis": {
           "colorbar": {
            "outlinewidth": 0,
            "ticks": ""
           }
          },
          "colorscale": {
           "diverging": [
            [
             0,
             "#8e0152"
            ],
            [
             0.1,
             "#c51b7d"
            ],
            [
             0.2,
             "#de77ae"
            ],
            [
             0.3,
             "#f1b6da"
            ],
            [
             0.4,
             "#fde0ef"
            ],
            [
             0.5,
             "#f7f7f7"
            ],
            [
             0.6,
             "#e6f5d0"
            ],
            [
             0.7,
             "#b8e186"
            ],
            [
             0.8,
             "#7fbc41"
            ],
            [
             0.9,
             "#4d9221"
            ],
            [
             1,
             "#276419"
            ]
           ],
           "sequential": [
            [
             0,
             "#0d0887"
            ],
            [
             0.1111111111111111,
             "#46039f"
            ],
            [
             0.2222222222222222,
             "#7201a8"
            ],
            [
             0.3333333333333333,
             "#9c179e"
            ],
            [
             0.4444444444444444,
             "#bd3786"
            ],
            [
             0.5555555555555556,
             "#d8576b"
            ],
            [
             0.6666666666666666,
             "#ed7953"
            ],
            [
             0.7777777777777778,
             "#fb9f3a"
            ],
            [
             0.8888888888888888,
             "#fdca26"
            ],
            [
             1,
             "#f0f921"
            ]
           ],
           "sequentialminus": [
            [
             0,
             "#0d0887"
            ],
            [
             0.1111111111111111,
             "#46039f"
            ],
            [
             0.2222222222222222,
             "#7201a8"
            ],
            [
             0.3333333333333333,
             "#9c179e"
            ],
            [
             0.4444444444444444,
             "#bd3786"
            ],
            [
             0.5555555555555556,
             "#d8576b"
            ],
            [
             0.6666666666666666,
             "#ed7953"
            ],
            [
             0.7777777777777778,
             "#fb9f3a"
            ],
            [
             0.8888888888888888,
             "#fdca26"
            ],
            [
             1,
             "#f0f921"
            ]
           ]
          },
          "colorway": [
           "#636efa",
           "#EF553B",
           "#00cc96",
           "#ab63fa",
           "#FFA15A",
           "#19d3f3",
           "#FF6692",
           "#B6E880",
           "#FF97FF",
           "#FECB52"
          ],
          "font": {
           "color": "#2a3f5f"
          },
          "geo": {
           "bgcolor": "white",
           "lakecolor": "white",
           "landcolor": "#E5ECF6",
           "showlakes": true,
           "showland": true,
           "subunitcolor": "white"
          },
          "hoverlabel": {
           "align": "left"
          },
          "hovermode": "closest",
          "mapbox": {
           "style": "light"
          },
          "paper_bgcolor": "white",
          "plot_bgcolor": "#E5ECF6",
          "polar": {
           "angularaxis": {
            "gridcolor": "white",
            "linecolor": "white",
            "ticks": ""
           },
           "bgcolor": "#E5ECF6",
           "radialaxis": {
            "gridcolor": "white",
            "linecolor": "white",
            "ticks": ""
           }
          },
          "scene": {
           "xaxis": {
            "backgroundcolor": "#E5ECF6",
            "gridcolor": "white",
            "gridwidth": 2,
            "linecolor": "white",
            "showbackground": true,
            "ticks": "",
            "zerolinecolor": "white"
           },
           "yaxis": {
            "backgroundcolor": "#E5ECF6",
            "gridcolor": "white",
            "gridwidth": 2,
            "linecolor": "white",
            "showbackground": true,
            "ticks": "",
            "zerolinecolor": "white"
           },
           "zaxis": {
            "backgroundcolor": "#E5ECF6",
            "gridcolor": "white",
            "gridwidth": 2,
            "linecolor": "white",
            "showbackground": true,
            "ticks": "",
            "zerolinecolor": "white"
           }
          },
          "shapedefaults": {
           "line": {
            "color": "#2a3f5f"
           }
          },
          "ternary": {
           "aaxis": {
            "gridcolor": "white",
            "linecolor": "white",
            "ticks": ""
           },
           "baxis": {
            "gridcolor": "white",
            "linecolor": "white",
            "ticks": ""
           },
           "bgcolor": "#E5ECF6",
           "caxis": {
            "gridcolor": "white",
            "linecolor": "white",
            "ticks": ""
           }
          },
          "title": {
           "x": 0.05
          },
          "xaxis": {
           "automargin": true,
           "gridcolor": "white",
           "linecolor": "white",
           "ticks": "",
           "title": {
            "standoff": 15
           },
           "zerolinecolor": "white",
           "zerolinewidth": 2
          },
          "yaxis": {
           "automargin": true,
           "gridcolor": "white",
           "linecolor": "white",
           "ticks": "",
           "title": {
            "standoff": 15
           },
           "zerolinecolor": "white",
           "zerolinewidth": 2
          }
         }
        },
        "title": {
         "text": "Distribution of Netflix Content by Type"
        },
        "width": 500
       }
      }
     },
     "metadata": {},
     "output_type": "display_data"
    }
   ],
   "source": [
    "type_counts = df['type'].value_counts().head()\n",
    "\n",
    "fig = go.Figure(\n",
    "    data=[go.Pie(\n",
    "        labels=type_counts.index, \n",
    "        values=type_counts.values, \n",
    "        textinfo='percent',\n",
    "        marker=dict(colors=['skyblue', 'lightcoral'], line=dict(color='black', width=1))\n",
    "    )]\n",
    ")\n",
    "\n",
    "fig.update_layout(\n",
    "    title=\"Distribution of Netflix Content by Type\",\n",
    "    width = 500,\n",
    "    height = 500\n",
    ")\n",
    "\n",
    "fig.show()\n"
   ]
  },
  {
   "cell_type": "markdown",
   "metadata": {},
   "source": [
    "# Task 2"
   ]
  },
  {
   "cell_type": "code",
   "execution_count": null,
   "metadata": {},
   "outputs": [
    {
     "data": {
      "image/png": "[encoded data removed]",
      "text/plain": [
       "<Figure size 1200x600 with 1 Axes>"
      ]
     },
     "metadata": {},
     "output_type": "display_data"
    }
   ],
   "source": [
    "country_counts = df['country'].str.split(',').explode('country').value_counts().head(20)\n",
    "\n",
    "plt.figure(figsize=(12, 6))\n",
    "plt.hist(\n",
    "    country_counts.index,\n",
    "    weights=country_counts.values,\n",
    "    bins=len(country_counts),\n",
    "    edgecolor='black',\n",
    "    color='skyblue'\n",
    ")\n",
    "\n",
    "plt.xlabel('Country', fontsize=12)\n",
    "plt.ylabel('Number of Titles', fontsize=12)\n",
    "plt.title('Distribution of Countries by Number of Netflix Shows', fontsize=14, fontweight='bold')\n",
    "\n",
    "\n",
    "plt.xticks(rotation=45, ha='right', fontsize=10)\n",
    "\n",
    "plt.grid(axis='y', linestyle='--', alpha=0.7)\n",
    "\n",
    "plt.tight_layout()  \n",
    "plt.show()"
   ]
  },
  {
   "cell_type": "code",
   "execution_count": null,
   "metadata": {},
   "outputs": [
    {
     "data": {
      "application/vnd.plotly.v1+json": {
       "config": {
        "plotlyServerURL": "https://plot.ly"
       },
       "data": [
        {
         "hovertemplate": "Country=%{x}<br>Number of Titles=%{y}<extra></extra>",
         "legendgroup": "",
         "marker": {
          "color": "#636efa",
          "pattern": {
           "shape": ""
          }
         },
         "name": "",
         "orientation": "v",
         "showlegend": false,
         "textposition": "auto",
         "texttemplate": "%{y}",
         "type": "bar",
         "x": [
          "United States",
          "India",
          "United Kingdom",
          " United States",
          "Canada",
          "Japan",
          "France",
          "South Korea",
          "Spain",
          " France",
          " United Kingdom",
          " Canada",
          "Mexico",
          " Germany",
          "Australia",
          "Egypt",
          "Turkey",
          "Germany",
          "China",
          "Nigeria"
         ],
         "xaxis": "x",
         "y": {
          "bdata": "iwzwA3QC3wEPAQMB1ADTALUAtQCyAK4AhgB7AHUAcABvAGcAZABgAA==",
          "dtype": "i2"
         },
         "yaxis": "y"
        }
       ],
       "layout": {
        "bargap": 0.1,
        "barmode": "relative",
        "legend": {
         "tracegroupgap": 0
        },
        "plot_bgcolor": "white",
        "template": {
         "data": {
          "bar": [
           {
            "error_x": {
             "color": "#2a3f5f"
            },
            "error_y": {
             "color": "#2a3f5f"
            },
            "marker": {
             "line": {
              "color": "#E5ECF6",
              "width": 0.5
             },
             "pattern": {
              "fillmode": "overlay",
              "size": 10,
              "solidity": 0.2
             }
            },
            "type": "bar"
           }
          ],
          "barpolar": [
           {
            "marker": {
             "line": {
              "color": "#E5ECF6",
              "width": 0.5
             },
             "pattern": {
              "fillmode": "overlay",
              "size": 10,
              "solidity": 0.2
             }
            },
            "type": "barpolar"
           }
          ],
          "carpet": [
           {
            "aaxis": {
             "endlinecolor": "#2a3f5f",
             "gridcolor": "white",
             "linecolor": "white",
             "minorgridcolor": "white",
             "startlinecolor": "#2a3f5f"
            },
            "baxis": {
             "endlinecolor": "#2a3f5f",
             "gridcolor": "white",
             "linecolor": "white",
             "minorgridcolor": "white",
             "startlinecolor": "#2a3f5f"
            },
            "type": "carpet"
           }
          ],
          "choropleth": [
           {
            "colorbar": {
             "outlinewidth": 0,
             "ticks": ""
            },
            "type": "choropleth"
           }
          ],
          "contour": [
           {
            "colorbar": {
             "outlinewidth": 0,
             "ticks": ""
            },
            "colorscale": [
             [
              0,
              "#0d0887"
             ],
             [
              0.1111111111111111,
              "#46039f"
             ],
             [
              0.2222222222222222,
              "#7201a8"
             ],
             [
              0.3333333333333333,
              "#9c179e"
             ],
             [
              0.4444444444444444,
              "#bd3786"
             ],
             [
              0.5555555555555556,
              "#d8576b"
             ],
             [
              0.6666666666666666,
              "#ed7953"
             ],
             [
              0.7777777777777778,
              "#fb9f3a"
             ],
             [
              0.8888888888888888,
              "#fdca26"
             ],
             [
              1,
              "#f0f921"
             ]
            ],
            "type": "contour"
           }
          ],
          "contourcarpet": [
           {
            "colorbar": {
             "outlinewidth": 0,
             "ticks": ""
            },
            "type": "contourcarpet"
           }
          ],
          "heatmap": [
           {
            "colorbar": {
             "outlinewidth": 0,
             "ticks": ""
            },
            "colorscale": [
             [
              0,
              "#0d0887"
             ],
             [
              0.1111111111111111,
              "#46039f"
             ],
             [
              0.2222222222222222,
              "#7201a8"
             ],
             [
              0.3333333333333333,
              "#9c179e"
             ],
             [
              0.4444444444444444,
              "#bd3786"
             ],
             [
              0.5555555555555556,
              "#d8576b"
             ],
             [
              0.6666666666666666,
              "#ed7953"
             ],
             [
              0.7777777777777778,
              "#fb9f3a"
             ],
             [
              0.8888888888888888,
              "#fdca26"
             ],
             [
              1,
              "#f0f921"
             ]
            ],
            "type": "heatmap"
           }
          ],
          "histogram": [
           {
            "marker": {
             "pattern": {
              "fillmode": "overlay",
              "size": 10,
              "solidity": 0.2
             }
            },
            "type": "histogram"
           }
          ],
          "histogram2d": [
           {
            "colorbar": {
             "outlinewidth": 0,
             "ticks": ""
            },
            "colorscale": [
             [
              0,
              "#0d0887"
             ],
             [
              0.1111111111111111,
              "#46039f"
             ],
             [
              0.2222222222222222,
              "#7201a8"
             ],
             [
              0.3333333333333333,
              "#9c179e"
             ],
             [
              0.4444444444444444,
              "#bd3786"
             ],
             [
              0.5555555555555556,
              "#d8576b"
             ],
             [
              0.6666666666666666,
              "#ed7953"
             ],
             [
              0.7777777777777778,
              "#fb9f3a"
             ],
             [
              0.8888888888888888,
              "#fdca26"
             ],
             [
              1,
              "#f0f921"
             ]
            ],
            "type": "histogram2d"
           }
          ],
          "histogram2dcontour": [
           {
            "colorbar": {
             "outlinewidth": 0,
             "ticks": ""
            },
            "colorscale": [
             [
              0,
              "#0d0887"
             ],
             [
              0.1111111111111111,
              "#46039f"
             ],
             [
              0.2222222222222222,
              "#7201a8"
             ],
             [
              0.3333333333333333,
              "#9c179e"
             ],
             [
              0.4444444444444444,
              "#bd3786"
             ],
             [
              0.5555555555555556,
              "#d8576b"
             ],
             [
              0.6666666666666666,
              "#ed7953"
             ],
             [
              0.7777777777777778,
              "#fb9f3a"
             ],
             [
              0.8888888888888888,
              "#fdca26"
             ],
             [
              1,
              "#f0f921"
             ]
            ],
            "type": "histogram2dcontour"
           }
          ],
          "mesh3d": [
           {
            "colorbar": {
             "outlinewidth": 0,
             "ticks": ""
            },
            "type": "mesh3d"
           }
          ],
          "parcoords": [
           {
            "line": {
             "colorbar": {
              "outlinewidth": 0,
              "ticks": ""
             }
            },
            "type": "parcoords"
           }
          ],
          "pie": [
           {
            "automargin": true,
            "type": "pie"
           }
          ],
          "scatter": [
           {
            "fillpattern": {
             "fillmode": "overlay",
             "size": 10,
             "solidity": 0.2
            },
            "type": "scatter"
           }
          ],
          "scatter3d": [
           {
            "line": {
             "colorbar": {
              "outlinewidth": 0,
              "ticks": ""
             }
            },
            "marker": {
             "colorbar": {
              "outlinewidth": 0,
              "ticks": ""
             }
            },
            "type": "scatter3d"
           }
          ],
          "scattercarpet": [
           {
            "marker": {
             "colorbar": {
              "outlinewidth": 0,
              "ticks": ""
             }
            },
            "type": "scattercarpet"
           }
          ],
          "scattergeo": [
           {
            "marker": {
             "colorbar": {
              "outlinewidth": 0,
              "ticks": ""
             }
            },
            "type": "scattergeo"
           }
          ],
          "scattergl": [
           {
            "marker": {
             "colorbar": {
              "outlinewidth": 0,
              "ticks": ""
             }
            },
            "type": "scattergl"
           }
          ],
          "scattermap": [
           {
            "marker": {
             "colorbar": {
              "outlinewidth": 0,
              "ticks": ""
             }
            },
            "type": "scattermap"
           }
          ],
          "scattermapbox": [
           {
            "marker": {
             "colorbar": {
              "outlinewidth": 0,
              "ticks": ""
             }
            },
            "type": "scattermapbox"
           }
          ],
          "scatterpolar": [
           {
            "marker": {
             "colorbar": {
              "outlinewidth": 0,
              "ticks": ""
             }
            },
            "type": "scatterpolar"
           }
          ],
          "scatterpolargl": [
           {
            "marker": {
             "colorbar": {
              "outlinewidth": 0,
              "ticks": ""
             }
            },
            "type": "scatterpolargl"
           }
          ],
          "scatterternary": [
           {
            "marker": {
             "colorbar": {
              "outlinewidth": 0,
              "ticks": ""
             }
            },
            "type": "scatterternary"
           }
          ],
          "surface": [
           {
            "colorbar": {
             "outlinewidth": 0,
             "ticks": ""
            },
            "colorscale": [
             [
              0,
              "#0d0887"
             ],
             [
              0.1111111111111111,
              "#46039f"
             ],
             [
              0.2222222222222222,
              "#7201a8"
             ],
             [
              0.3333333333333333,
              "#9c179e"
             ],
             [
              0.4444444444444444,
              "#bd3786"
             ],
             [
              0.5555555555555556,
              "#d8576b"
             ],
             [
              0.6666666666666666,
              "#ed7953"
             ],
             [
              0.7777777777777778,
              "#fb9f3a"
             ],
             [
              0.8888888888888888,
              "#fdca26"
             ],
             [
              1,
              "#f0f921"
             ]
            ],
            "type": "surface"
           }
          ],
          "table": [
           {
            "cells": {
             "fill": {
              "color": "#EBF0F8"
             },
             "line": {
              "color": "white"
             }
            },
            "header": {
             "fill": {
              "color": "#C8D4E3"
             },
             "line": {
              "color": "white"
             }
            },
            "type": "table"
           }
          ]
         },
         "layout": {
          "annotationdefaults": {
           "arrowcolor": "#2a3f5f",
           "arrowhead": 0,
           "arrowwidth": 1
          },
          "autotypenumbers": "strict",
          "coloraxis": {
           "colorbar": {
            "outlinewidth": 0,
            "ticks": ""
           }
          },
          "colorscale": {
           "diverging": [
            [
             0,
             "#8e0152"
            ],
            [
             0.1,
             "#c51b7d"
            ],
            [
             0.2,
             "#de77ae"
            ],
            [
             0.3,
             "#f1b6da"
            ],
            [
             0.4,
             "#fde0ef"
            ],
            [
             0.5,
             "#f7f7f7"
            ],
            [
             0.6,
             "#e6f5d0"
            ],
            [
             0.7,
             "#b8e186"
            ],
            [
             0.8,
             "#7fbc41"
            ],
            [
             0.9,
             "#4d9221"
            ],
            [
             1,
             "#276419"
            ]
           ],
           "sequential": [
            [
             0,
             "#0d0887"
            ],
            [
             0.1111111111111111,
             "#46039f"
            ],
            [
             0.2222222222222222,
             "#7201a8"
            ],
            [
             0.3333333333333333,
             "#9c179e"
            ],
            [
             0.4444444444444444,
             "#bd3786"
            ],
            [
             0.5555555555555556,
             "#d8576b"
            ],
            [
             0.6666666666666666,
             "#ed7953"
            ],
            [
             0.7777777777777778,
             "#fb9f3a"
            ],
            [
             0.8888888888888888,
             "#fdca26"
            ],
            [
             1,
             "#f0f921"
            ]
           ],
           "sequentialminus": [
            [
             0,
             "#0d0887"
            ],
            [
             0.1111111111111111,
             "#46039f"
            ],
            [
             0.2222222222222222,
             "#7201a8"
            ],
            [
             0.3333333333333333,
             "#9c179e"
            ],
            [
             0.4444444444444444,
             "#bd3786"
            ],
            [
             0.5555555555555556,
             "#d8576b"
            ],
            [
             0.6666666666666666,
             "#ed7953"
            ],
            [
             0.7777777777777778,
             "#fb9f3a"
            ],
            [
             0.8888888888888888,
             "#fdca26"
            ],
            [
             1,
             "#f0f921"
            ]
           ]
          },
          "colorway": [
           "#636efa",
           "#EF553B",
           "#00cc96",
           "#ab63fa",
           "#FFA15A",
           "#19d3f3",
           "#FF6692",
           "#B6E880",
           "#FF97FF",
           "#FECB52"
          ],
          "font": {
           "color": "#2a3f5f"
          },
          "geo": {
           "bgcolor": "white",
           "lakecolor": "white",
           "landcolor": "#E5ECF6",
           "showlakes": true,
           "showland": true,
           "subunitcolor": "white"
          },
          "hoverlabel": {
           "align": "left"
          },
          "hovermode": "closest",
          "mapbox": {
           "style": "light"
          },
          "paper_bgcolor": "white",
          "plot_bgcolor": "#E5ECF6",
          "polar": {
           "angularaxis": {
            "gridcolor": "white",
            "linecolor": "white",
            "ticks": ""
           },
           "bgcolor": "#E5ECF6",
           "radialaxis": {
            "gridcolor": "white",
            "linecolor": "white",
            "ticks": ""
           }
          },
          "scene": {
           "xaxis": {
            "backgroundcolor": "#E5ECF6",
            "gridcolor": "white",
            "gridwidth": 2,
            "linecolor": "white",
            "showbackground": true,
            "ticks": "",
            "zerolinecolor": "white"
           },
           "yaxis": {
            "backgroundcolor": "#E5ECF6",
            "gridcolor": "white",
            "gridwidth": 2,
            "linecolor": "white",
            "showbackground": true,
            "ticks": "",
            "zerolinecolor": "white"
           },
           "zaxis": {
            "backgroundcolor": "#E5ECF6",
            "gridcolor": "white",
            "gridwidth": 2,
            "linecolor": "white",
            "showbackground": true,
            "ticks": "",
            "zerolinecolor": "white"
           }
          },
          "shapedefaults": {
           "line": {
            "color": "#2a3f5f"
           }
          },
          "ternary": {
           "aaxis": {
            "gridcolor": "white",
            "linecolor": "white",
            "ticks": ""
           },
           "baxis": {
            "gridcolor": "white",
            "linecolor": "white",
            "ticks": ""
           },
           "bgcolor": "#E5ECF6",
           "caxis": {
            "gridcolor": "white",
            "linecolor": "white",
            "ticks": ""
           }
          },
          "title": {
           "x": 0.05
          },
          "xaxis": {
           "automargin": true,
           "gridcolor": "white",
           "linecolor": "white",
           "ticks": "",
           "title": {
            "standoff": 15
           },
           "zerolinecolor": "white",
           "zerolinewidth": 2
          },
          "yaxis": {
           "automargin": true,
           "gridcolor": "white",
           "linecolor": "white",
           "ticks": "",
           "title": {
            "standoff": 15
           },
           "zerolinecolor": "white",
           "zerolinewidth": 2
          }
         }
        },
        "title": {
         "text": "Distribution of Countries by Number of Netflix Shows"
        },
        "xaxis": {
         "anchor": "y",
         "domain": [
          0,
          1
         ],
         "showgrid": true,
         "tickangle": -45,
         "title": {
          "text": "Country"
         }
        },
        "yaxis": {
         "anchor": "x",
         "domain": [
          0,
          1
         ],
         "gridcolor": "lightgray",
         "showgrid": true,
         "title": {
          "text": "Number of Titles"
         }
        }
       }
      }
     },
     "metadata": {},
     "output_type": "display_data"
    }
   ],
   "source": [
    "# Process data\n",
    "country_counts = df['country'].str.split(',').explode('country').value_counts().head(20)\n",
    "\n",
    "# Create Plotly bar chart (equivalent to your histogram)\n",
    "fig = px.bar(\n",
    "    x=country_counts.index,\n",
    "    y=country_counts.values,\n",
    "    labels={'x': 'Country', 'y': 'Number of Titles'},\n",
    "    title='Distribution of Countries by Number of Netflix Shows',\n",
    "    text_auto=True\n",
    ")\n",
    "\n",
    "# Customize layout\n",
    "fig.update_layout(\n",
    "    xaxis_title='Country',\n",
    "    yaxis_title='Number of Titles',\n",
    "    xaxis_tickangle=-45,\n",
    "    bargap=0.1,\n",
    "    plot_bgcolor='white',\n",
    "    xaxis_showgrid=True,\n",
    "    yaxis_showgrid=True,\n",
    "    yaxis_gridcolor='lightgray'\n",
    ")\n",
    "\n",
    "# Show plot\n",
    "fig.show()"
   ]
  },
  {
   "cell_type": "code",
   "execution_count": 94,
   "metadata": {},
   "outputs": [
    {
     "data": {
      "image/png": "[encoded data removed]",
      "text/plain": [
       "<Figure size 1200x600 with 1 Axes>"
      ]
     },
     "metadata": {},
     "output_type": "display_data"
    }
   ],
   "source": [
    "def categorize_year(year):\n",
    "    if year < 2000:\n",
    "        return \"1900s\"\n",
    "    else:\n",
    "        start = (year // 5) * 5\n",
    "        end = start + 4\n",
    "        return f\"{start}-{end}\"\n",
    "\n",
    "df[\"year_group\"] = df[\"release_year\"].apply(categorize_year)\n",
    "\n",
    "rating_year_counts = df.groupby([\"year_group\", \"rating\"]).size().unstack(fill_value=0)\n",
    "\n",
    "year_order = [\"1900s\"] + sorted(\n",
    "    [col for col in rating_year_counts.index if col != \"1900s\"], \n",
    "    key=lambda x: int(x.split(\"-\")[0])\n",
    ")\n",
    "rating_year_counts = rating_year_counts.loc[year_order]\n",
    "\n",
    "colors = plt.cm.Paired.colors\n",
    "\n",
    "plt.figure(figsize=(12, 6))\n",
    "\n",
    "bottom_values = [0] * len(rating_year_counts)\n",
    "\n",
    "for idx, rating in enumerate(rating_year_counts.columns):\n",
    "    plt.bar(\n",
    "        rating_year_counts.index, \n",
    "        rating_year_counts[rating], \n",
    "        bottom=bottom_values, \n",
    "        label=rating, \n",
    "        color=colors[idx % len(colors)]\n",
    "    )\n",
    "\n",
    "    bottom_values += rating_year_counts[rating].values\n",
    "\n",
    "plt.xlabel(\"Release Year Group\")\n",
    "plt.ylabel(\"Number of Shows\")\n",
    "plt.title(\"Number of Shows per Year Group by Rating\")\n",
    "plt.xticks(rotation=45)\n",
    "plt.legend(title=\"Rating\", bbox_to_anchor=(1.05, 1), loc=\"upper left\")\n",
    "\n",
    "plt.show()\n"
   ]
  },
  {
   "cell_type": "code",
   "execution_count": null,
   "metadata": {},
   "outputs": [
    {
     "data": {
      "application/vnd.plotly.v1+json": {
       "config": {
        "plotlyServerURL": "https://plot.ly"
       },
       "data": [
        {
         "name": "66 min",
         "type": "bar",
         "x": [
          "1900s",
          "2000-2004",
          "2005-2009",
          "2010-2014",
          "2015-2019",
          "2020-2024"
         ],
         "y": {
          "bdata": "AAAAAAEA",
          "dtype": "i1"
         }
        },
        {
         "name": "74 min",
         "type": "bar",
         "x": [
          "1900s",
          "2000-2004",
          "2005-2009",
          "2010-2014",
          "2015-2019",
          "2020-2024"
         ],
         "y": {
          "bdata": "AAAAAAEA",
          "dtype": "i1"
         }
        },
        {
         "name": "84 min",
         "type": "bar",
         "x": [
          "1900s",
          "2000-2004",
          "2005-2009",
          "2010-2014",
          "2015-2019",
          "2020-2024"
         ],
         "y": {
          "bdata": "AAAAAQAA",
          "dtype": "i1"
         }
        },
        {
         "name": "G",
         "type": "bar",
         "x": [
          "1900s",
          "2000-2004",
          "2005-2009",
          "2010-2014",
          "2015-2019",
          "2020-2024"
         ],
         "y": {
          "bdata": "EAcHAwcB",
          "dtype": "i1"
         }
        },
        {
         "name": "NC-17",
         "type": "bar",
         "x": [
          "1900s",
          "2000-2004",
          "2005-2009",
          "2010-2014",
          "2015-2019",
          "2020-2024"
         ],
         "y": {
          "bdata": "AAAAAgEA",
          "dtype": "i1"
         }
        },
        {
         "name": "NR",
         "type": "bar",
         "x": [
          "1900s",
          "2000-2004",
          "2005-2009",
          "2010-2014",
          "2015-2019",
          "2020-2024"
         ],
         "y": {
          "bdata": "BwIDGykA",
          "dtype": "i1"
         }
        },
        {
         "name": "PG",
         "type": "bar",
         "x": [
          "1900s",
          "2000-2004",
          "2005-2009",
          "2010-2014",
          "2015-2019",
          "2020-2024"
         ],
         "y": {
          "bdata": "LxorPlMa",
          "dtype": "i1"
         }
        },
        {
         "name": "PG-13",
         "type": "bar",
         "x": [
          "1900s",
          "2000-2004",
          "2005-2009",
          "2010-2014",
          "2015-2019",
          "2020-2024"
         ],
         "y": {
          "bdata": "RQAxAF8AZgCMACMA",
          "dtype": "i2"
         }
        },
        {
         "name": "R",
         "type": "bar",
         "x": [
          "1900s",
          "2000-2004",
          "2005-2009",
          "2010-2014",
          "2015-2019",
          "2020-2024"
         ],
         "y": {
          "bdata": "bwA5AFAApQA9AUUA",
          "dtype": "i2"
         }
        },
        {
         "name": "TV-14",
         "type": "bar",
         "x": [
          "1900s",
          "2000-2004",
          "2005-2009",
          "2010-2014",
          "2015-2019",
          "2020-2024"
         ],
         "y": {
          "bdata": "hQA4AKEAYAFtBEUB",
          "dtype": "i2"
         }
        },
        {
         "name": "TV-G",
         "type": "bar",
         "x": [
          "1900s",
          "2000-2004",
          "2005-2009",
          "2010-2014",
          "2015-2019",
          "2020-2024"
         ],
         "y": {
          "bdata": "DAEFHGxC",
          "dtype": "i1"
         }
        },
        {
         "name": "TV-MA",
         "type": "bar",
         "x": [
          "1900s",
          "2000-2004",
          "2005-2009",
          "2010-2014",
          "2015-2019",
          "2020-2024"
         ],
         "y": {
          "bdata": "QAAcAFUACgHpB+MC",
          "dtype": "i2"
         }
        },
        {
         "name": "TV-PG",
         "type": "bar",
         "x": [
          "1900s",
          "2000-2004",
          "2005-2009",
          "2010-2014",
          "2015-2019",
          "2020-2024"
         ],
         "y": {
          "bdata": "NgAWADMAiQDaAX0A",
          "dtype": "i2"
         }
        },
        {
         "name": "TV-Y",
         "type": "bar",
         "x": [
          "1900s",
          "2000-2004",
          "2005-2009",
          "2010-2014",
          "2015-2019",
          "2020-2024"
         ],
         "y": {
          "bdata": "AgACAAQAKQCtAFUA",
          "dtype": "i2"
         }
        },
        {
         "name": "TV-Y7",
         "type": "bar",
         "x": [
          "1900s",
          "2000-2004",
          "2005-2009",
          "2010-2014",
          "2015-2019",
          "2020-2024"
         ],
         "y": {
          "bdata": "CQAIABEAQgCgAEoA",
          "dtype": "i2"
         }
        },
        {
         "name": "TV-Y7-FV",
         "type": "bar",
         "x": [
          "1900s",
          "2000-2004",
          "2005-2009",
          "2010-2014",
          "2015-2019",
          "2020-2024"
         ],
         "y": {
          "bdata": "AAAAAwMA",
          "dtype": "i1"
         }
        },
        {
         "name": "UR",
         "type": "bar",
         "x": [
          "1900s",
          "2000-2004",
          "2005-2009",
          "2010-2014",
          "2015-2019",
          "2020-2024"
         ],
         "y": {
          "bdata": "AQABAAEA",
          "dtype": "i1"
         }
        }
       ],
       "layout": {
        "barmode": "stack",
        "legend": {
         "title": {
          "text": "Rating"
         }
        },
        "template": {
         "data": {
          "bar": [
           {
            "error_x": {
             "color": "#2a3f5f"
            },
            "error_y": {
             "color": "#2a3f5f"
            },
            "marker": {
             "line": {
              "color": "#E5ECF6",
              "width": 0.5
             },
             "pattern": {
              "fillmode": "overlay",
              "size": 10,
              "solidity": 0.2
             }
            },
            "type": "bar"
           }
          ],
          "barpolar": [
           {
            "marker": {
             "line": {
              "color": "#E5ECF6",
              "width": 0.5
             },
             "pattern": {
              "fillmode": "overlay",
              "size": 10,
              "solidity": 0.2
             }
            },
            "type": "barpolar"
           }
          ],
          "carpet": [
           {
            "aaxis": {
             "endlinecolor": "#2a3f5f",
             "gridcolor": "white",
             "linecolor": "white",
             "minorgridcolor": "white",
             "startlinecolor": "#2a3f5f"
            },
            "baxis": {
             "endlinecolor": "#2a3f5f",
             "gridcolor": "white",
             "linecolor": "white",
             "minorgridcolor": "white",
             "startlinecolor": "#2a3f5f"
            },
            "type": "carpet"
           }
          ],
          "choropleth": [
           {
            "colorbar": {
             "outlinewidth": 0,
             "ticks": ""
            },
            "type": "choropleth"
           }
          ],
          "contour": [
           {
            "colorbar": {
             "outlinewidth": 0,
             "ticks": ""
            },
            "colorscale": [
             [
              0,
              "#0d0887"
             ],
             [
              0.1111111111111111,
              "#46039f"
             ],
             [
              0.2222222222222222,
              "#7201a8"
             ],
             [
              0.3333333333333333,
              "#9c179e"
             ],
             [
              0.4444444444444444,
              "#bd3786"
             ],
             [
              0.5555555555555556,
              "#d8576b"
             ],
             [
              0.6666666666666666,
              "#ed7953"
             ],
             [
              0.7777777777777778,
              "#fb9f3a"
             ],
             [
              0.8888888888888888,
              "#fdca26"
             ],
             [
              1,
              "#f0f921"
             ]
            ],
            "type": "contour"
           }
          ],
          "contourcarpet": [
           {
            "colorbar": {
             "outlinewidth": 0,
             "ticks": ""
            },
            "type": "contourcarpet"
           }
          ],
          "heatmap": [
           {
            "colorbar": {
             "outlinewidth": 0,
             "ticks": ""
            },
            "colorscale": [
             [
              0,
              "#0d0887"
             ],
             [
              0.1111111111111111,
              "#46039f"
             ],
             [
              0.2222222222222222,
              "#7201a8"
             ],
             [
              0.3333333333333333,
              "#9c179e"
             ],
             [
              0.4444444444444444,
              "#bd3786"
             ],
             [
              0.5555555555555556,
              "#d8576b"
             ],
             [
              0.6666666666666666,
              "#ed7953"
             ],
             [
              0.7777777777777778,
              "#fb9f3a"
             ],
             [
              0.8888888888888888,
              "#fdca26"
             ],
             [
              1,
              "#f0f921"
             ]
            ],
            "type": "heatmap"
           }
          ],
          "histogram": [
           {
            "marker": {
             "pattern": {
              "fillmode": "overlay",
              "size": 10,
              "solidity": 0.2
             }
            },
            "type": "histogram"
           }
          ],
          "histogram2d": [
           {
            "colorbar": {
             "outlinewidth": 0,
             "ticks": ""
            },
            "colorscale": [
             [
              0,
              "#0d0887"
             ],
             [
              0.1111111111111111,
              "#46039f"
             ],
             [
              0.2222222222222222,
              "#7201a8"
             ],
             [
              0.3333333333333333,
              "#9c179e"
             ],
             [
              0.4444444444444444,
              "#bd3786"
             ],
             [
              0.5555555555555556,
              "#d8576b"
             ],
             [
              0.6666666666666666,
              "#ed7953"
             ],
             [
              0.7777777777777778,
              "#fb9f3a"
             ],
             [
              0.8888888888888888,
              "#fdca26"
             ],
             [
              1,
              "#f0f921"
             ]
            ],
            "type": "histogram2d"
           }
          ],
          "histogram2dcontour": [
           {
            "colorbar": {
             "outlinewidth": 0,
             "ticks": ""
            },
            "colorscale": [
             [
              0,
              "#0d0887"
             ],
             [
              0.1111111111111111,
              "#46039f"
             ],
             [
              0.2222222222222222,
              "#7201a8"
             ],
             [
              0.3333333333333333,
              "#9c179e"
             ],
             [
              0.4444444444444444,
              "#bd3786"
             ],
             [
              0.5555555555555556,
              "#d8576b"
             ],
             [
              0.6666666666666666,
              "#ed7953"
             ],
             [
              0.7777777777777778,
              "#fb9f3a"
             ],
             [
              0.8888888888888888,
              "#fdca26"
             ],
             [
              1,
              "#f0f921"
             ]
            ],
            "type": "histogram2dcontour"
           }
          ],
          "mesh3d": [
           {
            "colorbar": {
             "outlinewidth": 0,
             "ticks": ""
            },
            "type": "mesh3d"
           }
          ],
          "parcoords": [
           {
            "line": {
             "colorbar": {
              "outlinewidth": 0,
              "ticks": ""
             }
            },
            "type": "parcoords"
           }
          ],
          "pie": [
           {
            "automargin": true,
            "type": "pie"
           }
          ],
          "scatter": [
           {
            "fillpattern": {
             "fillmode": "overlay",
             "size": 10,
             "solidity": 0.2
            },
            "type": "scatter"
           }
          ],
          "scatter3d": [
           {
            "line": {
             "colorbar": {
              "outlinewidth": 0,
              "ticks": ""
             }
            },
            "marker": {
             "colorbar": {
              "outlinewidth": 0,
              "ticks": ""
             }
            },
            "type": "scatter3d"
           }
          ],
          "scattercarpet": [
           {
            "marker": {
             "colorbar": {
              "outlinewidth": 0,
              "ticks": ""
             }
            },
            "type": "scattercarpet"
           }
          ],
          "scattergeo": [
           {
            "marker": {
             "colorbar": {
              "outlinewidth": 0,
              "ticks": ""
             }
            },
            "type": "scattergeo"
           }
          ],
          "scattergl": [
           {
            "marker": {
             "colorbar": {
              "outlinewidth": 0,
              "ticks": ""
             }
            },
            "type": "scattergl"
           }
          ],
          "scattermap": [
           {
            "marker": {
             "colorbar": {
              "outlinewidth": 0,
              "ticks": ""
             }
            },
            "type": "scattermap"
           }
          ],
          "scattermapbox": [
           {
            "marker": {
             "colorbar": {
              "outlinewidth": 0,
              "ticks": ""
             }
            },
            "type": "scattermapbox"
           }
          ],
          "scatterpolar": [
           {
            "marker": {
             "colorbar": {
              "outlinewidth": 0,
              "ticks": ""
             }
            },
            "type": "scatterpolar"
           }
          ],
          "scatterpolargl": [
           {
            "marker": {
             "colorbar": {
              "outlinewidth": 0,
              "ticks": ""
             }
            },
            "type": "scatterpolargl"
           }
          ],
          "scatterternary": [
           {
            "marker": {
             "colorbar": {
              "outlinewidth": 0,
              "ticks": ""
             }
            },
            "type": "scatterternary"
           }
          ],
          "surface": [
           {
            "colorbar": {
             "outlinewidth": 0,
             "ticks": ""
            },
            "colorscale": [
             [
              0,
              "#0d0887"
             ],
             [
              0.1111111111111111,
              "#46039f"
             ],
             [
              0.2222222222222222,
              "#7201a8"
             ],
             [
              0.3333333333333333,
              "#9c179e"
             ],
             [
              0.4444444444444444,
              "#bd3786"
             ],
             [
              0.5555555555555556,
              "#d8576b"
             ],
             [
              0.6666666666666666,
              "#ed7953"
             ],
             [
              0.7777777777777778,
              "#fb9f3a"
             ],
             [
              0.8888888888888888,
              "#fdca26"
             ],
             [
              1,
              "#f0f921"
             ]
            ],
            "type": "surface"
           }
          ],
          "table": [
           {
            "cells": {
             "fill": {
              "color": "#EBF0F8"
             },
             "line": {
              "color": "white"
             }
            },
            "header": {
             "fill": {
              "color": "#C8D4E3"
             },
             "line": {
              "color": "white"
             }
            },
            "type": "table"
           }
          ]
         },
         "layout": {
          "annotationdefaults": {
           "arrowcolor": "#2a3f5f",
           "arrowhead": 0,
           "arrowwidth": 1
          },
          "autotypenumbers": "strict",
          "coloraxis": {
           "colorbar": {
            "outlinewidth": 0,
            "ticks": ""
           }
          },
          "colorscale": {
           "diverging": [
            [
             0,
             "#8e0152"
            ],
            [
             0.1,
             "#c51b7d"
            ],
            [
             0.2,
             "#de77ae"
            ],
            [
             0.3,
             "#f1b6da"
            ],
            [
             0.4,
             "#fde0ef"
            ],
            [
             0.5,
             "#f7f7f7"
            ],
            [
             0.6,
             "#e6f5d0"
            ],
            [
             0.7,
             "#b8e186"
            ],
            [
             0.8,
             "#7fbc41"
            ],
            [
             0.9,
             "#4d9221"
            ],
            [
             1,
             "#276419"
            ]
           ],
           "sequential": [
            [
             0,
             "#0d0887"
            ],
            [
             0.1111111111111111,
             "#46039f"
            ],
            [
             0.2222222222222222,
             "#7201a8"
            ],
            [
             0.3333333333333333,
             "#9c179e"
            ],
            [
             0.4444444444444444,
             "#bd3786"
            ],
            [
             0.5555555555555556,
             "#d8576b"
            ],
            [
             0.6666666666666666,
             "#ed7953"
            ],
            [
             0.7777777777777778,
             "#fb9f3a"
            ],
            [
             0.8888888888888888,
             "#fdca26"
            ],
            [
             1,
             "#f0f921"
            ]
           ],
           "sequentialminus": [
            [
             0,
             "#0d0887"
            ],
            [
             0.1111111111111111,
             "#46039f"
            ],
            [
             0.2222222222222222,
             "#7201a8"
            ],
            [
             0.3333333333333333,
             "#9c179e"
            ],
            [
             0.4444444444444444,
             "#bd3786"
            ],
            [
             0.5555555555555556,
             "#d8576b"
            ],
            [
             0.6666666666666666,
             "#ed7953"
            ],
            [
             0.7777777777777778,
             "#fb9f3a"
            ],
            [
             0.8888888888888888,
             "#fdca26"
            ],
            [
             1,
             "#f0f921"
            ]
           ]
          },
          "colorway": [
           "#636efa",
           "#EF553B",
           "#00cc96",
           "#ab63fa",
           "#FFA15A",
           "#19d3f3",
           "#FF6692",
           "#B6E880",
           "#FF97FF",
           "#FECB52"
          ],
          "font": {
           "color": "#2a3f5f"
          },
          "geo": {
           "bgcolor": "white",
           "lakecolor": "white",
           "landcolor": "#E5ECF6",
           "showlakes": true,
           "showland": true,
           "subunitcolor": "white"
          },
          "hoverlabel": {
           "align": "left"
          },
          "hovermode": "closest",
          "mapbox": {
           "style": "light"
          },
          "paper_bgcolor": "white",
          "plot_bgcolor": "#E5ECF6",
          "polar": {
           "angularaxis": {
            "gridcolor": "white",
            "linecolor": "white",
            "ticks": ""
           },
           "bgcolor": "#E5ECF6",
           "radialaxis": {
            "gridcolor": "white",
            "linecolor": "white",
            "ticks": ""
           }
          },
          "scene": {
           "xaxis": {
            "backgroundcolor": "#E5ECF6",
            "gridcolor": "white",
            "gridwidth": 2,
            "linecolor": "white",
            "showbackground": true,
            "ticks": "",
            "zerolinecolor": "white"
           },
           "yaxis": {
            "backgroundcolor": "#E5ECF6",
            "gridcolor": "white",
            "gridwidth": 2,
            "linecolor": "white",
            "showbackground": true,
            "ticks": "",
            "zerolinecolor": "white"
           },
           "zaxis": {
            "backgroundcolor": "#E5ECF6",
            "gridcolor": "white",
            "gridwidth": 2,
            "linecolor": "white",
            "showbackground": true,
            "ticks": "",
            "zerolinecolor": "white"
           }
          },
          "shapedefaults": {
           "line": {
            "color": "#2a3f5f"
           }
          },
          "ternary": {
           "aaxis": {
            "gridcolor": "white",
            "linecolor": "white",
            "ticks": ""
           },
           "baxis": {
            "gridcolor": "white",
            "linecolor": "white",
            "ticks": ""
           },
           "bgcolor": "#E5ECF6",
           "caxis": {
            "gridcolor": "white",
            "linecolor": "white",
            "ticks": ""
           }
          },
          "title": {
           "x": 0.05
          },
          "xaxis": {
           "automargin": true,
           "gridcolor": "white",
           "linecolor": "white",
           "ticks": "",
           "title": {
            "standoff": 15
           },
           "zerolinecolor": "white",
           "zerolinewidth": 2
          },
          "yaxis": {
           "automargin": true,
           "gridcolor": "white",
           "linecolor": "white",
           "ticks": "",
           "title": {
            "standoff": 15
           },
           "zerolinecolor": "white",
           "zerolinewidth": 2
          }
         }
        },
        "title": {
         "text": "Stacked Bar Chart: Number of Shows per Year Group by Rating"
        },
        "xaxis": {
         "tickangle": -45,
         "title": {
          "text": "Release Year Group"
         }
        },
        "yaxis": {
         "title": {
          "text": "Number of Shows"
         }
        }
       }
      }
     },
     "metadata": {},
     "output_type": "display_data"
    }
   ],
   "source": [
    "def categorize_year(year):\n",
    "    if year < 2000:\n",
    "        return \"1900s\"\n",
    "    else:\n",
    "        start = (year // 5) * 5\n",
    "        end = start + 4\n",
    "        return f\"{start}-{end}\"\n",
    "\n",
    "df[\"year_group\"] = df[\"release_year\"].apply(categorize_year)\n",
    "\n",
    "rating_year_counts = df.groupby([\"year_group\", \"rating\"]).size().unstack(fill_value=0)\n",
    "\n",
    "year_order = [\"1900s\"] + sorted(\n",
    "    [col for col in rating_year_counts.index if col != \"1900s\"], \n",
    "    key=lambda x: int(x.split(\"-\")[0])\n",
    ")\n",
    "rating_year_counts = rating_year_counts.loc[year_order]\n",
    "\n",
    "fig = go.Figure()\n",
    "\n",
    "bottom_values = [0] * len(rating_year_counts)\n",
    "\n",
    "for idx, rating in enumerate(rating_year_counts.columns):\n",
    "    fig.add_trace(go.Bar(\n",
    "        x=rating_year_counts.index,\n",
    "        y=rating_year_counts[rating],\n",
    "        name=rating\n",
    "    ))\n",
    "\n",
    "fig.update_layout(\n",
    "    barmode='stack',\n",
    "    xaxis_title=\"Release Year Group\",\n",
    "    yaxis_title=\"Number of Shows\",\n",
    "    title=\"Stacked Bar Chart: Number of Shows per Year Group by Rating\",\n",
    "    xaxis=dict(tickangle=-45),\n",
    "    legend_title=\"Rating\"\n",
    ")\n",
    "\n",
    "fig.show()\n"
   ]
  },
  {
   "cell_type": "markdown",
   "metadata": {},
   "source": [
    "# Task 3"
   ]
  },
  {
   "cell_type": "code",
   "execution_count": 112,
   "metadata": {},
   "outputs": [
    {
     "data": {
      "image/png": "[encoded data removed]",
      "text/plain": [
       "<Figure size 600x500 with 1 Axes>"
      ]
     },
     "metadata": {},
     "output_type": "display_data"
    }
   ],
   "source": [
    "top_words = (\n",
    "    df['title']\n",
    "    .str.lower()\n",
    "    .str.replace(r'[^a-z\\s]', '', regex=True)\n",
    "    .str.split()\n",
    "    .explode()\n",
    "    .value_counts()\n",
    "    .head(5)\n",
    ")\n",
    "\n",
    "plt.figure(figsize=(6, 5))\n",
    "plt.bar(top_words.index, top_words.values, color='skyblue')\n",
    "\n",
    "plt.xlabel('Word')\n",
    "plt.ylabel('Frequency')\n",
    "plt.title('Top 5 Most Common Words in Netflix Titles')\n",
    "\n",
    "plt.xticks(fontsize=10)\n",
    "plt.grid(axis='y', linestyle='--', alpha=0.7)\n",
    "plt.show()"
   ]
  },
  {
   "cell_type": "code",
   "execution_count": 93,
   "metadata": {},
   "outputs": [
    {
     "data": {
      "application/vnd.plotly.v1+json": {
       "config": {
        "plotlyServerURL": "https://plot.ly"
       },
       "data": [
        {
         "hovertemplate": "x=%{x}<br>y=%{y}<br>text=%{text}<br>color=%{marker.color}<extra></extra>",
         "legendgroup": "",
         "marker": {
          "color": {
           "bdata": "tgjEAmIBIAHsAA==",
           "dtype": "i2"
          },
          "coloraxis": "coloraxis",
          "pattern": {
           "shape": ""
          }
         },
         "name": "",
         "orientation": "v",
         "showlegend": false,
         "text": {
          "bdata": "AAAAAABsoUAAAAAAACCGQAAAAAAAIHZAAAAAAAAAckAAAAAAAIBtQA==",
          "dtype": "f8"
         },
         "textposition": "auto",
         "type": "bar",
         "x": [
          "the",
          "of",
          "a",
          "in",
          "and"
         ],
         "xaxis": "x",
         "y": {
          "bdata": "tgjEAmIBIAHsAA==",
          "dtype": "i2"
         },
         "yaxis": "y"
        }
       ],
       "layout": {
        "barmode": "relative",
        "coloraxis": {
         "colorbar": {
          "title": {
           "text": "color"
          }
         },
         "colorscale": [
          [
           0,
           "rgb(247,251,255)"
          ],
          [
           0.125,
           "rgb(222,235,247)"
          ],
          [
           0.25,
           "rgb(198,219,239)"
          ],
          [
           0.375,
           "rgb(158,202,225)"
          ],
          [
           0.5,
           "rgb(107,174,214)"
          ],
          [
           0.625,
           "rgb(66,146,198)"
          ],
          [
           0.75,
           "rgb(33,113,181)"
          ],
          [
           0.875,
           "rgb(8,81,156)"
          ],
          [
           1,
           "rgb(8,48,107)"
          ]
         ]
        },
        "legend": {
         "tracegroupgap": 0
        },
        "template": {
         "data": {
          "bar": [
           {
            "error_x": {
             "color": "#2a3f5f"
            },
            "error_y": {
             "color": "#2a3f5f"
            },
            "marker": {
             "line": {
              "color": "#E5ECF6",
              "width": 0.5
             },
             "pattern": {
              "fillmode": "overlay",
              "size": 10,
              "solidity": 0.2
             }
            },
            "type": "bar"
           }
          ],
          "barpolar": [
           {
            "marker": {
             "line": {
              "color": "#E5ECF6",
              "width": 0.5
             },
             "pattern": {
              "fillmode": "overlay",
              "size": 10,
              "solidity": 0.2
             }
            },
            "type": "barpolar"
           }
          ],
          "carpet": [
           {
            "aaxis": {
             "endlinecolor": "#2a3f5f",
             "gridcolor": "white",
             "linecolor": "white",
             "minorgridcolor": "white",
             "startlinecolor": "#2a3f5f"
            },
            "baxis": {
             "endlinecolor": "#2a3f5f",
             "gridcolor": "white",
             "linecolor": "white",
             "minorgridcolor": "white",
             "startlinecolor": "#2a3f5f"
            },
            "type": "carpet"
           }
          ],
          "choropleth": [
           {
            "colorbar": {
             "outlinewidth": 0,
             "ticks": ""
            },
            "type": "choropleth"
           }
          ],
          "contour": [
           {
            "colorbar": {
             "outlinewidth": 0,
             "ticks": ""
            },
            "colorscale": [
             [
              0,
              "#0d0887"
             ],
             [
              0.1111111111111111,
              "#46039f"
             ],
             [
              0.2222222222222222,
              "#7201a8"
             ],
             [
              0.3333333333333333,
              "#9c179e"
             ],
             [
              0.4444444444444444,
              "#bd3786"
             ],
             [
              0.5555555555555556,
              "#d8576b"
             ],
             [
              0.6666666666666666,
              "#ed7953"
             ],
             [
              0.7777777777777778,
              "#fb9f3a"
             ],
             [
              0.8888888888888888,
              "#fdca26"
             ],
             [
              1,
              "#f0f921"
             ]
            ],
            "type": "contour"
           }
          ],
          "contourcarpet": [
           {
            "colorbar": {
             "outlinewidth": 0,
             "ticks": ""
            },
            "type": "contourcarpet"
           }
          ],
          "heatmap": [
           {
            "colorbar": {
             "outlinewidth": 0,
             "ticks": ""
            },
            "colorscale": [
             [
              0,
              "#0d0887"
             ],
             [
              0.1111111111111111,
              "#46039f"
             ],
             [
              0.2222222222222222,
              "#7201a8"
             ],
             [
              0.3333333333333333,
              "#9c179e"
             ],
             [
              0.4444444444444444,
              "#bd3786"
             ],
             [
              0.5555555555555556,
              "#d8576b"
             ],
             [
              0.6666666666666666,
              "#ed7953"
             ],
             [
              0.7777777777777778,
              "#fb9f3a"
             ],
             [
              0.8888888888888888,
              "#fdca26"
             ],
             [
              1,
              "#f0f921"
             ]
            ],
            "type": "heatmap"
           }
          ],
          "histogram": [
           {
            "marker": {
             "pattern": {
              "fillmode": "overlay",
              "size": 10,
              "solidity": 0.2
             }
            },
            "type": "histogram"
           }
          ],
          "histogram2d": [
           {
            "colorbar": {
             "outlinewidth": 0,
             "ticks": ""
            },
            "colorscale": [
             [
              0,
              "#0d0887"
             ],
             [
              0.1111111111111111,
              "#46039f"
             ],
             [
              0.2222222222222222,
              "#7201a8"
             ],
             [
              0.3333333333333333,
              "#9c179e"
             ],
             [
              0.4444444444444444,
              "#bd3786"
             ],
             [
              0.5555555555555556,
              "#d8576b"
             ],
             [
              0.6666666666666666,
              "#ed7953"
             ],
             [
              0.7777777777777778,
              "#fb9f3a"
             ],
             [
              0.8888888888888888,
              "#fdca26"
             ],
             [
              1,
              "#f0f921"
             ]
            ],
            "type": "histogram2d"
           }
          ],
          "histogram2dcontour": [
           {
            "colorbar": {
             "outlinewidth": 0,
             "ticks": ""
            },
            "colorscale": [
             [
              0,
              "#0d0887"
             ],
             [
              0.1111111111111111,
              "#46039f"
             ],
             [
              0.2222222222222222,
              "#7201a8"
             ],
             [
              0.3333333333333333,
              "#9c179e"
             ],
             [
              0.4444444444444444,
              "#bd3786"
             ],
             [
              0.5555555555555556,
              "#d8576b"
             ],
             [
              0.6666666666666666,
              "#ed7953"
             ],
             [
              0.7777777777777778,
              "#fb9f3a"
             ],
             [
              0.8888888888888888,
              "#fdca26"
             ],
             [
              1,
              "#f0f921"
             ]
            ],
            "type": "histogram2dcontour"
           }
          ],
          "mesh3d": [
           {
            "colorbar": {
             "outlinewidth": 0,
             "ticks": ""
            },
            "type": "mesh3d"
           }
          ],
          "parcoords": [
           {
            "line": {
             "colorbar": {
              "outlinewidth": 0,
              "ticks": ""
             }
            },
            "type": "parcoords"
           }
          ],
          "pie": [
           {
            "automargin": true,
            "type": "pie"
           }
          ],
          "scatter": [
           {
            "fillpattern": {
             "fillmode": "overlay",
             "size": 10,
             "solidity": 0.2
            },
            "type": "scatter"
           }
          ],
          "scatter3d": [
           {
            "line": {
             "colorbar": {
              "outlinewidth": 0,
              "ticks": ""
             }
            },
            "marker": {
             "colorbar": {
              "outlinewidth": 0,
              "ticks": ""
             }
            },
            "type": "scatter3d"
           }
          ],
          "scattercarpet": [
           {
            "marker": {
             "colorbar": {
              "outlinewidth": 0,
              "ticks": ""
             }
            },
            "type": "scattercarpet"
           }
          ],
          "scattergeo": [
           {
            "marker": {
             "colorbar": {
              "outlinewidth": 0,
              "ticks": ""
             }
            },
            "type": "scattergeo"
           }
          ],
          "scattergl": [
           {
            "marker": {
             "colorbar": {
              "outlinewidth": 0,
              "ticks": ""
             }
            },
            "type": "scattergl"
           }
          ],
          "scattermap": [
           {
            "marker": {
             "colorbar": {
              "outlinewidth": 0,
              "ticks": ""
             }
            },
            "type": "scattermap"
           }
          ],
          "scattermapbox": [
           {
            "marker": {
             "colorbar": {
              "outlinewidth": 0,
              "ticks": ""
             }
            },
            "type": "scattermapbox"
           }
          ],
          "scatterpolar": [
           {
            "marker": {
             "colorbar": {
              "outlinewidth": 0,
              "ticks": ""
             }
            },
            "type": "scatterpolar"
           }
          ],
          "scatterpolargl": [
           {
            "marker": {
             "colorbar": {
              "outlinewidth": 0,
              "ticks": ""
             }
            },
            "type": "scatterpolargl"
           }
          ],
          "scatterternary": [
           {
            "marker": {
             "colorbar": {
              "outlinewidth": 0,
              "ticks": ""
             }
            },
            "type": "scatterternary"
           }
          ],
          "surface": [
           {
            "colorbar": {
             "outlinewidth": 0,
             "ticks": ""
            },
            "colorscale": [
             [
              0,
              "#0d0887"
             ],
             [
              0.1111111111111111,
              "#46039f"
             ],
             [
              0.2222222222222222,
              "#7201a8"
             ],
             [
              0.3333333333333333,
              "#9c179e"
             ],
             [
              0.4444444444444444,
              "#bd3786"
             ],
             [
              0.5555555555555556,
              "#d8576b"
             ],
             [
              0.6666666666666666,
              "#ed7953"
             ],
             [
              0.7777777777777778,
              "#fb9f3a"
             ],
             [
              0.8888888888888888,
              "#fdca26"
             ],
             [
              1,
              "#f0f921"
             ]
            ],
            "type": "surface"
           }
          ],
          "table": [
           {
            "cells": {
             "fill": {
              "color": "#EBF0F8"
             },
             "line": {
              "color": "white"
             }
            },
            "header": {
             "fill": {
              "color": "#C8D4E3"
             },
             "line": {
              "color": "white"
             }
            },
            "type": "table"
           }
          ]
         },
         "layout": {
          "annotationdefaults": {
           "arrowcolor": "#2a3f5f",
           "arrowhead": 0,
           "arrowwidth": 1
          },
          "autotypenumbers": "strict",
          "coloraxis": {
           "colorbar": {
            "outlinewidth": 0,
            "ticks": ""
           }
          },
          "colorscale": {
           "diverging": [
            [
             0,
             "#8e0152"
            ],
            [
             0.1,
             "#c51b7d"
            ],
            [
             0.2,
             "#de77ae"
            ],
            [
             0.3,
             "#f1b6da"
            ],
            [
             0.4,
             "#fde0ef"
            ],
            [
             0.5,
             "#f7f7f7"
            ],
            [
             0.6,
             "#e6f5d0"
            ],
            [
             0.7,
             "#b8e186"
            ],
            [
             0.8,
             "#7fbc41"
            ],
            [
             0.9,
             "#4d9221"
            ],
            [
             1,
             "#276419"
            ]
           ],
           "sequential": [
            [
             0,
             "#0d0887"
            ],
            [
             0.1111111111111111,
             "#46039f"
            ],
            [
             0.2222222222222222,
             "#7201a8"
            ],
            [
             0.3333333333333333,
             "#9c179e"
            ],
            [
             0.4444444444444444,
             "#bd3786"
            ],
            [
             0.5555555555555556,
             "#d8576b"
            ],
            [
             0.6666666666666666,
             "#ed7953"
            ],
            [
             0.7777777777777778,
             "#fb9f3a"
            ],
            [
             0.8888888888888888,
             "#fdca26"
            ],
            [
             1,
             "#f0f921"
            ]
           ],
           "sequentialminus": [
            [
             0,
             "#0d0887"
            ],
            [
             0.1111111111111111,
             "#46039f"
            ],
            [
             0.2222222222222222,
             "#7201a8"
            ],
            [
             0.3333333333333333,
             "#9c179e"
            ],
            [
             0.4444444444444444,
             "#bd3786"
            ],
            [
             0.5555555555555556,
             "#d8576b"
            ],
            [
             0.6666666666666666,
             "#ed7953"
            ],
            [
             0.7777777777777778,
             "#fb9f3a"
            ],
            [
             0.8888888888888888,
             "#fdca26"
            ],
            [
             1,
             "#f0f921"
            ]
           ]
          },
          "colorway": [
           "#636efa",
           "#EF553B",
           "#00cc96",
           "#ab63fa",
           "#FFA15A",
           "#19d3f3",
           "#FF6692",
           "#B6E880",
           "#FF97FF",
           "#FECB52"
          ],
          "font": {
           "color": "#2a3f5f"
          },
          "geo": {
           "bgcolor": "white",
           "lakecolor": "white",
           "landcolor": "#E5ECF6",
           "showlakes": true,
           "showland": true,
           "subunitcolor": "white"
          },
          "hoverlabel": {
           "align": "left"
          },
          "hovermode": "closest",
          "mapbox": {
           "style": "light"
          },
          "paper_bgcolor": "white",
          "plot_bgcolor": "#E5ECF6",
          "polar": {
           "angularaxis": {
            "gridcolor": "white",
            "linecolor": "white",
            "ticks": ""
           },
           "bgcolor": "#E5ECF6",
           "radialaxis": {
            "gridcolor": "white",
            "linecolor": "white",
            "ticks": ""
           }
          },
          "scene": {
           "xaxis": {
            "backgroundcolor": "#E5ECF6",
            "gridcolor": "white",
            "gridwidth": 2,
            "linecolor": "white",
            "showbackground": true,
            "ticks": "",
            "zerolinecolor": "white"
           },
           "yaxis": {
            "backgroundcolor": "#E5ECF6",
            "gridcolor": "white",
            "gridwidth": 2,
            "linecolor": "white",
            "showbackground": true,
            "ticks": "",
            "zerolinecolor": "white"
           },
           "zaxis": {
            "backgroundcolor": "#E5ECF6",
            "gridcolor": "white",
            "gridwidth": 2,
            "linecolor": "white",
            "showbackground": true,
            "ticks": "",
            "zerolinecolor": "white"
           }
          },
          "shapedefaults": {
           "line": {
            "color": "#2a3f5f"
           }
          },
          "ternary": {
           "aaxis": {
            "gridcolor": "white",
            "linecolor": "white",
            "ticks": ""
           },
           "baxis": {
            "gridcolor": "white",
            "linecolor": "white",
            "ticks": ""
           },
           "bgcolor": "#E5ECF6",
           "caxis": {
            "gridcolor": "white",
            "linecolor": "white",
            "ticks": ""
           }
          },
          "title": {
           "x": 0.05
          },
          "xaxis": {
           "automargin": true,
           "gridcolor": "white",
           "linecolor": "white",
           "ticks": "",
           "title": {
            "standoff": 15
           },
           "zerolinecolor": "white",
           "zerolinewidth": 2
          },
          "yaxis": {
           "automargin": true,
           "gridcolor": "white",
           "linecolor": "white",
           "ticks": "",
           "title": {
            "standoff": 15
           },
           "zerolinecolor": "white",
           "zerolinewidth": 2
          }
         }
        },
        "title": {
         "text": "Top 5 Most Common Words in Netflix Titles"
        },
        "uniformtext": {
         "minsize": 8,
         "mode": "hide"
        },
        "xaxis": {
         "anchor": "y",
         "domain": [
          0,
          1
         ],
         "tickfont": {
          "size": 10
         },
         "title": {
          "text": "Word"
         }
        },
        "yaxis": {
         "anchor": "x",
         "domain": [
          0,
          1
         ],
         "gridcolor": "lightgray",
         "griddash": "dash",
         "showgrid": true,
         "title": {
          "text": "Frequency"
         }
        }
       }
      }
     },
     "metadata": {},
     "output_type": "display_data"
    }
   ],
   "source": [
    "top_words = (\n",
    "    df['title']\n",
    "    .str.lower()\n",
    "    .str.replace(r'[^a-z\\s]', '', regex=True)\n",
    "    .str.split()\n",
    "    .explode()\n",
    "    .value_counts()\n",
    "    .head(5)\n",
    ")\n",
    "\n",
    "fig = px.bar(x = top_words.index,\n",
    "             y = top_words.values,\n",
    "             title='Top 5 Most Common Words in Netflix Titles',\n",
    "             text=top_words.values,\n",
    "             color=top_words.values,\n",
    "             color_continuous_scale='blues'\n",
    ")\n",
    "\n",
    "fig.update_layout(\n",
    "    xaxis_title='Word',\n",
    "    yaxis_title='Frequency',\n",
    "    xaxis=dict(tickfont=dict(size=10)),\n",
    "    yaxis=dict(showgrid=True, gridcolor=\"lightgray\", griddash=\"dash\"),\n",
    "    uniformtext_minsize=8,\n",
    "    uniformtext_mode='hide',\n",
    ")\n",
    "fig.show()\n"
   ]
  },
  {
   "cell_type": "code",
   "execution_count": 77,
   "metadata": {},
   "outputs": [
    {
     "data": {
      "image/png": "[encoded data removed]",
      "text/plain": [
       "<Figure size 1200x600 with 1 Axes>"
      ]
     },
     "metadata": {},
     "output_type": "display_data"
    }
   ],
   "source": [
    "df[\"title_length\"] = df[\"title\"].str.len()\n",
    "\n",
    "plt.figure(figsize=(12, 6))\n",
    "\n",
    "plt.scatter(x=df['release_year'], \n",
    "            y=df['title_length'], \n",
    "            color='skyblue', \n",
    "            alpha=0.6,\n",
    "            s=20)\n",
    "\n",
    "plt.xlabel('Release Year', fontsize=12)\n",
    "plt.ylabel('Title Length', fontsize=12)\n",
    "plt.title('Title Length vs. Release Year', fontsize=14, fontweight='bold')\n",
    "\n",
    "plt.xticks(rotation=45)\n",
    "\n",
    "plt.grid(axis='y', linestyle='--', alpha=0.7)\n",
    "\n",
    "plt.show()"
   ]
  },
  {
   "cell_type": "code",
   "execution_count": 118,
   "metadata": {},
   "outputs": [
    {
     "data": {
      "application/vnd.plotly.v1+json": {
       "config": {
        "plotlyServerURL": "https://plot.ly"
       },
       "data": [
        {
         "hovertemplate": "release_year=%{x}<br>title_length=%{marker.size}<extra></extra>",
         "legendgroup": "",
         "marker": {
          "color": "rgb(228,26,28)",
          "size": {
           "bdata": "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",
           "dtype": "i1"
          },
          "sizemode": "area",
          "sizeref": 0.028888888888888888,
          "symbol": "circle"
         },
         "mode": "markers",
         "name": "",
         "showlegend": false,
         "type": "scattergl",
         "x": {
          "bdata": "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",
          "dtype": "i2"
         },
         "xaxis": "x",
         "y": {
          "bdata": "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",
          "dtype": "i1"
         },
         "yaxis": "y"
        }
       ],
       "layout": {
        "legend": {
         "itemsizing": "constant",
         "title": {
          "text": "Rating"
         },
         "tracegroupgap": 0
        },
        "margin": {
         "t": 60
        },
        "template": {
         "data": {
          "bar": [
           {
            "error_x": {
             "color": "#2a3f5f"
            },
            "error_y": {
             "color": "#2a3f5f"
            },
            "marker": {
             "line": {
              "color": "#E5ECF6",
              "width": 0.5
             },
             "pattern": {
              "fillmode": "overlay",
              "size": 10,
              "solidity": 0.2
             }
            },
            "type": "bar"
           }
          ],
          "barpolar": [
           {
            "marker": {
             "line": {
              "color": "#E5ECF6",
              "width": 0.5
             },
             "pattern": {
              "fillmode": "overlay",
              "size": 10,
              "solidity": 0.2
             }
            },
            "type": "barpolar"
           }
          ],
          "carpet": [
           {
            "aaxis": {
             "endlinecolor": "#2a3f5f",
             "gridcolor": "white",
             "linecolor": "white",
             "minorgridcolor": "white",
             "startlinecolor": "#2a3f5f"
            },
            "baxis": {
             "endlinecolor": "#2a3f5f",
             "gridcolor": "white",
             "linecolor": "white",
             "minorgridcolor": "white",
             "startlinecolor": "#2a3f5f"
            },
            "type": "carpet"
           }
          ],
          "choropleth": [
           {
            "colorbar": {
             "outlinewidth": 0,
             "ticks": ""
            },
            "type": "choropleth"
           }
          ],
          "contour": [
           {
            "colorbar": {
             "outlinewidth": 0,
             "ticks": ""
            },
            "colorscale": [
             [
              0,
              "#0d0887"
             ],
             [
              0.1111111111111111,
              "#46039f"
             ],
             [
              0.2222222222222222,
              "#7201a8"
             ],
             [
              0.3333333333333333,
              "#9c179e"
             ],
             [
              0.4444444444444444,
              "#bd3786"
             ],
             [
              0.5555555555555556,
              "#d8576b"
             ],
             [
              0.6666666666666666,
              "#ed7953"
             ],
             [
              0.7777777777777778,
              "#fb9f3a"
             ],
             [
              0.8888888888888888,
              "#fdca26"
             ],
             [
              1,
              "#f0f921"
             ]
            ],
            "type": "contour"
           }
          ],
          "contourcarpet": [
           {
            "colorbar": {
             "outlinewidth": 0,
             "ticks": ""
            },
            "type": "contourcarpet"
           }
          ],
          "heatmap": [
           {
            "colorbar": {
             "outlinewidth": 0,
             "ticks": ""
            },
            "colorscale": [
             [
              0,
              "#0d0887"
             ],
             [
              0.1111111111111111,
              "#46039f"
             ],
             [
              0.2222222222222222,
              "#7201a8"
             ],
             [
              0.3333333333333333,
              "#9c179e"
             ],
             [
              0.4444444444444444,
              "#bd3786"
             ],
             [
              0.5555555555555556,
              "#d8576b"
             ],
             [
              0.6666666666666666,
              "#ed7953"
             ],
             [
              0.7777777777777778,
              "#fb9f3a"
             ],
             [
              0.8888888888888888,
              "#fdca26"
             ],
             [
              1,
              "#f0f921"
             ]
            ],
            "type": "heatmap"
           }
          ],
          "histogram": [
           {
            "marker": {
             "pattern": {
              "fillmode": "overlay",
              "size": 10,
              "solidity": 0.2
             }
            },
            "type": "histogram"
           }
          ],
          "histogram2d": [
           {
            "colorbar": {
             "outlinewidth": 0,
             "ticks": ""
            },
            "colorscale": [
             [
              0,
              "#0d0887"
             ],
             [
              0.1111111111111111,
              "#46039f"
             ],
             [
              0.2222222222222222,
              "#7201a8"
             ],
             [
              0.3333333333333333,
              "#9c179e"
             ],
             [
              0.4444444444444444,
              "#bd3786"
             ],
             [
              0.5555555555555556,
              "#d8576b"
             ],
             [
              0.6666666666666666,
              "#ed7953"
             ],
             [
              0.7777777777777778,
              "#fb9f3a"
             ],
             [
              0.8888888888888888,
              "#fdca26"
             ],
             [
              1,
              "#f0f921"
             ]
            ],
            "type": "histogram2d"
           }
          ],
          "histogram2dcontour": [
           {
            "colorbar": {
             "outlinewidth": 0,
             "ticks": ""
            },
            "colorscale": [
             [
              0,
              "#0d0887"
             ],
             [
              0.1111111111111111,
              "#46039f"
             ],
             [
              0.2222222222222222,
              "#7201a8"
             ],
             [
              0.3333333333333333,
              "#9c179e"
             ],
             [
              0.4444444444444444,
              "#bd3786"
             ],
             [
              0.5555555555555556,
              "#d8576b"
             ],
             [
              0.6666666666666666,
              "#ed7953"
             ],
             [
              0.7777777777777778,
              "#fb9f3a"
             ],
             [
              0.8888888888888888,
              "#fdca26"
             ],
             [
              1,
              "#f0f921"
             ]
            ],
            "type": "histogram2dcontour"
           }
          ],
          "mesh3d": [
           {
            "colorbar": {
             "outlinewidth": 0,
             "ticks": ""
            },
            "type": "mesh3d"
           }
          ],
          "parcoords": [
           {
            "line": {
             "colorbar": {
              "outlinewidth": 0,
              "ticks": ""
             }
            },
            "type": "parcoords"
           }
          ],
          "pie": [
           {
            "automargin": true,
            "type": "pie"
           }
          ],
          "scatter": [
           {
            "fillpattern": {
             "fillmode": "overlay",
             "size": 10,
             "solidity": 0.2
            },
            "type": "scatter"
           }
          ],
          "scatter3d": [
           {
            "line": {
             "colorbar": {
              "outlinewidth": 0,
              "ticks": ""
             }
            },
            "marker": {
             "colorbar": {
              "outlinewidth": 0,
              "ticks": ""
             }
            },
            "type": "scatter3d"
           }
          ],
          "scattercarpet": [
           {
            "marker": {
             "colorbar": {
              "outlinewidth": 0,
              "ticks": ""
             }
            },
            "type": "scattercarpet"
           }
          ],
          "scattergeo": [
           {
            "marker": {
             "colorbar": {
              "outlinewidth": 0,
              "ticks": ""
             }
            },
            "type": "scattergeo"
           }
          ],
          "scattergl": [
           {
            "marker": {
             "colorbar": {
              "outlinewidth": 0,
              "ticks": ""
             }
            },
            "type": "scattergl"
           }
          ],
          "scattermap": [
           {
            "marker": {
             "colorbar": {
              "outlinewidth": 0,
              "ticks": ""
             }
            },
            "type": "scattermap"
           }
          ],
          "scattermapbox": [
           {
            "marker": {
             "colorbar": {
              "outlinewidth": 0,
              "ticks": ""
             }
            },
            "type": "scattermapbox"
           }
          ],
          "scatterpolar": [
           {
            "marker": {
             "colorbar": {
              "outlinewidth": 0,
              "ticks": ""
             }
            },
            "type": "scatterpolar"
           }
          ],
          "scatterpolargl": [
           {
            "marker": {
             "colorbar": {
              "outlinewidth": 0,
              "ticks": ""
             }
            },
            "type": "scatterpolargl"
           }
          ],
          "scatterternary": [
           {
            "marker": {
             "colorbar": {
              "outlinewidth": 0,
              "ticks": ""
             }
            },
            "type": "scatterternary"
           }
          ],
          "surface": [
           {
            "colorbar": {
             "outlinewidth": 0,
             "ticks": ""
            },
            "colorscale": [
             [
              0,
              "#0d0887"
             ],
             [
              0.1111111111111111,
              "#46039f"
             ],
             [
              0.2222222222222222,
              "#7201a8"
             ],
             [
              0.3333333333333333,
              "#9c179e"
             ],
             [
              0.4444444444444444,
              "#bd3786"
             ],
             [
              0.5555555555555556,
              "#d8576b"
             ],
             [
              0.6666666666666666,
              "#ed7953"
             ],
             [
              0.7777777777777778,
              "#fb9f3a"
             ],
             [
              0.8888888888888888,
              "#fdca26"
             ],
             [
              1,
              "#f0f921"
             ]
            ],
            "type": "surface"
           }
          ],
          "table": [
           {
            "cells": {
             "fill": {
              "color": "#EBF0F8"
             },
             "line": {
              "color": "white"
             }
            },
            "header": {
             "fill": {
              "color": "#C8D4E3"
             },
             "line": {
              "color": "white"
             }
            },
            "type": "table"
           }
          ]
         },
         "layout": {
          "annotationdefaults": {
           "arrowcolor": "#2a3f5f",
           "arrowhead": 0,
           "arrowwidth": 1
          },
          "autotypenumbers": "strict",
          "coloraxis": {
           "colorbar": {
            "outlinewidth": 0,
            "ticks": ""
           }
          },
          "colorscale": {
           "diverging": [
            [
             0,
             "#8e0152"
            ],
            [
             0.1,
             "#c51b7d"
            ],
            [
             0.2,
             "#de77ae"
            ],
            [
             0.3,
             "#f1b6da"
            ],
            [
             0.4,
             "#fde0ef"
            ],
            [
             0.5,
             "#f7f7f7"
            ],
            [
             0.6,
             "#e6f5d0"
            ],
            [
             0.7,
             "#b8e186"
            ],
            [
             0.8,
             "#7fbc41"
            ],
            [
             0.9,
             "#4d9221"
            ],
            [
             1,
             "#276419"
            ]
           ],
           "sequential": [
            [
             0,
             "#0d0887"
            ],
            [
             0.1111111111111111,
             "#46039f"
            ],
            [
             0.2222222222222222,
             "#7201a8"
            ],
            [
             0.3333333333333333,
             "#9c179e"
            ],
            [
             0.4444444444444444,
             "#bd3786"
            ],
            [
             0.5555555555555556,
             "#d8576b"
            ],
            [
             0.6666666666666666,
             "#ed7953"
            ],
            [
             0.7777777777777778,
             "#fb9f3a"
            ],
            [
             0.8888888888888888,
             "#fdca26"
            ],
            [
             1,
             "#f0f921"
            ]
           ],
           "sequentialminus": [
            [
             0,
             "#0d0887"
            ],
            [
             0.1111111111111111,
             "#46039f"
            ],
            [
             0.2222222222222222,
             "#7201a8"
            ],
            [
             0.3333333333333333,
             "#9c179e"
            ],
            [
             0.4444444444444444,
             "#bd3786"
            ],
            [
             0.5555555555555556,
             "#d8576b"
            ],
            [
             0.6666666666666666,
             "#ed7953"
            ],
            [
             0.7777777777777778,
             "#fb9f3a"
            ],
            [
             0.8888888888888888,
             "#fdca26"
            ],
            [
             1,
             "#f0f921"
            ]
           ]
          },
          "colorway": [
           "#636efa",
           "#EF553B",
           "#00cc96",
           "#ab63fa",
           "#FFA15A",
           "#19d3f3",
           "#FF6692",
           "#B6E880",
           "#FF97FF",
           "#FECB52"
          ],
          "font": {
           "color": "#2a3f5f"
          },
          "geo": {
           "bgcolor": "white",
           "lakecolor": "white",
           "landcolor": "#E5ECF6",
           "showlakes": true,
           "showland": true,
           "subunitcolor": "white"
          },
          "hoverlabel": {
           "align": "left"
          },
          "hovermode": "closest",
          "mapbox": {
           "style": "light"
          },
          "paper_bgcolor": "white",
          "plot_bgcolor": "#E5ECF6",
          "polar": {
           "angularaxis": {
            "gridcolor": "white",
            "linecolor": "white",
            "ticks": ""
           },
           "bgcolor": "#E5ECF6",
           "radialaxis": {
            "gridcolor": "white",
            "linecolor": "white",
            "ticks": ""
           }
          },
          "scene": {
           "xaxis": {
            "backgroundcolor": "#E5ECF6",
            "gridcolor": "white",
            "gridwidth": 2,
            "linecolor": "white",
            "showbackground": true,
            "ticks": "",
            "zerolinecolor": "white"
           },
           "yaxis": {
            "backgroundcolor": "#E5ECF6",
            "gridcolor": "white",
            "gridwidth": 2,
            "linecolor": "white",
            "showbackground": true,
            "ticks": "",
            "zerolinecolor": "white"
           },
           "zaxis": {
            "backgroundcolor": "#E5ECF6",
            "gridcolor": "white",
            "gridwidth": 2,
            "linecolor": "white",
            "showbackground": true,
            "ticks": "",
            "zerolinecolor": "white"
           }
          },
          "shapedefaults": {
           "line": {
            "color": "#2a3f5f"
           }
          },
          "ternary": {
           "aaxis": {
            "gridcolor": "white",
            "linecolor": "white",
            "ticks": ""
           },
           "baxis": {
            "gridcolor": "white",
            "linecolor": "white",
            "ticks": ""
           },
           "bgcolor": "#E5ECF6",
           "caxis": {
            "gridcolor": "white",
            "linecolor": "white",
            "ticks": ""
           }
          },
          "title": {
           "x": 0.05
          },
          "xaxis": {
           "automargin": true,
           "gridcolor": "white",
           "linecolor": "white",
           "ticks": "",
           "title": {
            "standoff": 15
           },
           "zerolinecolor": "white",
           "zerolinewidth": 2
          },
          "yaxis": {
           "automargin": true,
           "gridcolor": "white",
           "linecolor": "white",
           "ticks": "",
           "title": {
            "standoff": 15
           },
           "zerolinecolor": "white",
           "zerolinewidth": 2
          }
         }
        },
        "title": {
         "text": "Title Length vs. Release Year by Rating"
        },
        "xaxis": {
         "anchor": "y",
         "domain": [
          0,
          1
         ],
         "tickangle": -45,
         "title": {
          "text": "Release Year"
         }
        },
        "yaxis": {
         "anchor": "x",
         "domain": [
          0,
          1
         ],
         "title": {
          "text": "Title Length"
         }
        }
       }
      }
     },
     "metadata": {},
     "output_type": "display_data"
    }
   ],
   "source": [
    "df[\"title\"] = df[\"title\"].fillna(\"\")\n",
    "df[\"title_length\"] = df[\"title\"].str.len()\n",
    "\n",
    "fig = px.scatter(df, \n",
    "                 x=\"release_year\", \n",
    "                 y=\"title_length\",\n",
    "                 size=\"title_length\",\n",
    "                 size_max=60,\n",
    "                 color_discrete_sequence=px.colors.qualitative.Set1\n",
    ")\n",
    "\n",
    "fig.update_layout(\n",
    "    xaxis_title='Release Year',\n",
    "    yaxis_title='Title Length',\n",
    "    title='Title Length vs. Release Year by Rating',\n",
    "    xaxis=dict(tickangle=-45),\n",
    "    legend_title=\"Rating\",\n",
    ")\n",
    "\n",
    "fig.show()\n"
   ]
  }
 ],
 "metadata": {
  "kernelspec": {
   "display_name": "Python 3",
   "language": "python",
   "name": "python3"
  },
  "language_info": {
   "codemirror_mode": {
    "name": "ipython",
    "version": 3
   },
   "file_extension": ".py",
   "mimetype": "text/x-python",
   "name": "python",
   "nbconvert_exporter": "python",
   "pygments_lexer": "ipython3",
   "version": "3.12.5"
  }
 },
 "nbformat": 4,
 "nbformat_minor": 2
}
