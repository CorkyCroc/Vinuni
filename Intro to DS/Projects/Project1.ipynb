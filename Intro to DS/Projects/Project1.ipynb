{
 "cells": [
  {
   "cell_type": "markdown",
   "metadata": {},
   "source": [
    "# **1. import Libraries and Load Files**"
   ]
  },
  {
   "cell_type": "code",
   "execution_count": 2,
   "metadata": {},
   "outputs": [
    {
     "name": "stderr",
     "output_type": "stream",
     "text": [
      "/var/folders/jq/3spgz0t105z044g721j_zwdw0000gn/T/ipykernel_4328/3874899628.py:14: DeprecationWarning: load_dataset is deprecated and will be removed in future version.\n",
      "  df = kagglehub.load_dataset(\n"
     ]
    }
   ],
   "source": [
    "# Install dependencies as needed:\n",
    "# pip install kagglehub[pandas-dfsets]\n",
    "import kagglehub\n",
    "from kagglehub import KaggleDatasetAdapter\n",
    "import matplotlib.pyplot as plt\n",
    "import pandas as pd\n",
    "import numpy as np\n",
    "import plotly.express as px\n",
    "\n",
    "# Set the path to the file you'd like to load\n",
    "file_path = \"amazon_prime_titles.csv\"\n",
    "\n",
    "# Load the latest version\n",
    "df = kagglehub.load_dataset(\n",
    "  KaggleDatasetAdapter.PANDAS,\n",
    "  \"shivamb/amazon-prime-movies-and-tv-shows\",\n",
    "  file_path,\n",
    "  # Provide any additional arguments like \n",
    "  # sql_query or pandas_kwargs. See the \n",
    "  # documenation for more information:\n",
    "  # https://github.com/Kaggle/kagglehub/blob/main/README.md#kaggledatasetadapterpandas\n",
    ")"
   ]
  },
  {
   "cell_type": "markdown",
   "metadata": {},
   "source": [
    "# **2.Identify Data Features**"
   ]
  },
  {
   "cell_type": "code",
   "execution_count": 16,
   "metadata": {},
   "outputs": [
    {
     "name": "stdout",
     "output_type": "stream",
     "text": [
      "<class 'pandas.core.frame.DataFrame'>\n",
      "Index: 2941 entries, 2 to 9644\n",
      "Data columns (total 12 columns):\n",
      " #   Column        Non-Null Count  Dtype \n",
      "---  ------        --------------  ----- \n",
      " 0   show_id       2941 non-null   object\n",
      " 1   type          2941 non-null   object\n",
      " 2   title         2941 non-null   object\n",
      " 3   director      2446 non-null   object\n",
      " 4   cast          2941 non-null   object\n",
      " 5   country       2941 non-null   object\n",
      " 6   date_added    129 non-null    object\n",
      " 7   release_year  2941 non-null   int64 \n",
      " 8   rating        2873 non-null   object\n",
      " 9   duration      2941 non-null   object\n",
      " 10  listed_in     2941 non-null   object\n",
      " 11  description   2941 non-null   object\n",
      "dtypes: int64(1), object(11)\n",
      "memory usage: 298.7+ KB\n"
     ]
    },
    {
     "data": {
      "text/html": [
       "<div>\n",
       "<style scoped>\n",
       "    .dataframe tbody tr th:only-of-type {\n",
       "        vertical-align: middle;\n",
       "    }\n",
       "\n",
       "    .dataframe tbody tr th {\n",
       "        vertical-align: top;\n",
       "    }\n",
       "\n",
       "    .dataframe thead th {\n",
       "        text-align: right;\n",
       "    }\n",
       "</style>\n",
       "<table border=\"1\" class=\"dataframe\">\n",
       "  <thead>\n",
       "    <tr style=\"text-align: right;\">\n",
       "      <th></th>\n",
       "      <th>show_id</th>\n",
       "      <th>type</th>\n",
       "      <th>title</th>\n",
       "      <th>director</th>\n",
       "      <th>cast</th>\n",
       "      <th>country</th>\n",
       "      <th>date_added</th>\n",
       "      <th>release_year</th>\n",
       "      <th>rating</th>\n",
       "      <th>duration</th>\n",
       "      <th>listed_in</th>\n",
       "      <th>description</th>\n",
       "    </tr>\n",
       "  </thead>\n",
       "  <tbody>\n",
       "    <tr>\n",
       "      <th>2</th>\n",
       "      <td>s3</td>\n",
       "      <td>Movie</td>\n",
       "      <td>Secrets of Deception</td>\n",
       "      <td>Josh Webber</td>\n",
       "      <td>Tom Sizemore</td>\n",
       "      <td>United States</td>\n",
       "      <td>March 30, 2021</td>\n",
       "      <td>2017</td>\n",
       "      <td>NaN</td>\n",
       "      <td>74 min</td>\n",
       "      <td>Action, Drama, Suspense</td>\n",
       "      <td>After a man discovers his wife is cheating on ...</td>\n",
       "    </tr>\n",
       "    <tr>\n",
       "      <th>2</th>\n",
       "      <td>s3</td>\n",
       "      <td>Movie</td>\n",
       "      <td>Secrets of Deception</td>\n",
       "      <td>Josh Webber</td>\n",
       "      <td>Lorenzo Lamas</td>\n",
       "      <td>United States</td>\n",
       "      <td>March 30, 2021</td>\n",
       "      <td>2017</td>\n",
       "      <td>NaN</td>\n",
       "      <td>74 min</td>\n",
       "      <td>Action, Drama, Suspense</td>\n",
       "      <td>After a man discovers his wife is cheating on ...</td>\n",
       "    </tr>\n",
       "    <tr>\n",
       "      <th>2</th>\n",
       "      <td>s3</td>\n",
       "      <td>Movie</td>\n",
       "      <td>Secrets of Deception</td>\n",
       "      <td>Josh Webber</td>\n",
       "      <td>Robert LaSardo</td>\n",
       "      <td>United States</td>\n",
       "      <td>March 30, 2021</td>\n",
       "      <td>2017</td>\n",
       "      <td>NaN</td>\n",
       "      <td>74 min</td>\n",
       "      <td>Action, Drama, Suspense</td>\n",
       "      <td>After a man discovers his wife is cheating on ...</td>\n",
       "    </tr>\n",
       "    <tr>\n",
       "      <th>2</th>\n",
       "      <td>s3</td>\n",
       "      <td>Movie</td>\n",
       "      <td>Secrets of Deception</td>\n",
       "      <td>Josh Webber</td>\n",
       "      <td>Richard Jones</td>\n",
       "      <td>United States</td>\n",
       "      <td>March 30, 2021</td>\n",
       "      <td>2017</td>\n",
       "      <td>NaN</td>\n",
       "      <td>74 min</td>\n",
       "      <td>Action, Drama, Suspense</td>\n",
       "      <td>After a man discovers his wife is cheating on ...</td>\n",
       "    </tr>\n",
       "    <tr>\n",
       "      <th>2</th>\n",
       "      <td>s3</td>\n",
       "      <td>Movie</td>\n",
       "      <td>Secrets of Deception</td>\n",
       "      <td>Josh Webber</td>\n",
       "      <td>Yancey Arias</td>\n",
       "      <td>United States</td>\n",
       "      <td>March 30, 2021</td>\n",
       "      <td>2017</td>\n",
       "      <td>NaN</td>\n",
       "      <td>74 min</td>\n",
       "      <td>Action, Drama, Suspense</td>\n",
       "      <td>After a man discovers his wife is cheating on ...</td>\n",
       "    </tr>\n",
       "  </tbody>\n",
       "</table>\n",
       "</div>"
      ],
      "text/plain": [
       "  show_id   type                 title     director            cast  \\\n",
       "2      s3  Movie  Secrets of Deception  Josh Webber    Tom Sizemore   \n",
       "2      s3  Movie  Secrets of Deception  Josh Webber   Lorenzo Lamas   \n",
       "2      s3  Movie  Secrets of Deception  Josh Webber  Robert LaSardo   \n",
       "2      s3  Movie  Secrets of Deception  Josh Webber   Richard Jones   \n",
       "2      s3  Movie  Secrets of Deception  Josh Webber    Yancey Arias   \n",
       "\n",
       "         country      date_added  release_year rating duration  \\\n",
       "2  United States  March 30, 2021          2017    NaN   74 min   \n",
       "2  United States  March 30, 2021          2017    NaN   74 min   \n",
       "2  United States  March 30, 2021          2017    NaN   74 min   \n",
       "2  United States  March 30, 2021          2017    NaN   74 min   \n",
       "2  United States  March 30, 2021          2017    NaN   74 min   \n",
       "\n",
       "                 listed_in                                        description  \n",
       "2  Action, Drama, Suspense  After a man discovers his wife is cheating on ...  \n",
       "2  Action, Drama, Suspense  After a man discovers his wife is cheating on ...  \n",
       "2  Action, Drama, Suspense  After a man discovers his wife is cheating on ...  \n",
       "2  Action, Drama, Suspense  After a man discovers his wife is cheating on ...  \n",
       "2  Action, Drama, Suspense  After a man discovers his wife is cheating on ...  "
      ]
     },
     "execution_count": 16,
     "metadata": {},
     "output_type": "execute_result"
    }
   ],
   "source": [
    "df.info()\n",
    "df.head()"
   ]
  },
  {
   "cell_type": "code",
   "execution_count": 3,
   "metadata": {},
   "outputs": [
    {
     "data": {
      "text/html": [
       "<div>\n",
       "<style scoped>\n",
       "    .dataframe tbody tr th:only-of-type {\n",
       "        vertical-align: middle;\n",
       "    }\n",
       "\n",
       "    .dataframe tbody tr th {\n",
       "        vertical-align: top;\n",
       "    }\n",
       "\n",
       "    .dataframe thead th {\n",
       "        text-align: right;\n",
       "    }\n",
       "</style>\n",
       "<table border=\"1\" class=\"dataframe\">\n",
       "  <thead>\n",
       "    <tr style=\"text-align: right;\">\n",
       "      <th></th>\n",
       "      <th>show_id</th>\n",
       "      <th>type</th>\n",
       "      <th>title</th>\n",
       "      <th>director</th>\n",
       "      <th>cast</th>\n",
       "      <th>country</th>\n",
       "      <th>date_added</th>\n",
       "      <th>release_year</th>\n",
       "      <th>rating</th>\n",
       "      <th>duration</th>\n",
       "      <th>listed_in</th>\n",
       "      <th>description</th>\n",
       "      <th>extra</th>\n",
       "    </tr>\n",
       "  </thead>\n",
       "  <tbody>\n",
       "    <tr>\n",
       "      <th>0</th>\n",
       "      <td>s1</td>\n",
       "      <td>Movie</td>\n",
       "      <td>The Grand Seduction</td>\n",
       "      <td>Don McKellar</td>\n",
       "      <td>Brendan Gleeson, Taylor Kitsch, Gordon Pinsent</td>\n",
       "      <td>Canada</td>\n",
       "      <td>March 30, 2021</td>\n",
       "      <td>2014</td>\n",
       "      <td>NaN</td>\n",
       "      <td>113 min</td>\n",
       "      <td>Comedy, Drama</td>\n",
       "      <td>A small fishing village must procure a local d...</td>\n",
       "      <td>0       March 30, 2021\\n1       March 30, 2021...</td>\n",
       "    </tr>\n",
       "    <tr>\n",
       "      <th>1</th>\n",
       "      <td>s2</td>\n",
       "      <td>Movie</td>\n",
       "      <td>Take Care Good Night</td>\n",
       "      <td>Girish Joshi</td>\n",
       "      <td>Mahesh Manjrekar, Abhay Mahajan, Sachin Khedekar</td>\n",
       "      <td>India</td>\n",
       "      <td>March 30, 2021</td>\n",
       "      <td>2018</td>\n",
       "      <td>13+</td>\n",
       "      <td>110 min</td>\n",
       "      <td>Drama, International</td>\n",
       "      <td>A Metro Family decides to fight a Cyber Crimin...</td>\n",
       "      <td>0       March 30, 2021\\n1       March 30, 2021...</td>\n",
       "    </tr>\n",
       "    <tr>\n",
       "      <th>2</th>\n",
       "      <td>s3</td>\n",
       "      <td>Movie</td>\n",
       "      <td>Secrets of Deception</td>\n",
       "      <td>Josh Webber</td>\n",
       "      <td>Tom Sizemore, Lorenzo Lamas, Robert LaSardo, R...</td>\n",
       "      <td>United States</td>\n",
       "      <td>March 30, 2021</td>\n",
       "      <td>2017</td>\n",
       "      <td>NaN</td>\n",
       "      <td>74 min</td>\n",
       "      <td>Action, Drama, Suspense</td>\n",
       "      <td>After a man discovers his wife is cheating on ...</td>\n",
       "      <td>0       March 30, 2021\\n1       March 30, 2021...</td>\n",
       "    </tr>\n",
       "    <tr>\n",
       "      <th>3</th>\n",
       "      <td>s4</td>\n",
       "      <td>Movie</td>\n",
       "      <td>Pink: Staying True</td>\n",
       "      <td>Sonia Anderson</td>\n",
       "      <td>Interviews with: Pink, Adele, Beyoncé, Britney...</td>\n",
       "      <td>United States</td>\n",
       "      <td>March 30, 2021</td>\n",
       "      <td>2014</td>\n",
       "      <td>NaN</td>\n",
       "      <td>69 min</td>\n",
       "      <td>Documentary</td>\n",
       "      <td>Pink breaks the mold once again, bringing her ...</td>\n",
       "      <td>0       March 30, 2021\\n1       March 30, 2021...</td>\n",
       "    </tr>\n",
       "    <tr>\n",
       "      <th>4</th>\n",
       "      <td>s5</td>\n",
       "      <td>Movie</td>\n",
       "      <td>Monster Maker</td>\n",
       "      <td>Giles Foster</td>\n",
       "      <td>Harry Dean Stanton, Kieran O'Brien, George Cos...</td>\n",
       "      <td>United Kingdom</td>\n",
       "      <td>March 30, 2021</td>\n",
       "      <td>1989</td>\n",
       "      <td>NaN</td>\n",
       "      <td>45 min</td>\n",
       "      <td>Drama, Fantasy</td>\n",
       "      <td>Teenage Matt Banting wants to work with a famo...</td>\n",
       "      <td>0       March 30, 2021\\n1       March 30, 2021...</td>\n",
       "    </tr>\n",
       "  </tbody>\n",
       "</table>\n",
       "</div>"
      ],
      "text/plain": [
       "  show_id   type                 title        director  \\\n",
       "0      s1  Movie   The Grand Seduction    Don McKellar   \n",
       "1      s2  Movie  Take Care Good Night    Girish Joshi   \n",
       "2      s3  Movie  Secrets of Deception     Josh Webber   \n",
       "3      s4  Movie    Pink: Staying True  Sonia Anderson   \n",
       "4      s5  Movie         Monster Maker    Giles Foster   \n",
       "\n",
       "                                                cast         country  \\\n",
       "0     Brendan Gleeson, Taylor Kitsch, Gordon Pinsent          Canada   \n",
       "1   Mahesh Manjrekar, Abhay Mahajan, Sachin Khedekar           India   \n",
       "2  Tom Sizemore, Lorenzo Lamas, Robert LaSardo, R...   United States   \n",
       "3  Interviews with: Pink, Adele, Beyoncé, Britney...   United States   \n",
       "4  Harry Dean Stanton, Kieran O'Brien, George Cos...  United Kingdom   \n",
       "\n",
       "       date_added  release_year rating duration                listed_in  \\\n",
       "0  March 30, 2021          2014    NaN  113 min            Comedy, Drama   \n",
       "1  March 30, 2021          2018    13+  110 min     Drama, International   \n",
       "2  March 30, 2021          2017    NaN   74 min  Action, Drama, Suspense   \n",
       "3  March 30, 2021          2014    NaN   69 min              Documentary   \n",
       "4  March 30, 2021          1989    NaN   45 min           Drama, Fantasy   \n",
       "\n",
       "                                         description  \\\n",
       "0  A small fishing village must procure a local d...   \n",
       "1  A Metro Family decides to fight a Cyber Crimin...   \n",
       "2  After a man discovers his wife is cheating on ...   \n",
       "3  Pink breaks the mold once again, bringing her ...   \n",
       "4  Teenage Matt Banting wants to work with a famo...   \n",
       "\n",
       "                                               extra  \n",
       "0  0       March 30, 2021\\n1       March 30, 2021...  \n",
       "1  0       March 30, 2021\\n1       March 30, 2021...  \n",
       "2  0       March 30, 2021\\n1       March 30, 2021...  \n",
       "3  0       March 30, 2021\\n1       March 30, 2021...  \n",
       "4  0       March 30, 2021\\n1       March 30, 2021...  "
      ]
     },
     "execution_count": 3,
     "metadata": {},
     "output_type": "execute_result"
    }
   ],
   "source": [
    "df['extra'] = f'{df['date_added']}, {df['release_year']}, {df['rating']}'\n",
    "df.head()"
   ]
  },
  {
   "cell_type": "code",
   "execution_count": 10,
   "metadata": {},
   "outputs": [
    {
     "data": {
      "text/plain": [
       "show_id            0\n",
       "type               0\n",
       "title              0\n",
       "director        2083\n",
       "cast            1233\n",
       "country         8996\n",
       "date_added      9513\n",
       "release_year       0\n",
       "rating           337\n",
       "duration           0\n",
       "listed_in          0\n",
       "description        0\n",
       "extra              0\n",
       "dtype: int64"
      ]
     },
     "execution_count": 10,
     "metadata": {},
     "output_type": "execute_result"
    }
   ],
   "source": [
    "df.isnull().sum()"
   ]
  },
  {
   "cell_type": "code",
   "execution_count": 21,
   "metadata": {},
   "outputs": [
    {
     "name": "stdout",
     "output_type": "stream",
     "text": [
      "show_id         type: <class 'str'> Example: <class 'str'>\n",
      "type            type: <class 'str'> Example: <class 'str'>\n",
      "title           type: <class 'str'> Example: <class 'str'>\n",
      "director        type: <class 'str'> Example: <class 'str'>\n",
      "cast            type: <class 'str'> Example: <class 'str'>\n",
      "country         type: <class 'str'> Example: <class 'str'>\n",
      "date_added      type: <class 'str'> Example: <class 'str'>\n",
      "release_year    type: <class 'numpy.int64'> Example: <class 'numpy.int64'>\n",
      "rating          type: <class 'str'> Example: <class 'str'>\n",
      "duration        type: <class 'str'> Example: <class 'str'>\n",
      "listed_in       type: <class 'str'> Example: <class 'str'>\n",
      "description     type: <class 'str'> Example: <class 'str'>\n"
     ]
    }
   ],
   "source": [
    "# Data Types\n",
    "for column in df.columns:\n",
    "    col_values = df[column].dropna()\n",
    "    example_1 = type(col_values.iloc[0]) if len(col_values) > 0 else None\n",
    "    example_2 = type(col_values.iloc[1]) if len(col_values) > 1 else None\n",
    "    \n",
    "    print(f\"{column.ljust(15)} type: {example_1} Example: {example_2}\")\n"
   ]
  },
  {
   "cell_type": "markdown",
   "metadata": {},
   "source": [
    "# 3.Identify Data Issues"
   ]
  },
  {
   "cell_type": "code",
   "execution_count": 4,
   "metadata": {},
   "outputs": [
    {
     "name": "stdout",
     "output_type": "stream",
     "text": [
      "Data Entries: 9668\n",
      "\n",
      "Missing Values:\n",
      " show_id            0\n",
      "type               0\n",
      "title              0\n",
      "director        2083\n",
      "cast            1233\n",
      "country         8996\n",
      "date_added      9513\n",
      "release_year       0\n",
      "rating           337\n",
      "duration           0\n",
      "listed_in          0\n",
      "description        0\n",
      "extra              0\n",
      "dtype: int64\n",
      "\n",
      " Percentage of Missing Values:\n",
      " show_id          0.000000\n",
      "type             0.000000\n",
      "title            0.000000\n",
      "director        21.545304\n",
      "cast            12.753413\n",
      "country         93.049235\n",
      "date_added      98.396773\n",
      "release_year     0.000000\n",
      "rating           3.485726\n",
      "duration         0.000000\n",
      "listed_in        0.000000\n",
      "description      0.000000\n",
      "extra            0.000000\n",
      "dtype: float64\n"
     ]
    }
   ],
   "source": [
    "# NaN values\n",
    "print(f'Data Entries: {len(df)}')\n",
    "print('\\nMissing Values:\\n', df.isnull().sum())\n",
    "print('\\n Percentage of Missing Values:\\n', df.isnull().sum() / len(df) * 100)"
   ]
  },
  {
   "cell_type": "code",
   "execution_count": 17,
   "metadata": {},
   "outputs": [
    {
     "data": {
      "text/html": [
       "<div>\n",
       "<style scoped>\n",
       "    .dataframe tbody tr th:only-of-type {\n",
       "        vertical-align: middle;\n",
       "    }\n",
       "\n",
       "    .dataframe tbody tr th {\n",
       "        vertical-align: top;\n",
       "    }\n",
       "\n",
       "    .dataframe thead th {\n",
       "        text-align: right;\n",
       "    }\n",
       "</style>\n",
       "<table border=\"1\" class=\"dataframe\">\n",
       "  <thead>\n",
       "    <tr style=\"text-align: right;\">\n",
       "      <th></th>\n",
       "      <th>show_id</th>\n",
       "      <th>type</th>\n",
       "      <th>title</th>\n",
       "      <th>director</th>\n",
       "      <th>cast</th>\n",
       "      <th>country</th>\n",
       "      <th>date_added</th>\n",
       "      <th>release_year</th>\n",
       "      <th>rating</th>\n",
       "      <th>duration</th>\n",
       "      <th>listed_in</th>\n",
       "      <th>description</th>\n",
       "    </tr>\n",
       "  </thead>\n",
       "  <tbody>\n",
       "    <tr>\n",
       "      <th>2</th>\n",
       "      <td>s3</td>\n",
       "      <td>Movie</td>\n",
       "      <td>Secrets of Deception</td>\n",
       "      <td>Josh Webber</td>\n",
       "      <td>Lorenzo Lamas</td>\n",
       "      <td>United States</td>\n",
       "      <td>March 30, 2021</td>\n",
       "      <td>2017</td>\n",
       "      <td>NaN</td>\n",
       "      <td>74 min</td>\n",
       "      <td>Action, Drama, Suspense</td>\n",
       "      <td>After a man discovers his wife is cheating on ...</td>\n",
       "    </tr>\n",
       "    <tr>\n",
       "      <th>2</th>\n",
       "      <td>s3</td>\n",
       "      <td>Movie</td>\n",
       "      <td>Secrets of Deception</td>\n",
       "      <td>Josh Webber</td>\n",
       "      <td>Robert LaSardo</td>\n",
       "      <td>United States</td>\n",
       "      <td>March 30, 2021</td>\n",
       "      <td>2017</td>\n",
       "      <td>NaN</td>\n",
       "      <td>74 min</td>\n",
       "      <td>Action, Drama, Suspense</td>\n",
       "      <td>After a man discovers his wife is cheating on ...</td>\n",
       "    </tr>\n",
       "    <tr>\n",
       "      <th>2</th>\n",
       "      <td>s3</td>\n",
       "      <td>Movie</td>\n",
       "      <td>Secrets of Deception</td>\n",
       "      <td>Josh Webber</td>\n",
       "      <td>Richard Jones</td>\n",
       "      <td>United States</td>\n",
       "      <td>March 30, 2021</td>\n",
       "      <td>2017</td>\n",
       "      <td>NaN</td>\n",
       "      <td>74 min</td>\n",
       "      <td>Action, Drama, Suspense</td>\n",
       "      <td>After a man discovers his wife is cheating on ...</td>\n",
       "    </tr>\n",
       "    <tr>\n",
       "      <th>2</th>\n",
       "      <td>s3</td>\n",
       "      <td>Movie</td>\n",
       "      <td>Secrets of Deception</td>\n",
       "      <td>Josh Webber</td>\n",
       "      <td>Yancey Arias</td>\n",
       "      <td>United States</td>\n",
       "      <td>March 30, 2021</td>\n",
       "      <td>2017</td>\n",
       "      <td>NaN</td>\n",
       "      <td>74 min</td>\n",
       "      <td>Action, Drama, Suspense</td>\n",
       "      <td>After a man discovers his wife is cheating on ...</td>\n",
       "    </tr>\n",
       "    <tr>\n",
       "      <th>2</th>\n",
       "      <td>s3</td>\n",
       "      <td>Movie</td>\n",
       "      <td>Secrets of Deception</td>\n",
       "      <td>Josh Webber</td>\n",
       "      <td>Noel Gugliemi</td>\n",
       "      <td>United States</td>\n",
       "      <td>March 30, 2021</td>\n",
       "      <td>2017</td>\n",
       "      <td>NaN</td>\n",
       "      <td>74 min</td>\n",
       "      <td>Action, Drama, Suspense</td>\n",
       "      <td>After a man discovers his wife is cheating on ...</td>\n",
       "    </tr>\n",
       "    <tr>\n",
       "      <th>3</th>\n",
       "      <td>s4</td>\n",
       "      <td>Movie</td>\n",
       "      <td>Pink: Staying True</td>\n",
       "      <td>Sonia Anderson</td>\n",
       "      <td>Adele</td>\n",
       "      <td>United States</td>\n",
       "      <td>March 30, 2021</td>\n",
       "      <td>2014</td>\n",
       "      <td>NaN</td>\n",
       "      <td>69 min</td>\n",
       "      <td>Documentary</td>\n",
       "      <td>Pink breaks the mold once again, bringing her ...</td>\n",
       "    </tr>\n",
       "    <tr>\n",
       "      <th>3</th>\n",
       "      <td>s4</td>\n",
       "      <td>Movie</td>\n",
       "      <td>Pink: Staying True</td>\n",
       "      <td>Sonia Anderson</td>\n",
       "      <td>Beyoncé</td>\n",
       "      <td>United States</td>\n",
       "      <td>March 30, 2021</td>\n",
       "      <td>2014</td>\n",
       "      <td>NaN</td>\n",
       "      <td>69 min</td>\n",
       "      <td>Documentary</td>\n",
       "      <td>Pink breaks the mold once again, bringing her ...</td>\n",
       "    </tr>\n",
       "    <tr>\n",
       "      <th>3</th>\n",
       "      <td>s4</td>\n",
       "      <td>Movie</td>\n",
       "      <td>Pink: Staying True</td>\n",
       "      <td>Sonia Anderson</td>\n",
       "      <td>Britney Spears</td>\n",
       "      <td>United States</td>\n",
       "      <td>March 30, 2021</td>\n",
       "      <td>2014</td>\n",
       "      <td>NaN</td>\n",
       "      <td>69 min</td>\n",
       "      <td>Documentary</td>\n",
       "      <td>Pink breaks the mold once again, bringing her ...</td>\n",
       "    </tr>\n",
       "    <tr>\n",
       "      <th>3</th>\n",
       "      <td>s4</td>\n",
       "      <td>Movie</td>\n",
       "      <td>Pink: Staying True</td>\n",
       "      <td>Sonia Anderson</td>\n",
       "      <td>Christina Aguilera</td>\n",
       "      <td>United States</td>\n",
       "      <td>March 30, 2021</td>\n",
       "      <td>2014</td>\n",
       "      <td>NaN</td>\n",
       "      <td>69 min</td>\n",
       "      <td>Documentary</td>\n",
       "      <td>Pink breaks the mold once again, bringing her ...</td>\n",
       "    </tr>\n",
       "    <tr>\n",
       "      <th>3</th>\n",
       "      <td>s4</td>\n",
       "      <td>Movie</td>\n",
       "      <td>Pink: Staying True</td>\n",
       "      <td>Sonia Anderson</td>\n",
       "      <td>more!</td>\n",
       "      <td>United States</td>\n",
       "      <td>March 30, 2021</td>\n",
       "      <td>2014</td>\n",
       "      <td>NaN</td>\n",
       "      <td>69 min</td>\n",
       "      <td>Documentary</td>\n",
       "      <td>Pink breaks the mold once again, bringing her ...</td>\n",
       "    </tr>\n",
       "    <tr>\n",
       "      <th>6</th>\n",
       "      <td>s7</td>\n",
       "      <td>Movie</td>\n",
       "      <td>Hired Gun</td>\n",
       "      <td>Fran Strine</td>\n",
       "      <td>Liberty DeVitto</td>\n",
       "      <td>United States</td>\n",
       "      <td>March 30, 2021</td>\n",
       "      <td>2017</td>\n",
       "      <td>NaN</td>\n",
       "      <td>98 min</td>\n",
       "      <td>Documentary, Special Interest</td>\n",
       "      <td>They are the \"First Call, A-list\" musicians, j...</td>\n",
       "    </tr>\n",
       "    <tr>\n",
       "      <th>6</th>\n",
       "      <td>s7</td>\n",
       "      <td>Movie</td>\n",
       "      <td>Hired Gun</td>\n",
       "      <td>Fran Strine</td>\n",
       "      <td>Ray Parker Jr.</td>\n",
       "      <td>United States</td>\n",
       "      <td>March 30, 2021</td>\n",
       "      <td>2017</td>\n",
       "      <td>NaN</td>\n",
       "      <td>98 min</td>\n",
       "      <td>Documentary, Special Interest</td>\n",
       "      <td>They are the \"First Call, A-list\" musicians, j...</td>\n",
       "    </tr>\n",
       "    <tr>\n",
       "      <th>6</th>\n",
       "      <td>s7</td>\n",
       "      <td>Movie</td>\n",
       "      <td>Hired Gun</td>\n",
       "      <td>Fran Strine</td>\n",
       "      <td>David Foster</td>\n",
       "      <td>United States</td>\n",
       "      <td>March 30, 2021</td>\n",
       "      <td>2017</td>\n",
       "      <td>NaN</td>\n",
       "      <td>98 min</td>\n",
       "      <td>Documentary, Special Interest</td>\n",
       "      <td>They are the \"First Call, A-list\" musicians, j...</td>\n",
       "    </tr>\n",
       "    <tr>\n",
       "      <th>6</th>\n",
       "      <td>s7</td>\n",
       "      <td>Movie</td>\n",
       "      <td>Hired Gun</td>\n",
       "      <td>Fran Strine</td>\n",
       "      <td>Jason Hook</td>\n",
       "      <td>United States</td>\n",
       "      <td>March 30, 2021</td>\n",
       "      <td>2017</td>\n",
       "      <td>NaN</td>\n",
       "      <td>98 min</td>\n",
       "      <td>Documentary, Special Interest</td>\n",
       "      <td>They are the \"First Call, A-list\" musicians, j...</td>\n",
       "    </tr>\n",
       "    <tr>\n",
       "      <th>6</th>\n",
       "      <td>s7</td>\n",
       "      <td>Movie</td>\n",
       "      <td>Hired Gun</td>\n",
       "      <td>Fran Strine</td>\n",
       "      <td>Steve Vai</td>\n",
       "      <td>United States</td>\n",
       "      <td>March 30, 2021</td>\n",
       "      <td>2017</td>\n",
       "      <td>NaN</td>\n",
       "      <td>98 min</td>\n",
       "      <td>Documentary, Special Interest</td>\n",
       "      <td>They are the \"First Call, A-list\" musicians, j...</td>\n",
       "    </tr>\n",
       "  </tbody>\n",
       "</table>\n",
       "</div>"
      ],
      "text/plain": [
       "  show_id   type                 title        director                cast  \\\n",
       "2      s3  Movie  Secrets of Deception     Josh Webber       Lorenzo Lamas   \n",
       "2      s3  Movie  Secrets of Deception     Josh Webber      Robert LaSardo   \n",
       "2      s3  Movie  Secrets of Deception     Josh Webber       Richard Jones   \n",
       "2      s3  Movie  Secrets of Deception     Josh Webber        Yancey Arias   \n",
       "2      s3  Movie  Secrets of Deception     Josh Webber       Noel Gugliemi   \n",
       "3      s4  Movie    Pink: Staying True  Sonia Anderson               Adele   \n",
       "3      s4  Movie    Pink: Staying True  Sonia Anderson             Beyoncé   \n",
       "3      s4  Movie    Pink: Staying True  Sonia Anderson      Britney Spears   \n",
       "3      s4  Movie    Pink: Staying True  Sonia Anderson  Christina Aguilera   \n",
       "3      s4  Movie    Pink: Staying True  Sonia Anderson               more!   \n",
       "6      s7  Movie             Hired Gun     Fran Strine     Liberty DeVitto   \n",
       "6      s7  Movie             Hired Gun     Fran Strine      Ray Parker Jr.   \n",
       "6      s7  Movie             Hired Gun     Fran Strine        David Foster   \n",
       "6      s7  Movie             Hired Gun     Fran Strine          Jason Hook   \n",
       "6      s7  Movie             Hired Gun     Fran Strine           Steve Vai   \n",
       "\n",
       "         country      date_added  release_year rating duration  \\\n",
       "2  United States  March 30, 2021          2017    NaN   74 min   \n",
       "2  United States  March 30, 2021          2017    NaN   74 min   \n",
       "2  United States  March 30, 2021          2017    NaN   74 min   \n",
       "2  United States  March 30, 2021          2017    NaN   74 min   \n",
       "2  United States  March 30, 2021          2017    NaN   74 min   \n",
       "3  United States  March 30, 2021          2014    NaN   69 min   \n",
       "3  United States  March 30, 2021          2014    NaN   69 min   \n",
       "3  United States  March 30, 2021          2014    NaN   69 min   \n",
       "3  United States  March 30, 2021          2014    NaN   69 min   \n",
       "3  United States  March 30, 2021          2014    NaN   69 min   \n",
       "6  United States  March 30, 2021          2017    NaN   98 min   \n",
       "6  United States  March 30, 2021          2017    NaN   98 min   \n",
       "6  United States  March 30, 2021          2017    NaN   98 min   \n",
       "6  United States  March 30, 2021          2017    NaN   98 min   \n",
       "6  United States  March 30, 2021          2017    NaN   98 min   \n",
       "\n",
       "                       listed_in  \\\n",
       "2        Action, Drama, Suspense   \n",
       "2        Action, Drama, Suspense   \n",
       "2        Action, Drama, Suspense   \n",
       "2        Action, Drama, Suspense   \n",
       "2        Action, Drama, Suspense   \n",
       "3                    Documentary   \n",
       "3                    Documentary   \n",
       "3                    Documentary   \n",
       "3                    Documentary   \n",
       "3                    Documentary   \n",
       "6  Documentary, Special Interest   \n",
       "6  Documentary, Special Interest   \n",
       "6  Documentary, Special Interest   \n",
       "6  Documentary, Special Interest   \n",
       "6  Documentary, Special Interest   \n",
       "\n",
       "                                         description  \n",
       "2  After a man discovers his wife is cheating on ...  \n",
       "2  After a man discovers his wife is cheating on ...  \n",
       "2  After a man discovers his wife is cheating on ...  \n",
       "2  After a man discovers his wife is cheating on ...  \n",
       "2  After a man discovers his wife is cheating on ...  \n",
       "3  Pink breaks the mold once again, bringing her ...  \n",
       "3  Pink breaks the mold once again, bringing her ...  \n",
       "3  Pink breaks the mold once again, bringing her ...  \n",
       "3  Pink breaks the mold once again, bringing her ...  \n",
       "3  Pink breaks the mold once again, bringing her ...  \n",
       "6  They are the \"First Call, A-list\" musicians, j...  \n",
       "6  They are the \"First Call, A-list\" musicians, j...  \n",
       "6  They are the \"First Call, A-list\" musicians, j...  \n",
       "6  They are the \"First Call, A-list\" musicians, j...  \n",
       "6  They are the \"First Call, A-list\" musicians, j...  "
      ]
     },
     "execution_count": 17,
     "metadata": {},
     "output_type": "execute_result"
    }
   ],
   "source": [
    "# Duplicates\n",
    "duplicates = df[df.duplicated(subset = ['title'])]\n",
    "duplicates.head(15)"
   ]
  },
  {
   "cell_type": "code",
   "execution_count": 18,
   "metadata": {},
   "outputs": [
    {
     "name": "stdout",
     "output_type": "stream",
     "text": [
      "2614\n"
     ]
    }
   ],
   "source": [
    "print(df.duplicated(subset = ['title']).sum())"
   ]
  },
  {
   "cell_type": "code",
   "execution_count": null,
   "metadata": {},
   "outputs": [
    {
     "name": "stdout",
     "output_type": "stream",
     "text": [
      "show_id: 327 unique values\n",
      "['s3' 's4' 's7' 's8' 's10' 's12' 's16' 's28' 's67' 's85']\n",
      "--------------------------------------------------\n",
      "type: 2 unique values\n",
      "['Movie' 'TV Show']\n",
      "--------------------------------------------------\n",
      "title: 327 unique values\n",
      "['Secrets of Deception' 'Pink: Staying True' 'Hired Gun' 'Grease Live!'\n",
      " \"David's Mother\" 'Take Care' \"Summer '03\"\n",
      " 'Z: The Beginning of Everything'\n",
      " 'World’s Toughest Race: Eco-Challenge Fiji' 'Wishenpoof']\n",
      "--------------------------------------------------\n",
      "director: 237 unique values\n",
      "['Josh Webber' 'Sonia Anderson' 'Fran Strine'\n",
      " 'Thomas Kail, Alex Rudzinski' 'Robert Allan Ackerman' 'Liz Tuccillo'\n",
      " 'Becca Gleason' nan 'Bill Norton' 'Eric D. Howell']\n",
      "--------------------------------------------------\n",
      "cast: 1854 unique values\n",
      "['Tom Sizemore' 'Lorenzo Lamas' 'Robert LaSardo' 'Richard Jones'\n",
      " 'Yancey Arias' 'Noel Gugliemi' 'Interviews with: Pink' 'Adele' 'Beyoncé'\n",
      " 'Britney Spears']\n",
      "--------------------------------------------------\n",
      "country: 33 unique values\n",
      "['United States' 'Italy' 'India' 'United Kingdom' 'Germany' 'China'\n",
      " 'Ireland' 'Canada' 'Thailand' 'Brazil']\n",
      "--------------------------------------------------\n",
      "duration: 90 unique values\n",
      "['74 min' '69 min' '98 min' '131 min' '92 min' '93 min' '96 min'\n",
      " '1 Season' '4 Seasons' '94 min']\n",
      "--------------------------------------------------\n",
      "listed_in: 114 unique values\n",
      "['Action, Drama, Suspense' 'Documentary' 'Documentary, Special Interest'\n",
      " 'Comedy' 'Drama' 'Comedy, Drama' 'Unscripted' 'Kids' 'Drama, Suspense'\n",
      " 'International, Suspense']\n",
      "--------------------------------------------------\n",
      "Column 'extra' not found in DataFrame.\n"
     ]
    }
   ],
   "source": [
    "string_columns = [\"show_id\", \"type\", \"title\", \"director\", \"cast\", \n",
    "                  \"country\", \"duration\", \"listed_in\", \"extra\"]\n",
    "\n",
    "for col in string_columns:\n",
    "    if col in df.columns:\n",
    "        unique_values = df[col].unique()\n",
    "        print(f\"{col}: {len(unique_values)} unique values\")\n",
    "        print(unique_values[:10])\n",
    "        print(\"-\" * 50)\n",
    "    else:\n",
    "        print(f\"Column '{col}' not found in DataFrame.\")\n"
   ]
  },
  {
   "cell_type": "code",
   "execution_count": null,
   "metadata": {},
   "outputs": [
    {
     "name": "stdout",
     "output_type": "stream",
     "text": [
      "Interquartile Range (IQR):\n",
      "release_year    11.0\n",
      "dtype: float64\n",
      "     show_id   type                                          title  \\\n",
      "258     s259  Movie                                    True Colors   \n",
      "321     s322  Movie                               To Catch a Thief   \n",
      "492     s493  Movie                              The Parallax View   \n",
      "505     s506  Movie                     The Nutty Professor (1963)   \n",
      "530     s531  Movie                              The Monster Squad   \n",
      "708     s709  Movie                               The Court Jester   \n",
      "916     s917  Movie   Stagecoach - The Original John Wayne Classic   \n",
      "955     s956  Movie                                       Soapdish   \n",
      "1579   s1580  Movie                                   Mr. Imperium   \n",
      "2004   s2005  Movie                                           Joni   \n",
      "2248   s2249  Movie                               Harold and Maude   \n",
      "3053   s3054  Movie                                     Black Robe   \n",
      "3619   s3620  Movie                              Midnight Crossing   \n",
      "3740   s3741  Movie                               The Hiding Place   \n",
      "3845   s3846  Movie  It's A Wonderful Life (Black & White Version)   \n",
      "4056   s4057  Movie          Manhunt: Search for the Night Stalker   \n",
      "4320   s4321  Movie                          It's A Wonderful Life   \n",
      "4862   s4863  Movie      Voyage to the Planet of Prehistoric Women   \n",
      "5579   s5580  Movie                              Human experiments   \n",
      "5581   s5582  Movie                                      Heartburn   \n",
      "6563   s6564  Movie                               In the Year 2889   \n",
      "8277   s8278  Movie                                        Parents   \n",
      "9216   s9217  Movie                                       Die Hard   \n",
      "9457   s9458  Movie                            Die Hard 2 (4K UHD)   \n",
      "\n",
      "                         director                 cast        country  \\\n",
      "258                  Herbert Ross      Richard Widmark  United States   \n",
      "321              Alfred Hitchcock           Cary Grant  United States   \n",
      "492                Alan J. Pakula        Warren Beatty  United States   \n",
      "505                   Jerry Lewis          Jerry Lewis  United States   \n",
      "530                   Fred Dekker          Andre Gower  United States   \n",
      "708   Melvin Frank, Norman Panama           Danny Kaye  United States   \n",
      "916                     John Ford           John Wayne  United States   \n",
      "955               Michael Hoffman    Robert Downey Jr.  United States   \n",
      "1579                  Don Hartman      Debbie Reynolds  United States   \n",
      "2004             James F. Collier  Joni Eareckson Tada  United States   \n",
      "2248                    Hal Ashby          Ruth Gordon  United States   \n",
      "3053              Bruce Beresford     Lothaire Bluteau  United States   \n",
      "3619               Roger Holzberg         Faye Dunaway  United States   \n",
      "3740             James F. Collier         Julie Harris  United States   \n",
      "3845                  Frank Capra        James Stewart  United States   \n",
      "4056             Bruce Seth Green       Richard Jordan  United States   \n",
      "4320                  Frank Capra        James Stewart  United States   \n",
      "4862            Peter Bogdanovich      Mamie Van Doren  United States   \n",
      "5579              Gregory Goodell         Linda Haynes  United States   \n",
      "5581                 Mike Nichols         Meryl Streep  United States   \n",
      "6563               Larry Buchanan        Paul Petersen  United States   \n",
      "8277                  Bob Balaban          Randy Quaid         Canada   \n",
      "9216               John McTiernan         Bruce Willis  United States   \n",
      "9457                 Renny Harlin         Bruce Willis  United States   \n",
      "\n",
      "     date_added  release_year rating duration                  listed_in  \\\n",
      "258         NaN          1991      R  110 min                      Drama   \n",
      "321         NaN          1955     PG  106 min            Drama, Suspense   \n",
      "492         NaN          1974      R  102 min                      Drama   \n",
      "505         NaN          1963    ALL  107 min    Comedy, Science Fiction   \n",
      "530         NaN          1987  PG-13   82 min     Action, Comedy, Horror   \n",
      "708         NaN          1956    ALL  101 min             Action, Comedy   \n",
      "916         NaN          1939     7+   96 min  Adventure, Drama, Western   \n",
      "955         NaN          1991  PG-13   96 min                     Comedy   \n",
      "1579        NaN          1951    13+   87 min                      Drama   \n",
      "2004        NaN          1979     PG  112 min                      Drama   \n",
      "2248        NaN          1971     PG   92 min              Comedy, Drama   \n",
      "3053        NaN          1991      R  101 min              Action, Drama   \n",
      "3619        NaN          1988      R   97 min                   Suspense   \n",
      "3740        NaN          1975    13+  146 min                      Drama   \n",
      "3845        NaN          1946    13+  131 min                      Drama   \n",
      "4056        NaN          1989    16+   95 min      Documentary, Suspense   \n",
      "4320        NaN          1946     PG  131 min             Drama, Fantasy   \n",
      "4862        NaN          1968    13+   80 min            Science Fiction   \n",
      "5579        NaN          1979    18+   85 min           Horror, Suspense   \n",
      "5581        NaN          1986      R  109 min            Comedy, Romance   \n",
      "6563        NaN          1967    13+   80 min    Horror, Science Fiction   \n",
      "8277        NaN          1989      R   82 min   Comedy, Horror, Suspense   \n",
      "9216        NaN          1988      R  132 min                   Suspense   \n",
      "9457        NaN          1990      R  123 min          Action, Adventure   \n",
      "\n",
      "                                            description  \n",
      "258   While Tim dreamed of working in the Justice De...  \n",
      "321   Stars Cary Grant as a former thief suspected o...  \n",
      "492   Warren Beatty is a news reporter who, along wi...  \n",
      "505   Jerry Lewis plays a timid, nearsighted chemist...  \n",
      "530   Dracula, the Wolf Man, the Gill-Man, the Mummy...  \n",
      "708   Danny Kaye plays kind-hearted entertainer Hawk...  \n",
      "916   A stagecoach sets off across the untamed wilde...  \n",
      "955   The cast and crew of The Sun Also Sets, Americ...  \n",
      "1579  Mr. Imperium (Pinza), a royal bachelor prince,...  \n",
      "2004  She was young...vital...just 17, when a diving...  \n",
      "2248  Harold is young, rich and obsessed with death....  \n",
      "3053  In the 17th century, a Jesuit missionary nickn...  \n",
      "3619  A group of adventurers sneak into Cuba to try ...  \n",
      "3740  In wartime Holland, the Ten Boom family joins ...  \n",
      "3845  After George Bailey wishes he had never been b...  \n",
      "4056  In 1985, Richard Ramirez terrorized California...  \n",
      "4320  After George Bailey wishes he had never been b...  \n",
      "4862  The first expedition to Venus discovers that t...  \n",
      "5579  A demented prison doctor performs gruesome sho...  \n",
      "5581  Meryl Streep and Jack Nicholson are wonderful ...  \n",
      "6563  After a nuclear war has destroyed most of huma...  \n",
      "8277  Meet the Laemles, Dad's (Randy Quaid) got a gr...  \n",
      "9216  John McClane, officer of the NYPD, tries to sa...  \n",
      "9457  John McClane is forced to battle mercenaries w...  \n"
     ]
    }
   ],
   "source": [
    "numeric_columns = ['release_year']\n",
    "\n",
    "Q1 = df[numeric_columns].quantile(0.25)\n",
    "Q3 = df[numeric_columns].quantile(0.75)\n",
    "IQR = Q3 - Q1\n",
    "\n",
    "print(\"Interquartile Range (IQR):\")\n",
    "print(IQR)\n",
    "\n",
    "outliers = ((df[numeric_columns] < (Q1 - 1.5 * IQR)) | (df[numeric_columns] > (Q3 + 1.5 * IQR)))\n",
    "\n",
    "outlier_df = df[outliers.any(axis=1)]\n",
    "print(outlier_df)\n"
   ]
  },
  {
   "cell_type": "markdown",
   "metadata": {},
   "source": [
    "# 4.Data Cleaning"
   ]
  },
  {
   "cell_type": "code",
   "execution_count": 11,
   "metadata": {},
   "outputs": [
    {
     "data": {
      "text/html": [
       "<div>\n",
       "<style scoped>\n",
       "    .dataframe tbody tr th:only-of-type {\n",
       "        vertical-align: middle;\n",
       "    }\n",
       "\n",
       "    .dataframe tbody tr th {\n",
       "        vertical-align: top;\n",
       "    }\n",
       "\n",
       "    .dataframe thead th {\n",
       "        text-align: right;\n",
       "    }\n",
       "</style>\n",
       "<table border=\"1\" class=\"dataframe\">\n",
       "  <thead>\n",
       "    <tr style=\"text-align: right;\">\n",
       "      <th></th>\n",
       "      <th>show_id</th>\n",
       "      <th>type</th>\n",
       "      <th>title</th>\n",
       "      <th>director</th>\n",
       "      <th>cast</th>\n",
       "      <th>country</th>\n",
       "      <th>date_added</th>\n",
       "      <th>release_year</th>\n",
       "      <th>rating</th>\n",
       "      <th>duration</th>\n",
       "      <th>listed_in</th>\n",
       "      <th>description</th>\n",
       "      <th>extra</th>\n",
       "    </tr>\n",
       "  </thead>\n",
       "  <tbody>\n",
       "    <tr>\n",
       "      <th>0</th>\n",
       "      <td>s1</td>\n",
       "      <td>Movie</td>\n",
       "      <td>The Grand Seduction</td>\n",
       "      <td>Don McKellar</td>\n",
       "      <td>Brendan Gleeson, Taylor Kitsch, Gordon Pinsent</td>\n",
       "      <td>Canada</td>\n",
       "      <td>March 30, 2021</td>\n",
       "      <td>2014</td>\n",
       "      <td>Unknown</td>\n",
       "      <td>113 min</td>\n",
       "      <td>Comedy, Drama</td>\n",
       "      <td>A small fishing village must procure a local d...</td>\n",
       "      <td>0       March 30, 2021\\n1       March 30, 2021...</td>\n",
       "    </tr>\n",
       "    <tr>\n",
       "      <th>1</th>\n",
       "      <td>s2</td>\n",
       "      <td>Movie</td>\n",
       "      <td>Take Care Good Night</td>\n",
       "      <td>Girish Joshi</td>\n",
       "      <td>Mahesh Manjrekar, Abhay Mahajan, Sachin Khedekar</td>\n",
       "      <td>India</td>\n",
       "      <td>March 30, 2021</td>\n",
       "      <td>2018</td>\n",
       "      <td>13+</td>\n",
       "      <td>110 min</td>\n",
       "      <td>Drama, International</td>\n",
       "      <td>A Metro Family decides to fight a Cyber Crimin...</td>\n",
       "      <td>0       March 30, 2021\\n1       March 30, 2021...</td>\n",
       "    </tr>\n",
       "    <tr>\n",
       "      <th>2</th>\n",
       "      <td>s3</td>\n",
       "      <td>Movie</td>\n",
       "      <td>Secrets of Deception</td>\n",
       "      <td>Josh Webber</td>\n",
       "      <td>Tom Sizemore, Lorenzo Lamas, Robert LaSardo, R...</td>\n",
       "      <td>United States</td>\n",
       "      <td>March 30, 2021</td>\n",
       "      <td>2017</td>\n",
       "      <td>Unknown</td>\n",
       "      <td>74 min</td>\n",
       "      <td>Action, Drama, Suspense</td>\n",
       "      <td>After a man discovers his wife is cheating on ...</td>\n",
       "      <td>0       March 30, 2021\\n1       March 30, 2021...</td>\n",
       "    </tr>\n",
       "    <tr>\n",
       "      <th>3</th>\n",
       "      <td>s4</td>\n",
       "      <td>Movie</td>\n",
       "      <td>Pink: Staying True</td>\n",
       "      <td>Sonia Anderson</td>\n",
       "      <td>Interviews with: Pink, Adele, Beyoncé, Britney...</td>\n",
       "      <td>United States</td>\n",
       "      <td>March 30, 2021</td>\n",
       "      <td>2014</td>\n",
       "      <td>Unknown</td>\n",
       "      <td>69 min</td>\n",
       "      <td>Documentary</td>\n",
       "      <td>Pink breaks the mold once again, bringing her ...</td>\n",
       "      <td>0       March 30, 2021\\n1       March 30, 2021...</td>\n",
       "    </tr>\n",
       "    <tr>\n",
       "      <th>4</th>\n",
       "      <td>s5</td>\n",
       "      <td>Movie</td>\n",
       "      <td>Monster Maker</td>\n",
       "      <td>Giles Foster</td>\n",
       "      <td>Harry Dean Stanton, Kieran O'Brien, George Cos...</td>\n",
       "      <td>United Kingdom</td>\n",
       "      <td>March 30, 2021</td>\n",
       "      <td>1989</td>\n",
       "      <td>Unknown</td>\n",
       "      <td>45 min</td>\n",
       "      <td>Drama, Fantasy</td>\n",
       "      <td>Teenage Matt Banting wants to work with a famo...</td>\n",
       "      <td>0       March 30, 2021\\n1       March 30, 2021...</td>\n",
       "    </tr>\n",
       "  </tbody>\n",
       "</table>\n",
       "</div>"
      ],
      "text/plain": [
       "  show_id   type                 title        director  \\\n",
       "0      s1  Movie   The Grand Seduction    Don McKellar   \n",
       "1      s2  Movie  Take Care Good Night    Girish Joshi   \n",
       "2      s3  Movie  Secrets of Deception     Josh Webber   \n",
       "3      s4  Movie    Pink: Staying True  Sonia Anderson   \n",
       "4      s5  Movie         Monster Maker    Giles Foster   \n",
       "\n",
       "                                                cast         country  \\\n",
       "0     Brendan Gleeson, Taylor Kitsch, Gordon Pinsent          Canada   \n",
       "1   Mahesh Manjrekar, Abhay Mahajan, Sachin Khedekar           India   \n",
       "2  Tom Sizemore, Lorenzo Lamas, Robert LaSardo, R...   United States   \n",
       "3  Interviews with: Pink, Adele, Beyoncé, Britney...   United States   \n",
       "4  Harry Dean Stanton, Kieran O'Brien, George Cos...  United Kingdom   \n",
       "\n",
       "       date_added  release_year   rating duration                listed_in  \\\n",
       "0  March 30, 2021          2014  Unknown  113 min            Comedy, Drama   \n",
       "1  March 30, 2021          2018      13+  110 min     Drama, International   \n",
       "2  March 30, 2021          2017  Unknown   74 min  Action, Drama, Suspense   \n",
       "3  March 30, 2021          2014  Unknown   69 min              Documentary   \n",
       "4  March 30, 2021          1989  Unknown   45 min           Drama, Fantasy   \n",
       "\n",
       "                                         description  \\\n",
       "0  A small fishing village must procure a local d...   \n",
       "1  A Metro Family decides to fight a Cyber Crimin...   \n",
       "2  After a man discovers his wife is cheating on ...   \n",
       "3  Pink breaks the mold once again, bringing her ...   \n",
       "4  Teenage Matt Banting wants to work with a famo...   \n",
       "\n",
       "                                               extra  \n",
       "0  0       March 30, 2021\\n1       March 30, 2021...  \n",
       "1  0       March 30, 2021\\n1       March 30, 2021...  \n",
       "2  0       March 30, 2021\\n1       March 30, 2021...  \n",
       "3  0       March 30, 2021\\n1       March 30, 2021...  \n",
       "4  0       March 30, 2021\\n1       March 30, 2021...  "
      ]
     },
     "execution_count": 11,
     "metadata": {},
     "output_type": "execute_result"
    }
   ],
   "source": [
    "df.fillna('Unknown', inplace = True)\n",
    "df.head()"
   ]
  },
  {
   "cell_type": "code",
   "execution_count": 13,
   "metadata": {},
   "outputs": [
    {
     "data": {
      "text/plain": [
       "show_id         0\n",
       "type            0\n",
       "title           0\n",
       "director        0\n",
       "cast            0\n",
       "country         0\n",
       "date_added      0\n",
       "release_year    0\n",
       "rating          0\n",
       "duration        0\n",
       "listed_in       0\n",
       "description     0\n",
       "extra           0\n",
       "dtype: int64"
      ]
     },
     "execution_count": 13,
     "metadata": {},
     "output_type": "execute_result"
    }
   ],
   "source": [
    "df.isnull().sum()"
   ]
  },
  {
   "cell_type": "code",
   "execution_count": 25,
   "metadata": {},
   "outputs": [
    {
     "name": "stdout",
     "output_type": "stream",
     "text": [
      "0\n"
     ]
    },
    {
     "data": {
      "text/html": [
       "<div>\n",
       "<style scoped>\n",
       "    .dataframe tbody tr th:only-of-type {\n",
       "        vertical-align: middle;\n",
       "    }\n",
       "\n",
       "    .dataframe tbody tr th {\n",
       "        vertical-align: top;\n",
       "    }\n",
       "\n",
       "    .dataframe thead th {\n",
       "        text-align: right;\n",
       "    }\n",
       "</style>\n",
       "<table border=\"1\" class=\"dataframe\">\n",
       "  <thead>\n",
       "    <tr style=\"text-align: right;\">\n",
       "      <th></th>\n",
       "      <th>show_id</th>\n",
       "      <th>type</th>\n",
       "      <th>title</th>\n",
       "      <th>director</th>\n",
       "      <th>cast</th>\n",
       "      <th>country</th>\n",
       "      <th>date_added</th>\n",
       "      <th>release_year</th>\n",
       "      <th>rating</th>\n",
       "      <th>duration</th>\n",
       "      <th>listed_in</th>\n",
       "      <th>description</th>\n",
       "    </tr>\n",
       "  </thead>\n",
       "  <tbody>\n",
       "    <tr>\n",
       "      <th>2</th>\n",
       "      <td>s3</td>\n",
       "      <td>Movie</td>\n",
       "      <td>Secrets of Deception</td>\n",
       "      <td>Josh Webber</td>\n",
       "      <td>Tom Sizemore</td>\n",
       "      <td>United States</td>\n",
       "      <td>March 30, 2021</td>\n",
       "      <td>2017</td>\n",
       "      <td>NaN</td>\n",
       "      <td>74 min</td>\n",
       "      <td>Action, Drama, Suspense</td>\n",
       "      <td>After a man discovers his wife is cheating on ...</td>\n",
       "    </tr>\n",
       "    <tr>\n",
       "      <th>3</th>\n",
       "      <td>s4</td>\n",
       "      <td>Movie</td>\n",
       "      <td>Pink: Staying True</td>\n",
       "      <td>Sonia Anderson</td>\n",
       "      <td>Interviews with: Pink</td>\n",
       "      <td>United States</td>\n",
       "      <td>March 30, 2021</td>\n",
       "      <td>2014</td>\n",
       "      <td>NaN</td>\n",
       "      <td>69 min</td>\n",
       "      <td>Documentary</td>\n",
       "      <td>Pink breaks the mold once again, bringing her ...</td>\n",
       "    </tr>\n",
       "    <tr>\n",
       "      <th>6</th>\n",
       "      <td>s7</td>\n",
       "      <td>Movie</td>\n",
       "      <td>Hired Gun</td>\n",
       "      <td>Fran Strine</td>\n",
       "      <td>Alice Cooper</td>\n",
       "      <td>United States</td>\n",
       "      <td>March 30, 2021</td>\n",
       "      <td>2017</td>\n",
       "      <td>NaN</td>\n",
       "      <td>98 min</td>\n",
       "      <td>Documentary, Special Interest</td>\n",
       "      <td>They are the \"First Call, A-list\" musicians, j...</td>\n",
       "    </tr>\n",
       "    <tr>\n",
       "      <th>7</th>\n",
       "      <td>s8</td>\n",
       "      <td>Movie</td>\n",
       "      <td>Grease Live!</td>\n",
       "      <td>Thomas Kail, Alex Rudzinski</td>\n",
       "      <td>Julianne Hough</td>\n",
       "      <td>United States</td>\n",
       "      <td>March 30, 2021</td>\n",
       "      <td>2016</td>\n",
       "      <td>NaN</td>\n",
       "      <td>131 min</td>\n",
       "      <td>Comedy</td>\n",
       "      <td>This honest, uncompromising comedy chronicles ...</td>\n",
       "    </tr>\n",
       "    <tr>\n",
       "      <th>9</th>\n",
       "      <td>s10</td>\n",
       "      <td>Movie</td>\n",
       "      <td>David's Mother</td>\n",
       "      <td>Robert Allan Ackerman</td>\n",
       "      <td>Kirstie Alley</td>\n",
       "      <td>United States</td>\n",
       "      <td>April 1, 2021</td>\n",
       "      <td>1994</td>\n",
       "      <td>NaN</td>\n",
       "      <td>92 min</td>\n",
       "      <td>Drama</td>\n",
       "      <td>Sally Goodson is a devoted mother to her autis...</td>\n",
       "    </tr>\n",
       "  </tbody>\n",
       "</table>\n",
       "</div>"
      ],
      "text/plain": [
       "  show_id   type                 title                     director  \\\n",
       "2      s3  Movie  Secrets of Deception                  Josh Webber   \n",
       "3      s4  Movie    Pink: Staying True               Sonia Anderson   \n",
       "6      s7  Movie             Hired Gun                  Fran Strine   \n",
       "7      s8  Movie          Grease Live!  Thomas Kail, Alex Rudzinski   \n",
       "9     s10  Movie        David's Mother        Robert Allan Ackerman   \n",
       "\n",
       "                    cast        country      date_added  release_year rating  \\\n",
       "2           Tom Sizemore  United States  March 30, 2021          2017    NaN   \n",
       "3  Interviews with: Pink  United States  March 30, 2021          2014    NaN   \n",
       "6           Alice Cooper  United States  March 30, 2021          2017    NaN   \n",
       "7         Julianne Hough  United States  March 30, 2021          2016    NaN   \n",
       "9          Kirstie Alley  United States   April 1, 2021          1994    NaN   \n",
       "\n",
       "  duration                      listed_in  \\\n",
       "2   74 min        Action, Drama, Suspense   \n",
       "3   69 min                    Documentary   \n",
       "6   98 min  Documentary, Special Interest   \n",
       "7  131 min                         Comedy   \n",
       "9   92 min                          Drama   \n",
       "\n",
       "                                         description  \n",
       "2  After a man discovers his wife is cheating on ...  \n",
       "3  Pink breaks the mold once again, bringing her ...  \n",
       "6  They are the \"First Call, A-list\" musicians, j...  \n",
       "7  This honest, uncompromising comedy chronicles ...  \n",
       "9  Sally Goodson is a devoted mother to her autis...  "
      ]
     },
     "execution_count": 25,
     "metadata": {},
     "output_type": "execute_result"
    }
   ],
   "source": [
    "df = df.drop_duplicates(subset = ['title'])\n",
    "print(df.duplicated(subset = ['title']).sum())\n",
    "df.head()"
   ]
  },
  {
   "cell_type": "code",
   "execution_count": 29,
   "metadata": {},
   "outputs": [
    {
     "data": {
      "text/html": [
       "<div>\n",
       "<style scoped>\n",
       "    .dataframe tbody tr th:only-of-type {\n",
       "        vertical-align: middle;\n",
       "    }\n",
       "\n",
       "    .dataframe tbody tr th {\n",
       "        vertical-align: top;\n",
       "    }\n",
       "\n",
       "    .dataframe thead th {\n",
       "        text-align: right;\n",
       "    }\n",
       "</style>\n",
       "<table border=\"1\" class=\"dataframe\">\n",
       "  <thead>\n",
       "    <tr style=\"text-align: right;\">\n",
       "      <th></th>\n",
       "      <th>show_id</th>\n",
       "      <th>type</th>\n",
       "      <th>title</th>\n",
       "      <th>director</th>\n",
       "      <th>cast</th>\n",
       "      <th>country</th>\n",
       "      <th>date_added</th>\n",
       "      <th>release_year</th>\n",
       "      <th>rating</th>\n",
       "      <th>duration</th>\n",
       "      <th>listed_in</th>\n",
       "      <th>description</th>\n",
       "      <th>extra</th>\n",
       "    </tr>\n",
       "  </thead>\n",
       "  <tbody>\n",
       "    <tr>\n",
       "      <th>0</th>\n",
       "      <td>s1</td>\n",
       "      <td>Movie</td>\n",
       "      <td>The Grand Seduction</td>\n",
       "      <td>Don McKellar</td>\n",
       "      <td>Brendan Gleeson, Taylor Kitsch, Gordon Pinsent</td>\n",
       "      <td>Canada</td>\n",
       "      <td>2021-03-30</td>\n",
       "      <td>2014</td>\n",
       "      <td>Unknown</td>\n",
       "      <td>113 min</td>\n",
       "      <td>Comedy, Drama</td>\n",
       "      <td>A small fishing village must procure a local d...</td>\n",
       "      <td>0       March 30, 2021\\n1       March 30, 2021...</td>\n",
       "    </tr>\n",
       "    <tr>\n",
       "      <th>1</th>\n",
       "      <td>s2</td>\n",
       "      <td>Movie</td>\n",
       "      <td>Take Care Good Night</td>\n",
       "      <td>Girish Joshi</td>\n",
       "      <td>Mahesh Manjrekar, Abhay Mahajan, Sachin Khedekar</td>\n",
       "      <td>India</td>\n",
       "      <td>2021-03-30</td>\n",
       "      <td>2018</td>\n",
       "      <td>13+</td>\n",
       "      <td>110 min</td>\n",
       "      <td>Drama, International</td>\n",
       "      <td>A Metro Family decides to fight a Cyber Crimin...</td>\n",
       "      <td>0       March 30, 2021\\n1       March 30, 2021...</td>\n",
       "    </tr>\n",
       "    <tr>\n",
       "      <th>2</th>\n",
       "      <td>s3</td>\n",
       "      <td>Movie</td>\n",
       "      <td>Secrets of Deception</td>\n",
       "      <td>Josh Webber</td>\n",
       "      <td>Tom Sizemore, Lorenzo Lamas, Robert LaSardo, R...</td>\n",
       "      <td>United States</td>\n",
       "      <td>2021-03-30</td>\n",
       "      <td>2017</td>\n",
       "      <td>Unknown</td>\n",
       "      <td>74 min</td>\n",
       "      <td>Action, Drama, Suspense</td>\n",
       "      <td>After a man discovers his wife is cheating on ...</td>\n",
       "      <td>0       March 30, 2021\\n1       March 30, 2021...</td>\n",
       "    </tr>\n",
       "    <tr>\n",
       "      <th>3</th>\n",
       "      <td>s4</td>\n",
       "      <td>Movie</td>\n",
       "      <td>Pink: Staying True</td>\n",
       "      <td>Sonia Anderson</td>\n",
       "      <td>Interviews with: Pink, Adele, Beyoncé, Britney...</td>\n",
       "      <td>United States</td>\n",
       "      <td>2021-03-30</td>\n",
       "      <td>2014</td>\n",
       "      <td>Unknown</td>\n",
       "      <td>69 min</td>\n",
       "      <td>Documentary</td>\n",
       "      <td>Pink breaks the mold once again, bringing her ...</td>\n",
       "      <td>0       March 30, 2021\\n1       March 30, 2021...</td>\n",
       "    </tr>\n",
       "    <tr>\n",
       "      <th>4</th>\n",
       "      <td>s5</td>\n",
       "      <td>Movie</td>\n",
       "      <td>Monster Maker</td>\n",
       "      <td>Giles Foster</td>\n",
       "      <td>Harry Dean Stanton, Kieran O'Brien, George Cos...</td>\n",
       "      <td>United Kingdom</td>\n",
       "      <td>2021-03-30</td>\n",
       "      <td>1989</td>\n",
       "      <td>Unknown</td>\n",
       "      <td>45 min</td>\n",
       "      <td>Drama, Fantasy</td>\n",
       "      <td>Teenage Matt Banting wants to work with a famo...</td>\n",
       "      <td>0       March 30, 2021\\n1       March 30, 2021...</td>\n",
       "    </tr>\n",
       "  </tbody>\n",
       "</table>\n",
       "</div>"
      ],
      "text/plain": [
       "  show_id   type                 title        director  \\\n",
       "0      s1  Movie   The Grand Seduction    Don McKellar   \n",
       "1      s2  Movie  Take Care Good Night    Girish Joshi   \n",
       "2      s3  Movie  Secrets of Deception     Josh Webber   \n",
       "3      s4  Movie    Pink: Staying True  Sonia Anderson   \n",
       "4      s5  Movie         Monster Maker    Giles Foster   \n",
       "\n",
       "                                                cast         country  \\\n",
       "0     Brendan Gleeson, Taylor Kitsch, Gordon Pinsent          Canada   \n",
       "1   Mahesh Manjrekar, Abhay Mahajan, Sachin Khedekar           India   \n",
       "2  Tom Sizemore, Lorenzo Lamas, Robert LaSardo, R...   United States   \n",
       "3  Interviews with: Pink, Adele, Beyoncé, Britney...   United States   \n",
       "4  Harry Dean Stanton, Kieran O'Brien, George Cos...  United Kingdom   \n",
       "\n",
       "  date_added  release_year   rating duration                listed_in  \\\n",
       "0 2021-03-30          2014  Unknown  113 min            Comedy, Drama   \n",
       "1 2021-03-30          2018      13+  110 min     Drama, International   \n",
       "2 2021-03-30          2017  Unknown   74 min  Action, Drama, Suspense   \n",
       "3 2021-03-30          2014  Unknown   69 min              Documentary   \n",
       "4 2021-03-30          1989  Unknown   45 min           Drama, Fantasy   \n",
       "\n",
       "                                         description  \\\n",
       "0  A small fishing village must procure a local d...   \n",
       "1  A Metro Family decides to fight a Cyber Crimin...   \n",
       "2  After a man discovers his wife is cheating on ...   \n",
       "3  Pink breaks the mold once again, bringing her ...   \n",
       "4  Teenage Matt Banting wants to work with a famo...   \n",
       "\n",
       "                                               extra  \n",
       "0  0       March 30, 2021\\n1       March 30, 2021...  \n",
       "1  0       March 30, 2021\\n1       March 30, 2021...  \n",
       "2  0       March 30, 2021\\n1       March 30, 2021...  \n",
       "3  0       March 30, 2021\\n1       March 30, 2021...  \n",
       "4  0       March 30, 2021\\n1       March 30, 2021...  "
      ]
     },
     "execution_count": 29,
     "metadata": {},
     "output_type": "execute_result"
    }
   ],
   "source": [
    "df['date_added'] = pd.to_datetime(df['date_added'], errors='coerce')\n",
    "df.head()"
   ]
  },
  {
   "cell_type": "markdown",
   "metadata": {},
   "source": [
    "# 5.Top 5 Most Popular Cast Members"
   ]
  },
  {
   "cell_type": "code",
   "execution_count": 28,
   "metadata": {},
   "outputs": [
    {
     "data": {
      "text/plain": [
       "cast\n",
       "Maggie Binkley                      56\n",
       "Anne-Marie Newland                  24\n",
       "Cassandra Peterson                  21\n",
       "Grace Tamayo, Erin Webbs            17\n",
       "Gene Autry, Champion, Gail Davis    12\n",
       "Name: count, dtype: int64"
      ]
     },
     "execution_count": 28,
     "metadata": {},
     "output_type": "execute_result"
    }
   ],
   "source": [
    "df['cast'].dropna()[~df['cast'].isin([\"Unknown\", \"1\"])].value_counts().head(5)"
   ]
  },
  {
   "cell_type": "code",
   "execution_count": 24,
   "metadata": {},
   "outputs": [
    {
     "data": {
      "text/plain": [
       "cast\n",
       "Unknown               1233\n",
       "Maggie Binkley          56\n",
       "1                       34\n",
       "Anne-Marie Newland      24\n",
       "Cassandra Peterson      21\n",
       "Name: count, dtype: int64"
      ]
     },
     "execution_count": 24,
     "metadata": {},
     "output_type": "execute_result"
    }
   ],
   "source": [
    "df['cast'].dropna().value_counts().head(5)"
   ]
  },
  {
   "cell_type": "markdown",
   "metadata": {},
   "source": [
    "# 6.Split Dataset"
   ]
  },
  {
   "cell_type": "code",
   "execution_count": 33,
   "metadata": {},
   "outputs": [
    {
     "data": {
      "text/html": [
       "<div>\n",
       "<style scoped>\n",
       "    .dataframe tbody tr th:only-of-type {\n",
       "        vertical-align: middle;\n",
       "    }\n",
       "\n",
       "    .dataframe tbody tr th {\n",
       "        vertical-align: top;\n",
       "    }\n",
       "\n",
       "    .dataframe thead th {\n",
       "        text-align: right;\n",
       "    }\n",
       "</style>\n",
       "<table border=\"1\" class=\"dataframe\">\n",
       "  <thead>\n",
       "    <tr style=\"text-align: right;\">\n",
       "      <th></th>\n",
       "      <th>show_id</th>\n",
       "      <th>type</th>\n",
       "      <th>title</th>\n",
       "      <th>director</th>\n",
       "      <th>cast</th>\n",
       "      <th>country</th>\n",
       "      <th>date_added</th>\n",
       "      <th>release_year</th>\n",
       "      <th>rating</th>\n",
       "      <th>duration</th>\n",
       "      <th>listed_in</th>\n",
       "      <th>description</th>\n",
       "      <th>extra</th>\n",
       "    </tr>\n",
       "  </thead>\n",
       "  <tbody>\n",
       "    <tr>\n",
       "      <th>1771</th>\n",
       "      <td>s1772</td>\n",
       "      <td>TV Show</td>\n",
       "      <td>Maggie Binkley Fitness SERIES 10.0 (15-Minute ...</td>\n",
       "      <td>Unknown</td>\n",
       "      <td>Maggie Binkley</td>\n",
       "      <td>Unknown</td>\n",
       "      <td>NaT</td>\n",
       "      <td>2020</td>\n",
       "      <td>ALL</td>\n",
       "      <td>1 Season</td>\n",
       "      <td>Fitness, Special Interest</td>\n",
       "      <td>Maggie created 15-minute workouts to be sure y...</td>\n",
       "      <td>0       March 30, 2021\\n1       March 30, 2021...</td>\n",
       "    </tr>\n",
       "    <tr>\n",
       "      <th>3512</th>\n",
       "      <td>s3513</td>\n",
       "      <td>Movie</td>\n",
       "      <td>15-Minute Yoga Stretch 2.0 (Workout)</td>\n",
       "      <td>Unknown</td>\n",
       "      <td>Maggie Binkley</td>\n",
       "      <td>Unknown</td>\n",
       "      <td>NaT</td>\n",
       "      <td>2019</td>\n",
       "      <td>ALL</td>\n",
       "      <td>22 min</td>\n",
       "      <td>Fitness</td>\n",
       "      <td>Follow the weekly schedule as shown on my webs...</td>\n",
       "      <td>0       March 30, 2021\\n1       March 30, 2021...</td>\n",
       "    </tr>\n",
       "    <tr>\n",
       "      <th>3513</th>\n",
       "      <td>s3514</td>\n",
       "      <td>Movie</td>\n",
       "      <td>15-Minute Yoga Stretch 1.0 Workout</td>\n",
       "      <td>Unknown</td>\n",
       "      <td>Maggie Binkley</td>\n",
       "      <td>Unknown</td>\n",
       "      <td>NaT</td>\n",
       "      <td>2018</td>\n",
       "      <td>ALL</td>\n",
       "      <td>20 min</td>\n",
       "      <td>Fitness</td>\n",
       "      <td>The benefits of yoga in just 15 minutes. Stret...</td>\n",
       "      <td>0       March 30, 2021\\n1       March 30, 2021...</td>\n",
       "    </tr>\n",
       "    <tr>\n",
       "      <th>3514</th>\n",
       "      <td>s3515</td>\n",
       "      <td>Movie</td>\n",
       "      <td>15-Minute Yoga Power Flow 2.0 (Workout)</td>\n",
       "      <td>Unknown</td>\n",
       "      <td>Maggie Binkley</td>\n",
       "      <td>Unknown</td>\n",
       "      <td>NaT</td>\n",
       "      <td>2019</td>\n",
       "      <td>ALL</td>\n",
       "      <td>21 min</td>\n",
       "      <td>Fitness</td>\n",
       "      <td>The benefits of yoga in just 15 minutes a day!...</td>\n",
       "      <td>0       March 30, 2021\\n1       March 30, 2021...</td>\n",
       "    </tr>\n",
       "    <tr>\n",
       "      <th>3515</th>\n",
       "      <td>s3516</td>\n",
       "      <td>Movie</td>\n",
       "      <td>15-Minute Yoga HIIT 1.0 (Workout)</td>\n",
       "      <td>Unknown</td>\n",
       "      <td>Maggie Binkley</td>\n",
       "      <td>Unknown</td>\n",
       "      <td>NaT</td>\n",
       "      <td>2018</td>\n",
       "      <td>ALL</td>\n",
       "      <td>19 min</td>\n",
       "      <td>Fitness</td>\n",
       "      <td>The benefits of yoga in just 15 minutes. This ...</td>\n",
       "      <td>0       March 30, 2021\\n1       March 30, 2021...</td>\n",
       "    </tr>\n",
       "  </tbody>\n",
       "</table>\n",
       "</div>"
      ],
      "text/plain": [
       "     show_id     type                                              title  \\\n",
       "1771   s1772  TV Show  Maggie Binkley Fitness SERIES 10.0 (15-Minute ...   \n",
       "3512   s3513    Movie               15-Minute Yoga Stretch 2.0 (Workout)   \n",
       "3513   s3514    Movie                 15-Minute Yoga Stretch 1.0 Workout   \n",
       "3514   s3515    Movie            15-Minute Yoga Power Flow 2.0 (Workout)   \n",
       "3515   s3516    Movie                  15-Minute Yoga HIIT 1.0 (Workout)   \n",
       "\n",
       "     director            cast  country date_added  release_year rating  \\\n",
       "1771  Unknown  Maggie Binkley  Unknown        NaT          2020    ALL   \n",
       "3512  Unknown  Maggie Binkley  Unknown        NaT          2019    ALL   \n",
       "3513  Unknown  Maggie Binkley  Unknown        NaT          2018    ALL   \n",
       "3514  Unknown  Maggie Binkley  Unknown        NaT          2019    ALL   \n",
       "3515  Unknown  Maggie Binkley  Unknown        NaT          2018    ALL   \n",
       "\n",
       "      duration                  listed_in  \\\n",
       "1771  1 Season  Fitness, Special Interest   \n",
       "3512    22 min                    Fitness   \n",
       "3513    20 min                    Fitness   \n",
       "3514    21 min                    Fitness   \n",
       "3515    19 min                    Fitness   \n",
       "\n",
       "                                            description  \\\n",
       "1771  Maggie created 15-minute workouts to be sure y...   \n",
       "3512  Follow the weekly schedule as shown on my webs...   \n",
       "3513  The benefits of yoga in just 15 minutes. Stret...   \n",
       "3514  The benefits of yoga in just 15 minutes a day!...   \n",
       "3515  The benefits of yoga in just 15 minutes. This ...   \n",
       "\n",
       "                                                  extra  \n",
       "1771  0       March 30, 2021\\n1       March 30, 2021...  \n",
       "3512  0       March 30, 2021\\n1       March 30, 2021...  \n",
       "3513  0       March 30, 2021\\n1       March 30, 2021...  \n",
       "3514  0       March 30, 2021\\n1       March 30, 2021...  \n",
       "3515  0       March 30, 2021\\n1       March 30, 2021...  "
      ]
     },
     "execution_count": 33,
     "metadata": {},
     "output_type": "execute_result"
    }
   ],
   "source": [
    "\n",
    "no_1_actor = df['cast'].str.contains(pat='Maggie Binkley')\n",
    "df[no_1_actor].head()"
   ]
  },
  {
   "cell_type": "code",
   "execution_count": 35,
   "metadata": {},
   "outputs": [
    {
     "data": {
      "text/html": [
       "<div>\n",
       "<style scoped>\n",
       "    .dataframe tbody tr th:only-of-type {\n",
       "        vertical-align: middle;\n",
       "    }\n",
       "\n",
       "    .dataframe tbody tr th {\n",
       "        vertical-align: top;\n",
       "    }\n",
       "\n",
       "    .dataframe thead th {\n",
       "        text-align: right;\n",
       "    }\n",
       "</style>\n",
       "<table border=\"1\" class=\"dataframe\">\n",
       "  <thead>\n",
       "    <tr style=\"text-align: right;\">\n",
       "      <th></th>\n",
       "      <th>show_id</th>\n",
       "      <th>type</th>\n",
       "      <th>title</th>\n",
       "      <th>director</th>\n",
       "      <th>cast</th>\n",
       "      <th>country</th>\n",
       "      <th>date_added</th>\n",
       "      <th>release_year</th>\n",
       "      <th>rating</th>\n",
       "      <th>duration</th>\n",
       "      <th>listed_in</th>\n",
       "      <th>description</th>\n",
       "      <th>extra</th>\n",
       "    </tr>\n",
       "  </thead>\n",
       "  <tbody>\n",
       "    <tr>\n",
       "      <th>2</th>\n",
       "      <td>s3</td>\n",
       "      <td>Movie</td>\n",
       "      <td>Secrets of Deception</td>\n",
       "      <td>Josh Webber</td>\n",
       "      <td>Tom Sizemore, Lorenzo Lamas, Robert LaSardo, R...</td>\n",
       "      <td>United States</td>\n",
       "      <td>2021-03-30</td>\n",
       "      <td>2017</td>\n",
       "      <td>Unknown</td>\n",
       "      <td>74 min</td>\n",
       "      <td>Action, Drama, Suspense</td>\n",
       "      <td>After a man discovers his wife is cheating on ...</td>\n",
       "      <td>0       March 30, 2021\\n1       March 30, 2021...</td>\n",
       "    </tr>\n",
       "    <tr>\n",
       "      <th>3</th>\n",
       "      <td>s4</td>\n",
       "      <td>Movie</td>\n",
       "      <td>Pink: Staying True</td>\n",
       "      <td>Sonia Anderson</td>\n",
       "      <td>Interviews with: Pink, Adele, Beyoncé, Britney...</td>\n",
       "      <td>United States</td>\n",
       "      <td>2021-03-30</td>\n",
       "      <td>2014</td>\n",
       "      <td>Unknown</td>\n",
       "      <td>69 min</td>\n",
       "      <td>Documentary</td>\n",
       "      <td>Pink breaks the mold once again, bringing her ...</td>\n",
       "      <td>0       March 30, 2021\\n1       March 30, 2021...</td>\n",
       "    </tr>\n",
       "    <tr>\n",
       "      <th>6</th>\n",
       "      <td>s7</td>\n",
       "      <td>Movie</td>\n",
       "      <td>Hired Gun</td>\n",
       "      <td>Fran Strine</td>\n",
       "      <td>Alice Cooper, Liberty DeVitto, Ray Parker Jr.,...</td>\n",
       "      <td>United States</td>\n",
       "      <td>2021-03-30</td>\n",
       "      <td>2017</td>\n",
       "      <td>Unknown</td>\n",
       "      <td>98 min</td>\n",
       "      <td>Documentary, Special Interest</td>\n",
       "      <td>They are the \"First Call, A-list\" musicians, j...</td>\n",
       "      <td>0       March 30, 2021\\n1       March 30, 2021...</td>\n",
       "    </tr>\n",
       "    <tr>\n",
       "      <th>7</th>\n",
       "      <td>s8</td>\n",
       "      <td>Movie</td>\n",
       "      <td>Grease Live!</td>\n",
       "      <td>Thomas Kail, Alex Rudzinski</td>\n",
       "      <td>Julianne Hough, Aaron Tveit, Vanessa Hudgens, ...</td>\n",
       "      <td>United States</td>\n",
       "      <td>2021-03-30</td>\n",
       "      <td>2016</td>\n",
       "      <td>Unknown</td>\n",
       "      <td>131 min</td>\n",
       "      <td>Comedy</td>\n",
       "      <td>This honest, uncompromising comedy chronicles ...</td>\n",
       "      <td>0       March 30, 2021\\n1       March 30, 2021...</td>\n",
       "    </tr>\n",
       "    <tr>\n",
       "      <th>9</th>\n",
       "      <td>s10</td>\n",
       "      <td>Movie</td>\n",
       "      <td>David's Mother</td>\n",
       "      <td>Robert Allan Ackerman</td>\n",
       "      <td>Kirstie Alley, Sam Waterston, Stockard Channing</td>\n",
       "      <td>United States</td>\n",
       "      <td>2021-04-01</td>\n",
       "      <td>1994</td>\n",
       "      <td>Unknown</td>\n",
       "      <td>92 min</td>\n",
       "      <td>Drama</td>\n",
       "      <td>Sally Goodson is a devoted mother to her autis...</td>\n",
       "      <td>0       March 30, 2021\\n1       March 30, 2021...</td>\n",
       "    </tr>\n",
       "  </tbody>\n",
       "</table>\n",
       "</div>"
      ],
      "text/plain": [
       "  show_id   type                 title                     director  \\\n",
       "2      s3  Movie  Secrets of Deception                  Josh Webber   \n",
       "3      s4  Movie    Pink: Staying True               Sonia Anderson   \n",
       "6      s7  Movie             Hired Gun                  Fran Strine   \n",
       "7      s8  Movie          Grease Live!  Thomas Kail, Alex Rudzinski   \n",
       "9     s10  Movie        David's Mother        Robert Allan Ackerman   \n",
       "\n",
       "                                                cast        country  \\\n",
       "2  Tom Sizemore, Lorenzo Lamas, Robert LaSardo, R...  United States   \n",
       "3  Interviews with: Pink, Adele, Beyoncé, Britney...  United States   \n",
       "6  Alice Cooper, Liberty DeVitto, Ray Parker Jr.,...  United States   \n",
       "7  Julianne Hough, Aaron Tveit, Vanessa Hudgens, ...  United States   \n",
       "9    Kirstie Alley, Sam Waterston, Stockard Channing  United States   \n",
       "\n",
       "  date_added  release_year   rating duration                      listed_in  \\\n",
       "2 2021-03-30          2017  Unknown   74 min        Action, Drama, Suspense   \n",
       "3 2021-03-30          2014  Unknown   69 min                    Documentary   \n",
       "6 2021-03-30          2017  Unknown   98 min  Documentary, Special Interest   \n",
       "7 2021-03-30          2016  Unknown  131 min                         Comedy   \n",
       "9 2021-04-01          1994  Unknown   92 min                          Drama   \n",
       "\n",
       "                                         description  \\\n",
       "2  After a man discovers his wife is cheating on ...   \n",
       "3  Pink breaks the mold once again, bringing her ...   \n",
       "6  They are the \"First Call, A-list\" musicians, j...   \n",
       "7  This honest, uncompromising comedy chronicles ...   \n",
       "9  Sally Goodson is a devoted mother to her autis...   \n",
       "\n",
       "                                               extra  \n",
       "2  0       March 30, 2021\\n1       March 30, 2021...  \n",
       "3  0       March 30, 2021\\n1       March 30, 2021...  \n",
       "6  0       March 30, 2021\\n1       March 30, 2021...  \n",
       "7  0       March 30, 2021\\n1       March 30, 2021...  \n",
       "9  0       March 30, 2021\\n1       March 30, 2021...  "
      ]
     },
     "execution_count": 35,
     "metadata": {},
     "output_type": "execute_result"
    }
   ],
   "source": [
    "US_shows = df[df['country'] == 'United States']\n",
    "US_shows.head()"
   ]
  },
  {
   "cell_type": "code",
   "execution_count": 38,
   "metadata": {},
   "outputs": [
    {
     "data": {
      "text/plain": [
       "rating\n",
       "13+    Take Care Good NightZoombiesYancy DerringerWPC...\n",
       "16                                             The Somme\n",
       "16+    Zahara: The ReturnYoung LionsYearly DepartedWo...\n",
       "18+    Zoë Coombs Marr: Bossy BottomZeroZeroZeroZ: Th...\n",
       "7+     Xiaolin ChroniclesWipeout AustraliaWild NorthW...\n",
       "Name: title, dtype: object"
      ]
     },
     "execution_count": 38,
     "metadata": {},
     "output_type": "execute_result"
    }
   ],
   "source": [
    "sum_df = df.groupby('rating')['title'].sum()\n",
    "sum_df.head()"
   ]
  },
  {
   "cell_type": "markdown",
   "metadata": {},
   "source": [
    "# 7.Visualization"
   ]
  },
  {
   "cell_type": "code",
   "execution_count": 43,
   "metadata": {},
   "outputs": [
    {
     "data": {
      "image/png": "[encoded data removed]",
      "text/plain": [
       "<Figure size 1500x600 with 1 Axes>"
      ]
     },
     "metadata": {},
     "output_type": "display_data"
    }
   ],
   "source": [
    "# Bar Chart\n",
    "fig = plt.figure(figsize = (15, 6))\n",
    "ax = df['rating'].value_counts().plot(kind = 'bar')\n",
    "plt.xticks(rotation = 45)\n",
    "\n",
    "plt.xlabel(\"Rating\")\n",
    "plt.ylabel(\"Count\")\n",
    "plt.title(\"Number of Shows in Each Rating Category\")\n",
    "\n",
    "for container in ax.containers:\n",
    "    ax.bar_label(container)"
   ]
  },
  {
   "cell_type": "code",
   "execution_count": 66,
   "metadata": {},
   "outputs": [
    {
     "data": {
      "application/vnd.plotly.v1+json": {
       "config": {
        "plotlyServerURL": "https://plot.ly"
       },
       "data": [
        {
         "hovertemplate": "rating=Unknown<br>Release Year=%{x}<br>Count=%{y}<extra></extra>",
         "legendgroup": "Unknown",
         "marker": {
          "color": "#636efa",
          "symbol": "circle"
         },
         "mode": "markers",
         "name": "Unknown",
         "showlegend": true,
         "type": "scattergl",
         "x": {
          "bdata": "3gfhB94HxQfFB+EH4AfhB8oH4AfeB+IH5AfiB+MH4QfcB9IH2gffB+IH5AffB+QHtwfaB9wH3QfcB+QH5QfYB9gH3gffB90H2QfkB+UHsgfeB+EHwgfUB9IH3gfcB+QHyQfJB90H1ge5B9wH4wfiB+QH3AffB+MHxQfgB+MH4gfgB88H4wfaB94H5AffB+IH4gfeB9YH1wfhB+MH3Qe6B9wH4AfjB+QH5AfiB+EH5AfXB+AH2wfhB9wH3AfeB90H3QfdB90H4AfdB94H2gfaB98H4wfeB+AHtwfYB+MH2AffB+IH4gfgB9UH1QfFB+MH4ge3B+IH4AfcB90H3wfcB+QH3wfeB90H3gfkB9wH4QfjB+AH5AfdB+QH4gfTB90H3gfeB78HwAfkB94H4gfkB94H5AfeB+IH4gfiB+IH3wfiB90H3QfdB9cH5AfdB+EH4wfbB94H5AezB+AHvAffB9gH5AfjB90H3ge+B+MH3AffB+EH4Qe1B+EH3wezB+EH3QfhB+MH4QfeB8UH4wfjB+MH5AfhB+EH4AfjB9kH4wfiB+AH3gfgB+EH3wfIB+EH4gfcB+MH4wflB+UH4wfiB+IH3gfeB9kH4AfgB+EH2wfgB98H4gfhB94H4AfhB98H3QfhB+MHyAfbB+EH4QfcB9wH5AfiB98H3AfaB90H3wflB9IH1wfhB9gH1QfCB+IH4gfjB90H4AfkB+EH1AfWB7IH1wfhB+QH3wfdB+IH5AfiB98H5AflB+QH5AfkB+QH5AfaB90HzgfeB8oH5AfVB9cH4gfhB94H1gfZB+QH4gfbB+QHuQfkB+UH5QfjB+EH3AfkB+UH4wfSB9oH1QfeB90H5QflB+UH5QfkB+UH5AfjB+MH4wfbB+UHvgflB+UH2Ac=",
          "dtype": "i2"
         },
         "xaxis": "x",
         "y": {
          "bdata": "AAACAAMABAAFAAYABwAIAAkACgALAAwADQAOAA8AJQBEAGEAbwCcAMkAzwDWAPoACAEeAS8BMQE8AT0BTAFPAWMBZAFlAWYBkAHTAdYB8QEMAjcCQQJiAmgClgKdAr0C0ALeAt8C5QLzAh8DJANHA3kDhgORA6QDrAO/A8ADxgPdA+oD/wMjBCkEMARKBGEEYgSDBIkEjgSeBKIErASvBL0E0wQDBTMFRQV5BXwFkgXDBdIF1QXWBdgF7AXtBe4F7wXxBfIF9QX/BRoGNAY1BjsGPgZLBmoGbQaGBogGoQbABvEGBQcOBx8HIAdBB40HngeoB6sH0gfaB94H5AflB/UH+AcJCBAIHAg1CEwIYgh6CI0IlAiaCKgIsgjRCPEIBQkrCVwJXwmDCYgJiQmNCaMJtQnHCfAJ9gkWCj0KPgpHCl4KYApqCnUKfQqsCq4Kswq2Cr8K4grqCuwK/woBCwoLEgsZCxoLJAsoC0ELRwtnC2wLhguKC5ULqAu2C8ULxgvQC+IL5Qv2C/sLMAwyDDMMNww5DF0MmAyjDLsM0gzUDNUM1wwCDQoNIw0yDTsNQg1LDWcNkA2cDZ0N4Q0SDk0OUQ5iDnQOhQ6HDogOkg6sDrAOsQ7WDuEO/g4JDyoPNw85D0gPSQ9OD08PVw9YD2APdg+MD48PlQ+WD6APwA/JD9QP1g/wD/kPARAtEDUQQxBEEEcQThBWEF8QZBBpEH0QgBCMEJEQpBCyEMgQ8RD9EAAROBFFEVIRUxFUEVgRWRF3EXgRfRF/EbQRyBHMEfwRBRINEi8SThJWEnUSdxKlEqsSvRLHEtYS3xLhEuUS7RITExgTbxOaE+YTERRMFMYU/xRdFWcVgBWDFZEVzhXWFdcVIhZHF3oXCBiXGNAYhxs=",
          "dtype": "i2"
         },
         "yaxis": "y"
        },
        {
         "hovertemplate": "rating=13+<br>Release Year=%{x}<br>Count=%{y}<extra></extra>",
         "legendgroup": "13+",
         "marker": {
          "color": "#EF553B",
          "symbol": "circle"
         },
         "mode": "markers",
         "name": "13+",
         "showlegend": true,
         "type": "scattergl",
         "x": {
          "bdata": "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",
          "dtype": "i2"
         },
         "xaxis": "x",
         "y": {
          "bdata": "AQAQADgAPwBCAEUAUQBTAFkAWwBcAGgAbQB0AH4AggCFAIsAjQCZAJoAmwCfAKUApwCoAKsArACyAL0AvgDAAMEAxgDHAMoA1QDcAN4A4QDkAO0A7gD2AP4AAQEQARQBGAEwATgBOQE6AUUBSgFLAVIBWAFeAV8BaQFqAWwBcAFxAXQBdQF3AYQBhQGGAYkBjQGPAZMBlgGZAZ0BpwGoAa0BsAGxAbIBtgG3AbsBwQHFAcYByAHJAdIB1QHYAd0B4QHlAeYB6AHpAeoB6wHyAfwBAQIIAhACEwIWAhoCIAIjAiQCKQIrAiwCLwI7AkMCRQJHAkoCTAJSAlUCWgJcAmYCbQJuAm8CeQJ6AnwCgAKCAoMChQKGAocCigKQApICmgKcAqACpwKtAq8CtQK7AsECxgLSAtUC1gLXAtsC3ALdAuEC4gLrAu0C8gL1AvkCAwMFAwYDCQMLAw8DEAMTAxoDHQMpAysDNAM9Az4DPwNAA0IDRANbA2YDZwNoA2sDbwNwA4MDhAOFA5UDnAOdA6EDogOoA6kDrQOxA7MDuAO9A8gD0QPSA9kD2wPmA/ED/QMBBAIEAwQEBAUECQQKBA0EDwQUBBgEHgQfBCQEKgQ1BDgEPgREBEcETQRPBFEEUgRWBFcEWARZBF0EZARnBGkEcAR3BHgEfASHBIgEiwSNBI8EkASaBJ0EowSkBLcEwgTGBMoEywTRBNIE3gTjBOQEDgUPBRIFOwVKBVoFYAVpBWwFbQVuBXAFcQV9BYcFiAWJBZAFkQWVBZYFmQWeBZ8FuQXBBcIFxQXRBekF6gX4BfoFAAYJBgoGDQYOBhAGEwYUBhYGIQYiBiMGJQYmBikGKwY9Bk4GTwZwBnEGdgZ8Bn0GgAaUBpkGmwacBqYGqAarBsEGxAbIBtAG1gbdBuEG6gbsBvYG+wb8Bv0G/gb/BgIHCwcMBw8HKgczBz0HQwdEB0UHSgddB18Hbwd0B4IHgweRB50HpQepB6oHrQeyB7MHuge7B7wHvQe/B8AHwQfCB8QHygfLB9cH2wfpB+oH6wfxBwsIDAgPCBoIHwggCCIILQg8CEIIQwhHCEsIUAhRCFwIYQhpCHQIfAh/CIEIhAiPCJcIpQimCKkIqwisCK8IsAizCLQIvAjACMcI0wjbCN4I4QjnCO0I/QgKCQ4JDwkiCSYJQglDCUwJUwlWCVkJWgleCWEJcwl8CYEJmgmdCaAJpgmnCagJqQmqCbAJsQmyCbcJvAm+CcUJywnSCdQJ2gncCeQJ6gnvCfUJAgoECg8KEQoSChMKGQohCiIKJAomCicKKwotCi4KMApFCkoKTApOClQKXwpkCmYKcQpyCngKfAqACoIKgwqFCocKlAqYCpwKnQqeCqkKsAqyCrsKvgrBCsIKxQrTCtQK1QrcCuAK4QrkCuYK8gr0CvUK9goWCycLKwsyCzcLOAs5Cz0LPgtCC0gLUAtVC1cLYgtjC2QLZQtpC2oLcguFC40LjwuaC50LowukC6kLqguuC7ALvgvAC8oL0wvmC+gL6wvxC/IL/QsBDAgMCgwLDA4MDwwRDBgMIQwrDDoMPgw/DEMMSQxTDG8Mcgx1DHkMfAyADIQMiAyZDJoMnwykDKwMsQy3DMUMxgzHDM0MzgzQDNEM0wzWDN8M5AzmDPcMAw0NDQ8NEA0RDSENJg0vDTANNQ02DUANQQ1DDUQNRg1HDUoNUQ1UDVUNVg1XDVgNWQ1bDV8NYA1mDWkNaw1yDYkNiw2ZDaINow2yDbMNtA21DekN7g3wDfMN+g39DQAOAg4DDgQODA4NDhMOFg4XDiQOLA4zDjkOOg5EDkcOSg5PDlIOUw5bDmMOaQ5rDm0Obw52DncOeg58DoIOgw6PDpQOmQ6cDqAOpQ6oDrQOwA7FDskOzg7SDtMO1Q7fDuAO5g7pDu4O9w74DvoO/A4FDxMPFQ8WDxsPHg8hDyYPJw8rDy0PMQ8zDzgPQA9CD0cPSw9SD1MPWg9fD2sPcQ93D34Pfw+DD4QPhg+LD44PkQ+fD6IPpQ+tD7APug++D8QPyg/RD9kP2g/bD98P4A/lD+gP6g/yD/QPChANEBEQFBAVEBwQHxAiECMQJRApEC4QLxAyEDgQOhA7EDwQTBBUEFoQYBBnEGgQahBrEG4QdRB6EHwQgRCCEIYQhxCLEJUQoxCpEKwQrRCxEL0QwBDBEMQQyhDQENIQ2BDZEN0Q3xDkEOUQ6BDsEPIQ+hD+EAcRCBEKEQsRDREPERkRHhEiESMRJBEsES0RLhEzETURNxFEEUYRSRFNEU4RTxFVEV8RYRFjEYMRhBGFEYYRjRGSEZsRpxGvEbURwhHFEckRzxHUEdUR3xHiEeMR7hHzEfQR+RH7EQASAxIGEggSDhIQEhESExIVEhYSGRIdEh8SIBImEi4SMBI1EjoSRxJIEkkSShJQElESWBJeEmISZBJxEnMSdBJ2EnsSfRJ+EoMShxKNEo8SkRKSEpQSlhKcEp4SnxKgEqgSqhKsEq0SrxKxErUStxK4Er4SwxLGEs4S0RLTEtcS2BLbEuIS6RLyEvoS/hL/EgMTDRMPExETGRMgEyETJhMwEzITMxM1E0ETQxNEE1cTWxNjE2kTaxNuE3QTeRN9E38TgBOHE4kTjROPE5QTmBOZE5wTnxOgE6UTqBOqE7ATsRO6E7sTvBO9E8ETxxPLE8wTzRPPE9AT0RPUE9YT2RPgE+kT9RP4E/kT/xMGFBAUFRQXFC0ULhQ2FDsUTRRTFFUUXxRmFG0UbxRyFHMUeRR6FHwUgRSCFIMUihSLFI4UjxSQFJEUlRSYFJoUmxSdFJ8UohSlFKcUqBSrFKwUrRSvFLYUtxS5FL4UwxTJFMoU3RThFOIU5hTsFPEU9hT5FPsUBhUJFRIVExUVFRgVIRUiFSUVJxUsFS0VLhUwFTEVMxU1FTYVOBVDFUUVRhVKFUwVTRVOFVAVVRVXFVgVaBVqFXAVcxV0FXUVdhV3FXgVexV/FYEVhBWKFY0VkBWSFZMVlBWXFaMVphWoFakVtRW7FcEVwhXFFckV0BXRFdIV2BXZFd8V4hXkFesV7RXwFfEV8hX0FfwVAxYHFgoWDxYQFhEWGBYjFiQWNxY4Fj8WQxZIFkkWTRZOFk8WUBZRFlIWUxZUFlUWVhZbFnAWfBaCFoQWiBaNFpIWlRadFp4WoBanFqgWrhayFrUWuha7Fr8WxxbMFtcW2BbbFtwW4xbxFvIW9Bb2FvkW+hb8Fv0W/xYCFwMXBBcFFwoXCxcMFw0XDhcVFxYXGRcaFxsXHBcfFyEXJBcqFzIXNBc1FzYXNxc4FzkXOxc9Fz8XQBdDF0gXUBdVF1YXWBdgF2IXZBdpF20XbhdzF3QXdRd4F4oXixeRF5QXnxeiF6YXrxeyF7YXuRfAF8QXyRfNF9MX1RfYF9sX3BfdF+AX4RflF+cX6xfyF/MX9xf4F/8XBhgHGA0YDxguGEgYSRhMGE0YThhUGFUYVxhZGHAYdBh7GIwYjxiWGLAYsRiyGLYYuBi7GL4YyhjLGM0Y0hjTGNQY1hjeGOIY7hj0GPoY/Bj9GP4Y/xgBGQMZBBkHGQ8ZFRkiGSMZJBklGSgZLxkwGTQZNxk4GT0ZRRlJGUsZTRlQGVEZUxlVGVYZWRlaGVsZXRleGWEZZRlmGWcZaBlqGWwZbhlwGXEZchlzGXUZdhl5GXsZghmEGYUZjhmPGZYZoBmjGaUZphmrGa0ZtBm3GbgZvRnIGc4Z0BnRGdUZ1hnYGdsZ3RnhGeMZ5BnnGeoZ7RnzGfkZ+xn+GQUaCBoMGg8aHRofGiAaKxotGi4aMRoyGjMaNho5GjsaQhpEGkgaTBpQGlYaaBp2GnsagRqDGoUaiBqYGqAapRqnGqoarBqvGrkaxBrGGskayxrOGtEa0hrWGtca2BrdGuAa4xrlGuoa7BrvGvMa+Br+GgUbCBsTGxQbGRsbGxwbHxsjGyYbLxsyGzUbNxs7GzwbPhtaG2EbZBtoG2kbdBt2G40blBubG60bshu2G7wbvhvBG8cbyBvJG8sbzBvNG88b1RvZG90b4BvrG+8b9Rv3G/sbBBwKHBMcFRwbHBwcHRweHB8cIRwjHCYcKRwqHCscLBwtHC4cMhw0HDUcNhw3HDgcORw6HD0cPxxBHEQcSBxJHEocTxxQHFEcUxxVHFYcWBxbHF0cXhxiHGMcZhxnHGocbBxtHHAccRxyHHMcdBx1HHcceBx5HHocexx+HIIchRyYHJocoBykHKYcpxyoHK0crxywHLEcthzDHMkcyhzXHNkc2hzlHOcc6BzpHO4c7xzyHPMc9Rz2HPcc+Rz8HP4cAB0CHQUdCB0JHQodDB0PHRAdER0SHRMdFB0kHSYdJx0sHTodQh1DHUUdRx1RHVkdXB1eHWAdaB1sHW8ddB13HX0dfh2DHYQdhx2JHY8dkR2SHZMdlB2VHZgdmR2eHaMdpR2nHakdrR2uHa8dtR22HbcduR29HcEdwh3EHcUdzR3PHdQd1x3bHd0d4x3mHe0d8B0AHgQeCB4JHgoeDB4SHhQeFh4ZHhoeGx4eHiAeIR4kHikeKx4tHi4eLx4xHjYeOR4/HkAeRB5FHkoeWB5aHl8eYR5iHmoebB5tHm4ebx5wHnIedh57Hn0ejB6QHpMelh6gHqceqB6pHqoeqx6tHq8euR69HsIexx7LHtEe1B7ZHt0e5R7sHu0e8B70Hvse/R4DHwYfCB8OHxIfHR8fHyMfKR8qHy0fPB9AH0MfRB9IH0wfUR9UH1YfWh9dH18fYB9iH3EfdB92H3sfgB+DH5QflR+cH6Aftx+7H7wfvx/HH9Mf1x/fH+Uf+h8SIBQgFSAjICUgJiArIC8gNyA8ID0gQCBGIEkgSyBNIFIgVyBYIFogXSBeIGsgcyB+IIUgkiCZIJognSCfILAgtiC7IMMgxCDGIMcgyCDJIMwgzSDXIOAg4SDkIOkg6iDsIO4g7yDwIPMg9iD8IAEhCyEOIRAhFCEXIRshHCEkIS4hMCE0IT0hPyFAIUEhSCFJIUshTSFaIVsheSF+IYAhgyGKIZAhoCGiIbMhuCG5IcAhxCHKIeEh4iHvIfAh8SH0IQMiByILIgwiEiITIhkiISIiIiUiJyIrIiwiLSIvIjoiTiJUIloiWyJgImIiZSJmImciaSJyInUidiKGIowikyKWIpgimSKaIpsinSKgIqEipSKtIrEityLGIsoizCLNItAi0iLTItQi1iLXItki2yLeIuAi4SLiIuci7CLtIgkjCyMNIw8jECMSIxgjGiMfIycjLyMxIzwjPiNGI1IjWyNfI3EjdSN3I3wjgiOJI4sjkCOXI6EjpCOmI6cjqSOuI7YjuSO/I8EjwyPLI9Yj2yPcI94j4SPlI+Yj6iP1IwskESQXJCUkMiQ7JD8kQCRBJEIkQyRKJEskUiRVJFYkWSRcJF0kXiRgJGEkYiRjJGokbSRuJHEkciRzJHgkfCR9JH8kgiSDJIkkjSSRJJUkliSkJKUkqCS3JLgkvyTGJMgkyiTRJNMk3CTkJOYk5yTpJPIk9CT4JPok/SQAJQQlCCURJRMlFCUVJRYlGCUaJRwlICUhJTYlOSU7JUMlRSVfJWAlaSVqJW4lfCWCJYMlhyWMJaAlpCWlJaolvCXAJQ==",
          "dtype": "i2"
         },
         "yaxis": "y"
        },
        {
         "hovertemplate": "rating=ALL<br>Release Year=%{x}<br>Count=%{y}<extra></extra>",
         "legendgroup": "ALL",
         "marker": {
          "color": "#00cc96",
          "symbol": "circle"
         },
         "mode": "markers",
         "name": "ALL",
         "showlegend": true,
         "type": "scattergl",
         "x": {
          "bdata": "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",
          "dtype": "i2"
         },
         "xaxis": "x",
         "y": {
          "bdata": "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",
          "dtype": "i2"
         },
         "yaxis": "y"
        },
        {
         "hovertemplate": "rating=18+<br>Release Year=%{x}<br>Count=%{y}<extra></extra>",
         "legendgroup": "18+",
         "marker": {
          "color": "#ab63fa",
          "symbol": "circle"
         },
         "mode": "markers",
         "name": "18+",
         "showlegend": true,
         "type": "scattergl",
         "x": {
          "bdata": "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",
          "dtype": "i2"
         },
         "xaxis": "x",
         "y": {
          "bdata": "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",
          "dtype": "i2"
         },
         "yaxis": "y"
        },
        {
         "hovertemplate": "rating=R<br>Release Year=%{x}<br>Count=%{y}<extra></extra>",
         "legendgroup": "R",
         "marker": {
          "color": "#FFA15A",
          "symbol": "circle"
         },
         "mode": "markers",
         "name": "R",
         "showlegend": true,
         "type": "scattergl",
         "x": {
          "bdata": "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",
          "dtype": "i2"
         },
         "xaxis": "x",
         "y": {
          "bdata": "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",
          "dtype": "i2"
         },
         "yaxis": "y"
        },
        {
         "hovertemplate": "rating=TV-Y<br>Release Year=%{x}<br>Count=%{y}<extra></extra>",
         "legendgroup": "TV-Y",
         "marker": {
          "color": "#19d3f3",
          "symbol": "circle"
         },
         "mode": "markers",
         "name": "TV-Y",
         "showlegend": true,
         "type": "scattergl",
         "x": {
          "bdata": "0QfbB94H0wfNB7cH3AfiB9UHzgfjB+AHzQfgB9wH1QfbB90H2wfcB94H4AfIB98H3gfgB94H3gfgB+AH3wffB94H3gfeB+AH4QfMB+AH3wfFB9kH1wfeB9gH3AfkB+IH4wfSB9YH0weoB9kH4gfjB90H2wfTB+UH3wfOB98H1AfQB+UH4QfjB94H3wfeB+QHxAflBw==",
          "dtype": "i2"
         },
         "xaxis": "x",
         "y": {
          "bdata": "FABlAPcAaAF5AegCJQNfA2YEcwSXBLAEsQTBBPsENAVBBUYFSAVvBaYF8wU8BlsGXAZdBl4GXwZgBmEGYgZjBmQGZQZmBhkHUgeEBzgI5gikCaUJQApjCnoKoAqhCqIKowq1CgYLCAsNC0oMTgxPDFgMrQy1DPcTVBXsFvMWFhhiGs8aSBvjHiohXSGCISojSyO3JQ==",
          "dtype": "i2"
         },
         "yaxis": "y"
        },
        {
         "hovertemplate": "rating=TV-Y7<br>Release Year=%{x}<br>Count=%{y}<extra></extra>",
         "legendgroup": "TV-Y7",
         "marker": {
          "color": "#FF6692",
          "symbol": "circle"
         },
         "mode": "markers",
         "name": "TV-Y7",
         "showlegend": true,
         "type": "scattergl",
         "x": {
          "bdata": "5AffB+IH2wfeB+MH3gfZB9UH3QfRB+QH4QfbB+MH3QfOB90H0AfMB9kH2AflB9sH2gfbB+MH1wfYB9gH4gfWB98H3gfWB8kH5QfVB+UH",
          "dtype": "i2"
         },
         "xaxis": "x",
         "y": {
          "bdata": "FQAcAB0AHgAZAWcBGQOZA6oDpwQHBQoFWAZsBlcHtAcOCi8KcAt8C8gLdgzaEi0TthMEFTQVFRbfFuEWeReoF78YBRlYGQYckB1KIcoj",
          "dtype": "i2"
         },
         "yaxis": "y"
        },
        {
         "hovertemplate": "rating=NR<br>Release Year=%{x}<br>Count=%{y}<extra></extra>",
         "legendgroup": "NR",
         "marker": {
          "color": "#B6E880",
          "symbol": "circle"
         },
         "mode": "markers",
         "name": "NR",
         "showlegend": true,
         "type": "scattergl",
         "x": {
          "bdata": "lQfXB9cH1weQB5wHkAeZB9cH4wfjB6gH1wfYB9cH1wfjB4wHlwfiB9cH1weJB9cH2QfXB48HjAfXB9kH3wfXB9cH1wfiB9sHlQfXB+MH4wfKB9gH1wfbB9cHkQfbB9sH2gfWB9QH4weEB50HhgeKB+IH5AeQB+IH2AfbB50HgAfMB+MH2AfbB50HjQfjB5sHogfbB6IHvQfjB9kHlQfbB7sHkwfjB9cH2wfiB9sHhQfiB9sH3AflB9gH5AfUB9sH1wfiB9gH2wfbB5AH2AfiB9sH4geXB9sH2wfbB9sH2wfiB9sH2AflB9sH2wfYB9sH2wfiB9YH2wfbB9sH2wfbB9gH2wfWB+EH4gfbB9sH2weSB9sHmAfbB98HmQfiB9sH2wfhB5oH5QflB+UH5QflB+UH5AfeB9UH5QflB+UH5QfgB+AH5QfjB+UH5AfgB90H1gfhB+UHlwflB+QH5QfeB+UHngefB58H4wfhB84H3wfjB64H5QffB9cH5AfkB+UH5QflB7kH5QfjB+AH5QeiB+AH5QeaB7oH5QfWB+EH5AfjB+QH5QflB94H5QflB+UH5QfkB9oH5QfaB9oH2Ac=",
          "dtype": "i2"
         },
         "xaxis": "x",
         "y": {
          "bdata": "FgAhACIARgBYAG4AiACYANAA6gAHARwBMgFDAVEBVgFcAWABggGbAc4B2QHaAeAB8AH2AQUCPwJsAqkCrgLjAvcC+AL8AhEDLQMyA2MDiAOKA7UDvgPOA9YD7AP4AzYEPQRFBFoEXgRuBIAElASzBM0E3ATnBPIE+QT+BP8EBAU6BTwFUgV3BZcFmgWgBc0F3gXiBfkF+wX9BRkGIAZUBn4GngajBsUG3wblBu0G8AbyBlQHgAeuB9MH1QfdB+EH7gclCFIIhwiZCLsIvgjJCMoI/AgkCS4JrwmzCb8J2AneCeIJBQoKCh4KKApNClkKWwpoCnsKiQqNCpMKrwq0CkYLkQulC70LxwvYC98L9QtMDHoMewyDDIYMnQyyDAgNJw0sDW0NBRCoELoQARECEQYRURGYEZ0RzRHOEZATvxMAFGEUYhRnFGkUahSFFKYUqRS4FAAVlBamFskW1BaYF8UXPxhCGF4YbBjbGGsZERpJGnUauhoXG/Ib+hvIHCIdIx3HHRgenh5hH28f4B/jH3Ug3yCuIc4h/SGwIiUjLSNJI0wjeiMJJD0klySZJMkk6yQpJTolVCVVJVYljSU=",
          "dtype": "i2"
         },
         "yaxis": "y"
        },
        {
         "hovertemplate": "rating=16+<br>Release Year=%{x}<br>Count=%{y}<extra></extra>",
         "legendgroup": "16+",
         "marker": {
          "color": "#FF97FF",
          "symbol": "circle"
         },
         "mode": "markers",
         "name": "16+",
         "showlegend": true,
         "type": "scattergl",
         "x": {
          "bdata": "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",
          "dtype": "i2"
         },
         "xaxis": "x",
         "y": {
          "bdata": "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",
          "dtype": "i2"
         },
         "yaxis": "y"
        },
        {
         "hovertemplate": "rating=TV-PG<br>Release Year=%{x}<br>Count=%{y}<extra></extra>",
         "legendgroup": "TV-PG",
         "marker": {
          "color": "#FECB52",
          "symbol": "circle"
         },
         "mode": "markers",
         "name": "TV-PG",
         "showlegend": true,
         "type": "scattergl",
         "x": {
          "bdata": "3QfZB94H2AfhB+QH2QfUB9gH3QffB90H3gfeB+IH1QfWB90H2gfgB94H4QfcB9wH3gerB9YH4Qe2B94H3QfdB9EH1QfPB7EHsQfkB88H4gfYB+MH4gfiB9cH4AfRB+AH3gfdB9oH3gfeB90H2gfZB+IH4gfiB+QH4gfdB9oH0QfgB7oH4wfYB9wH3QffB+QH3wfHB8UH4wfgB+MH3gfXB+IH3gfhB9wH3wfWB9oH1QfeB98H3wfiB98H3QfdB94H3gfhB9IH3gfXB+IH2QfgB98H4AevB9wH4gffB98H3QffB+AH3wfgB9wH3gfbB+EH2wfeB98H2QfiB94HywfiB9wH3AfgB+AH3gfdB9gH3QfjB94H2gfaB9wH5AfiB9wH4QfVB90H5QfRB+UH5AflB9AHwgfGB84H0wfXB90H5QflB9AH2QffB90H4wfYB6IH4Ac=",
          "dtype": "i2"
         },
         "xaxis": "x",
         "y": {
          "bdata": "HwBAAEcAagCpAOYA8ADxABYBHwEgASEBIwFJAaYBvQHMAe0BCQIRAh0CKgJyAoQCkQLmAukCAgMqA0gDTQN1A4kDiwOMA40DjgOaA9wD/AMTBCgEMwRJBIUEhgSTBJgEwATJBN8E4AThBPYEYgVjBbsFvAW9Bd8FLQY6BlUGaAaNBrMG9QYxBz8HRwdaB4wHlAfmB+cH7wcKCDcIRghtCHIIfgiWCJwI2AjdCN8I6gj3CB8JZQlwCYoJjwmXCZgJmQmsCb0JwQnKCeEJ5wklCjcKaQqaCqsKxArWCtcK6QrvCiULLwswC0sLTAtNC2ELfQuBC4ILjguQC6ILsgu3C+EL9wv6CwMMFgw7DEEMSAyvDMAMzAzdDN4MGg2fDesN9Q1dEHQRARQFFVYV5hWeF+cYQBlEGYEZahpPG9Abax2KHYMg/yAvISAjLiM/I3gj0iM=",
          "dtype": "i2"
         },
         "yaxis": "y"
        },
        {
         "hovertemplate": "rating=7+<br>Release Year=%{x}<br>Count=%{y}<extra></extra>",
         "legendgroup": "7+",
         "marker": {
          "color": "#636efa",
          "symbol": "circle"
         },
         "mode": "markers",
         "name": "7+",
         "showlegend": true,
         "type": "scattergl",
         "x": {
          "bdata": "3wfZB94H4AfdB9wHrwfiB+QH3QfPB8sH1wfjB94H2QedB+QH3gfiB+IHkAeQB98H2AfjB98H1QfXB98H4wfjB+MH4weVB+QH4gejB8AH3wflB5MH5AfYB9cH4QfdB+IH1QfjB+IH5AfhB6EH3wfjB6IH4gfiB+AH4QfgB48H3wfjB+AH3AfcB9wH1AeaB5AH4wfaB+MHywfcB9UH4AfWB+QHzQfiB+EHjgflB94H4wfbB+IH5AfjB6IH4QfgB+MH4AffB+EHqwe2B+EHowfaB9QH1QfiB+AH4wflB98H4gfiB9QHvQfiB+AH0wfkB+EHmgfhB9gH1QfjB+EH4wfiB+MHiQfkB+QH4geaB8gH4wfKB5sH4QfeB+QHnAfjB+EH3wfNB94H2wfYB9kH4AfKB7EH4AeTB+MH3gfiB9sH4QfhB68HmgfkB5EH4Ae2B+MH4AfiB+EH3QffB+QH2gfZB+QH4AfhB90H5AfjB+AH5AfgB+MH1QfiB9kH3QefB+QH3AfjB+MH5AfkB+QH0wfiB4cH5QfcB70Hywe1B9YH5Qe1B9sH5QfgB6YH4wflB+UH4gfhB+UH5QfQB+UH5QfjB+UH5AfbB+UH5AffB+UH5QfXB9kH5QflB+UH4QfjB9QH4QfhB7wH2wfjB+AH4QffB+MH4weiB6EHqwetB6wHqQflB+QHoQfiB54HpAfgB7AH5QfbB+QH4AfCB98H3QfaB+UHsgerB+UH5AflB94HpAefB+UHoAefB58HnwfXB6QH5QflB+UH5AflB+UH3wflB+QH4AexB9IHwgfjB+UHlgfgB+AH4gfhB+QH5QflB+UH5QfkB6kH5AfRB5AH5QfHB+IH5QflB+UH4wflB+IH5QfhB+UH4AfkB9gH5QflB9sHpAfeB90H4wfaB+QH5QfgB7cH5QfjB+MH5QflB9wHrAflB+MHrAemB+MH5QfjB58H5QfhB+IH0AfgB+IH4genB+MH4QfIB6UHrge5B8QH4gflB+QHpAfXB+UH1QenB+MHlAc=",
          "dtype": "i2"
         },
         "xaxis": "x",
         "y": {
          "bdata": "OgBXAGQAZwD9AEQBWgGsAeQB+gEoAjACMgJQAl8CagKVArICuAK6Ar8CwgLnAv4CAAMIAw4DIwNLA08DVANVA1YDVwNhA2IDZQNsA3cDfwOPA5QD0wPaA/AD9AMLBBsENwQ6BGUEagRtBHEEdQR2BKoEuATQBOIE9wQIBWUFZwWlBc8F5QXmBecFAgYEBgsGEQYVBi4GLwaKBo4GlwaaBrwG3AbjBh4HLwcyB1gHfgd/B44HjweZB9gHBQgZCCQIRAhrCHYIeQiuCLcI4AjoCOsI7Aj7CAEJHAkwCWoJbQluCZAJognrCfEJ/wlhCmwKnwqoCsoKzgrbChsLHQsmCywLfguAC7oLDAxGDFUMhwyeDLgMwwz1DPYMPg1FDVINaA22DT0OWA5yDnMOjQ6ODpAOyg7dDusO9g4NDxQPHw8gD1QPhQ+SD7YPvw8HEEkQSxBPEFkQYxC5EMIQ1hAMEToRVhFrEXwRghGUEbcR4BHwERcSYRJtEnoSjhLUEhoTIhMjE1MTlxOeE6cTwBPVE9wT3hPvE30UqhSwFMIUFhUbFTwVPRVCFUsVYRVmFY8VrRW6FS4WMhY2FjoWXBZ6FnsWkRaZFqEWqRbBFukWExciFysXURdjF2gXdheXF64X5BfsF/QX+Rf8FywYQxiQGJkYmxidGJ4YohikGKUYqBitGMgY6hjyGPUY9xg8GUYZrBmwGeAZ9hkoGjAaNxo4GlwaZRqhGrga5hohGzAbOhtCG0MbTBtyG+Ub8Rv0GyAcWhxrHHYciRyPHJEcvhy/HDMdYx1wHXwdoB2+HcYd9R0wHlseYx5rHngesB6xHrIesx7qHu8eNB82H0sfVx9tHy4gRCDFIBohMSFMIVEhmSGlIdgh2iHqIQUiCSIaIkAiXyJtIo8ikCK7IsUiyCLuIiIjNSM4IzkjOyNCI1YjXSNjI3IjdCN9I7EjvSPVI+sj8CMBJAUkByQVJBkkKyQ1JDYkPCRHJEkkayRsJHUk7STvJP8kASUSJUElYSVmJaYlvyU=",
          "dtype": "i2"
         },
         "yaxis": "y"
        },
        {
         "hovertemplate": "rating=TV-14<br>Release Year=%{x}<br>Count=%{y}<extra></extra>",
         "legendgroup": "TV-14",
         "marker": {
          "color": "#EF553B",
          "symbol": "circle"
         },
         "mode": "markers",
         "name": "TV-14",
         "showlegend": true,
         "type": "scattergl",
         "x": {
          "bdata": "2QfKB90H4gfkB9kH4gfhB+EH4wfeB+MH2QffB+EH5QfeB98H4gfkB9MH4AfhB+EH4QfiB94H3wfhB+IH3QfjB9sH4QfgB98H4QfhB+IH4AfcB94H2wfaB9wH3QfdB94H3wfiB9wH2gfgB+EH2gfeB90H4QfhB98H3gfbB9sH3AfcB90H3QffB9kH4QffB+QH3wfhB+EH3AfgB94H4gfhB+EH4QfYB+AH4AfhB+MH4QfeB+EH4wfhB9QH3AfbB98H2AfiB+IH4QfYB+MH5AfdB9wH4QfhB90H5AfhB+AH3AfjB+AH4QffB9QH4gfkB9wH5AfdB+EH4AfhB+IH4gfcB+AH4QfcB+IH3gffB+EH3AfbB90H0wfiB9sH4wfiB98H4wfeB+IH4AfkB+EH4AfhB+EH3gffB+EH3QfeB+EH2gfcB9YH3wfgB+AH3QflB9wH5QflB90H5QfZB+UH2QfjB+UH5AfbB+UH4QfjB9oH4wfYB9YH3wfeB9kH4QfhB8sH5AflB+QH4QfiB+UH5QfgB+IH3gfkB90H3gfPB+EHywc=",
          "dtype": "i2"
         },
         "xaxis": "x",
         "y": {
          "bdata": "PQBDAHAAqgC5ALwAvwDFANMA3wDlAAsBHQEiASQBcgF+AZcBzQHfAfcBDQIOAhcCHAI9AkgCTgJjAosCkwKUAp8CqgL9AhIDIANBA0YDagNzA3QDdgN9A4EDngOfA+4D/gMQBCwEOQQ7BFUEYwR0BN0E6QTrBPEE+AQQBTYFTQVeBWoFhAWoBf4FEgZQBnIGdAaRBpIGlQbCBsMGzQbPBu8GDQcdBysHLActB0kHbgd2B3wHmge2B/MHMgg6CF4IYAh3CHsInQieCLkIwQjCCMMI7gjvCPYI+QgjCTQJOglrCXUJkgm7CcYJzQnQCegJ9AkBCikKNgp2CncKjAqOCpIKmwqlCroKzQrZCvoKFwtOC3MLhAu4C7kL1QsQDCUMKQxfDHAMcwx0DH0MggyXDKcMswzIDMkMygzYDNoM2wzcDAcNDA18DfQNpA9DESwTyBNSFdwVXRZ4FoEW5hZBF5sX0he9GO0Y7xhBGdIZcxpBG2sbfBugG7cbvxveG/4bOB1AHUgdIh6HHycgACEeITkhPiIdIzcjYCN7IxgkryU=",
          "dtype": "i2"
         },
         "yaxis": "y"
        },
        {
         "hovertemplate": "rating=TV-NR<br>Release Year=%{x}<br>Count=%{y}<extra></extra>",
         "legendgroup": "TV-NR",
         "marker": {
          "color": "#00cc96",
          "symbol": "circle"
         },
         "mode": "markers",
         "name": "TV-NR",
         "showlegend": true,
         "type": "scattergl",
         "x": {
          "bdata": "4gflB+EH5AfSB9gH4wfiB+AH4AfhB+EH4AfgB+AH4QfhB+AH4gfiB+IH3gfhB+EH4QfhB+QH5AfhB+QH4QfeB+EH4wfjB+MH4wfiB+EH2AfjB+MH4wfiB+IH4wfjB+EH2wffB+EH4gfgB+EH4QfbB9UH4QfiB+MH4QfjB+IH5QfZB+QH4gfgB+IH5AewB+EH4gfjB+MH4wfjB+MH4wfjB+MH4wfjB+MH4wfiB+AH4QflB+UH5AfcB+MH5QfkB+QH5QflB+EH4weMB8EH3wfjB+UH",
          "dtype": "i2"
         },
         "xaxis": "x",
         "y": {
          "bdata": "QQCGAIwAlQCdAJ4AtwDyAAYCBwJgAoECCgNZA1oDxAPtAwAEEQQZBCEEMQR9BLQEvgTFBNQE1QTuBGsFhQVpBrsG5gbnBugG6Qb6BkAHXAd4B3kHegeFB5IHpgesBygIMAiLCJEI0AjpCAsJtAn6CQMKDQoqCj8KUgq5CuMK/gq7C+MLNAxCDFcMZwy8DOoMFg2kDaUNpg2nDagNqQ2qDasNrA2tDa4Nrw2wDWMUZRToFcAc5BzmHF8dnB7lIOYgLCG6IikjMiM2I08jsSS5JHIl",
          "dtype": "i2"
         },
         "yaxis": "y"
        },
        {
         "hovertemplate": "rating=TV-G<br>Release Year=%{x}<br>Count=%{y}<extra></extra>",
         "legendgroup": "TV-G",
         "marker": {
          "color": "#ab63fa",
          "symbol": "circle"
         },
         "mode": "markers",
         "name": "TV-G",
         "showlegend": true,
         "type": "scattergl",
         "x": {
          "bdata": "1wfaB+IH2gejB+MHqQfhB6sH0AfcB+QH3AfiB9oHwAfSB7sH1gfaB88H3QeqB9gH4AfGB+EH1gfBB8UH4wfaB+QHugfCB9oHvQfcB9YH5AfjB9IH3gfeB9AHzgfWB8MH1AfkB+AH4AflB+AH5QfjB+UH5QflB+QH2AfWB8AH3QflB88H5QfPB+QH5QfkB+QH2AfkB+QH5QfiB+UH4wfLB9gH",
          "dtype": "i2"
         },
         "xaxis": "x",
         "y": {
          "bdata": "SABKAEsAgACBAPgAPwECArMCTAMIBBoEQQSEBPAE8wROBVkFigW/BjAHRgdbCJ8IvQhRCVIJuAnICckJXApdCpEKXgtfC3QL1ws4DIkMHw3xDR0QbhFxEYUWlxabFowXjRelF6sXtxfeF+oXOhgaGZwZ2hnoGWsafRp+GooaohrDGmIbrBvtGygcMBzhHSgeZR8pIVMhKiJeIqsiFyNYJHok",
          "dtype": "i2"
         },
         "yaxis": "y"
        },
        {
         "hovertemplate": "rating=PG-13<br>Release Year=%{x}<br>Count=%{y}<extra></extra>",
         "legendgroup": "PG-13",
         "marker": {
          "color": "#FFA15A",
          "symbol": "circle"
         },
         "mode": "markers",
         "name": "PG-13",
         "showlegend": true,
         "type": "scattergl",
         "x": {
          "bdata": "5AfEB8gHyQfWB+IH4wfYB9wHzAfCB98H0gffB98H5AfkB9oHwwfYB8YH4wfVB8EH2AfjB9QH0gfdB8QH3wfkB8cH3AebB84H4wfhB5kH3AfgB90H5AffB+MHigfNB9cH1geOB+AHzgfSB9YHoweiB+QH0gfdB+QH3gfIB9QH3gffB9oHjQemB+EH0gfkB8sHwwfIB9oHtwfDB9wH4QepB8gH3wfiB9kH4AfXB9EH2AfXB8YH1weaB8gHxgfeB9wHlwfeB6kH2AffB+EH3gfiB80H5AfaB9cHyQfOB8cH1wfUB+AH2AfVB98H4AfZB84H2AfIB+MH4wfbB9EH1AfeB+MHygfSB9cH0AfbB+QH5AfiB+AH1wfKB9QH4wfMB98HkQfWB9UH3AfQB9cH2AfGB9kHzgfOB9UH1QfXB74HyAfeB+UH2AfZB98H0AfQB+UHtAfRB8IH2wfbB+IH0AfiB9kH1gffB+MH4QfUB+EH5AfjB9cH0wfFB8kH2wfkB+MH2AfjB+QH5AfgB+UH0gfTB+UH5QfcB9AH3gfSB9oH1gfeB9MH1wfPB9QHzgflB+UH2AfWB9kH0gfXB+QH5QfgB90H4wfhB94H5QfYB94H4AffB9sHwgfUB9MHyQfdB8MH1QfVB9IH2QfYB98H4AfXB8gH2gfYB9sH2wffB9oH1QfeB8sH3wfbB9MH2AfZB+EH1AfXB9gHwwfdB9EH5QfVB+UH0wflB+UH3AfQB9cH3AfHB+AH1AfRB90H0wfgB9sH2wfOB9wH2QfVB9wH2AfgB9IH4AfZB9oH4AfdB9kH2wfZB9gH5AfeB9wH5QflB8YH2QfaB7IH3wfYB9UH1gflB+MH4QfdB6YH5QflB9MHyQfCB9EHswfPB9YH3AfZB8oHsgfDB+UHzwfIB8kHyQfTB9MH2gfeB+UH0QfLB8oHzQfUB9gH0gfZB9sH2QfWB8EH2gfGB7MH1QffB80HzQfPB88H3wfYB9gHywfLB9IH0gfWB+IH2gfdB+EH2gfYB9oH1gfaB9gH2AfQB9MH2gfMB88H",
          "dtype": "i2"
         },
         "xaxis": "x",
         "y": {
          "bdata": "SQBSAFoAYwBpAHUAegB9AKYArQC2ALoAGwEuAYMBkgGeAc8BEgJpAo4CowLJAu4C8AJQA1EDWAN6A3sDqwOyA7sDvAPJA8oD1wNOBFAEUwRbBKUExwT0BDcFXAWYBQ8GOQZTBqoGtAa9BskG1QbXBgMHHAc7B0sHWQdwB3UHiwcTCBcIZwhqCHgIjAiQCJUIpwixCAgJhAmTCW0KeQqICuUK5wr5ClgLdQuIC5ILkwuZC60LGgwkDC0MWQx+DH8Mlgy/DMEMxAxsDX8NoQ33DREOJw4rDi8ONQ4/DlwOgQ6qDsMO7Q71DggPIw8kDykPRQ9mD3APcw+1D+sP+A8YECYQJxAoECsQMRBGEEoQVxBeEHsQjxCeEKEQpRCvELQQxxDMEPcQGBFvEZMRlRGXEZoRnhGfEaMRqBGpEaoRrBG9ERoSIxI0EksSbxKAEoIStBK6EsUS0hLVEgQTFBOCE4sTphPFEw4UJBTEFMUU0BTSFNoUhhWMFdQV1RUUFhcWHBYoFmcWaBZ9FowWqxasFtYW/hYsF6wXwhffF+0X7hc7GFwYbRhxGHUYeBh6GIoYjRiTGJUYoRjhGPgYkxmbGbUZ/xkqGokamRquGvYaFhsrG0QbThtYG1kbYxtnG20bcBt5G4EbjBuOG5obnRuhG6gb0RvSG+cb6BsUHFQcaRxuHH0cHR08HUYdSh1SHVcdbR3LHdgd+h3+HXUeeR60HsQe1R7hHuIe9R45H0cfYx9nH3IfkR+nH6sfzx/QH9sf3R/hH+If6R/sH/IfAiAFIAggDyAqICwgfSCJIIsgkSCbIMEgziDTIN4gESESITMhUCFZIYYhiyGWIcMh8iH6IQ4iHSIyIj8ieSJ6IlcjWCNcI14jaCNsI20jeSOAI4gjkiOeI7gjxSPGI8wjzSPOI88j0SPXI9gj3yPiI+gj7CPtI+4j7yP7IxwkLiQzJDQkSCROJIAkoiQbJS8lMCUxJTIlNyU8JT0lTCVNJVAlUSVXJVslXCVjJWclaCV0JXYleiWBJY4llSWYJZ8lriWxJbsl",
          "dtype": "i2"
         },
         "yaxis": "y"
        },
        {
         "hovertemplate": "rating=TV-MA<br>Release Year=%{x}<br>Count=%{y}<extra></extra>",
         "legendgroup": "TV-MA",
         "marker": {
          "color": "#19d3f3",
          "symbol": "circle"
         },
         "mode": "markers",
         "name": "TV-MA",
         "showlegend": true,
         "type": "scattergl",
         "x": {
          "bdata": "4wfjB9wH3AflB+AH4AfgB+MH4gfiB+IH3gfhB94H4wfiB+AH3QflB+IH3wfkB9sH3wfgB+UH3gfiB+QH3QffB+MH5AfbB94H3gfjB+AH3wfiB+EH5QflB+UH5QfjB+UH4wfeB+UH4gflB+MH4QfcB98H4AfkB+IH5QfkB+MH4QflB8gH5QflB+UH4wflB+QH5AfkB+EH5QflBw==",
          "dtype": "i2"
         },
         "xaxis": "x",
         "y": {
          "bdata": "kQDXAOgAXQGUAQMCngIEAwcDRQPvA1UFgAWBBZMFKAaTB7cHJggqCHEIdQiFCCcJbwl2CX0JwwntCQkKcwq9CtgKWQvMCxQMoAyuDPIMSA2HDQ4OfxI7E9cT/xV3FokW4ha7F30YtxgEGw0bfhuFG4gbyhviG/0bJBxAHKQduh27HdAdgx7fHpIhYyKeIiEjIyM6I0cj8yPCJQ==",
          "dtype": "i2"
         },
         "yaxis": "y"
        },
        {
         "hovertemplate": "rating=G<br>Release Year=%{x}<br>Count=%{y}<extra></extra>",
         "legendgroup": "G",
         "marker": {
          "color": "#FF6692",
          "symbol": "circle"
         },
         "mode": "markers",
         "name": "G",
         "showlegend": true,
         "type": "scattergl",
         "x": {
          "bdata": "tgfiB+IH2wflB88H0QfeB88HnweyB7AH2wexB9sH3gfgB7MH3gfjB9cH4AfjB9sHkwflB+QH2wfjB+AH4gfhB94H2wfcB68H4QfgB8wHwwfXB7IH4AfiB7AH4QffB9cHtgffB9QH3AegB+MH4QfhB+MH4wexB+UH5QflB+UH3wflB9wHsAe+B98H4AfaB+UHsAfhB88H4gfPB8sH0QfPB+MH4wfQB8wHzQfCB84HtgfOB9QH0AfDB+AH",
          "dtype": "i2"
         },
         "xaxis": "x",
         "y": {
          "bdata": "swDRANIA4AAVAYcBnAHRAdcB7wH0AfgBIQJWAncCzQLoA8gE8AU2BlIGOgeBB4cH4giHCQgKIAo1C20M4QziDBINNA2bDUMOoQ6iDrYOtw6+DjUPhw+xD7kPwg/2D34QiBDJEO8QSxGgEWAS4BIZFCoURxTAFCYVQRXzFQUWRRZpFjIYNxg4GEsYkhifGDMZZhp8GtUahx4cH3cfph+1IE4hfyGiI+MjJyQoJCwkLSSdJKEk/iSeJbQl",
          "dtype": "i2"
         },
         "yaxis": "y"
        },
        {
         "hovertemplate": "rating=PG<br>Release Year=%{x}<br>Count=%{y}<extra></extra>",
         "legendgroup": "PG",
         "marker": {
          "color": "#B6E880",
          "symbol": "circle"
         },
         "mode": "markers",
         "name": "PG",
         "showlegend": true,
         "type": "scattergl",
         "x": {
          "bdata": "nAfdB5cHowe2B+QH5AfUB98H3wffB8sH3AffB+IH4AeUB64HvAfNB9sHtQe8B90HzQfQB5UHmgfhB5YHjwfjB5sHlQeaB5wH0AfkB8kHkQe3B64H5AfkB7UH4AeWB5IH3gfSB9oHnAeRB+EH0weQB44HuwfcB6QHngfIB+MHngfeB5IHswe7B7oH3AePB5cHqAeTB7QHzQfBB9YH3QfIB68H3we9B5QHqwekB5sHzgebB+IHkAeVB6kH4AfgB5YHtQeOB7QH3AefB8cH2wfZB9QHugeRB+EH2QfgB8kH3wfEB+AH2wfeB7oHyAfkB90H3gfjB90H3Qe9B9MHtQezB98HxgecB8wH3QfgB+QH0geQB+EHmgfeB6AHrAfNB9cHyge4B+MH4AfkB9YH4wfMB7UH4gfWB8wH1wfiB98H5AfbB+UH4AfWB8gH5QfPB+MH3gfcB84HsgfgB90H5AfgB+MH4Qe4B8MHvge5B9cH4AfSB9cHxAfQB9wHtge2B8IHtgfOB78H2we0B9IHzwfUB9YHtgfbB9wH5QfZB9sH1wfWB7MHmQe7B68H0ge2B74HuAe1B9MHyAe9B9UHxwfVB70HsQexB8gHtAezB9kH2wffB9kHxAfgB94H0gfDB9sH2wfbB9sH5QfaB9kH2wfcB8MHwwfYB90H2wc=",
          "dtype": "i2"
         },
         "xaxis": "x",
         "y": {
          "bdata": "2gDdAPMAQQFhAW0BbgF/AZgBtQG8AccBFQItAjYCQAKZAqgCqwKsArACwALKAs8C7ALvAg0DFgM3A1wDYANyA5YDmAOvA7kDwQMgBDQEkQT9BGQFcwV0BZwFowXkBScGeQa+Bs4G2AbgBgQHJAdRB80H1AchCCwIMQhBCFUIcAiJCLYIyAjUCAwJIQkpCS8JZgmRCcQJ1QnfCeAJ8gn8CRwKHQoxCkEKQgqkCqcKqgq3CkQLZguvC80LJgw8DEcMUQxbDGAMZgwgDTwNTA1TDQEOCg4eDh8OIA4hDjQOQA5CDnEOlg6bDqcOrw6zDrgOxA7UDt4O8g4ZD1UPYQ9nD3sPiA+oD70Pzw/VD3kQkhC+EM0Q4BDjEIkRphG6Eb8RPRKLEsESxBLLEhsTNBP8EzkUPhR0FKwVsxW5FeEVKhaLFq0WbBeSF6AXsxfmFyEYKhg8GFAYURhYGHcY3RgeGYcZPRo0G0AbUxuJG7IcuRw2HaIdph3PHg0fIh8oH9If7h/8HxMgGyAoIEEgQiBHIFwgXyBxIIcgjCDcICUhSSJ4In8igiJuI3AjcyODI4YjiiOTI5gjrSOvI8IjyCMGJAwkEiQTJBskHyQwJEwkWiR+JIYkhySQJM8k4CQGJSolKyUsJS0lSSWAJYQljyWQJZYllyWpJbkluiU=",
          "dtype": "i2"
         },
         "yaxis": "y"
        },
        {
         "hovertemplate": "rating=NC-17<br>Release Year=%{x}<br>Count=%{y}<extra></extra>",
         "legendgroup": "NC-17",
         "marker": {
          "color": "#FF97FF",
          "symbol": "circle"
         },
         "mode": "markers",
         "name": "NC-17",
         "showlegend": true,
         "type": "scattergl",
         "x": {
          "bdata": "4wflB+UH",
          "dtype": "i2"
         },
         "xaxis": "x",
         "y": {
          "bdata": "tAJPEwEV",
          "dtype": "i2"
         },
         "yaxis": "y"
        },
        {
         "hovertemplate": "rating=UNRATED<br>Release Year=%{x}<br>Count=%{y}<extra></extra>",
         "legendgroup": "UNRATED",
         "marker": {
          "color": "#FECB52",
          "symbol": "circle"
         },
         "mode": "markers",
         "name": "UNRATED",
         "showlegend": true,
         "type": "scattergl",
         "x": {
          "bdata": "4AfgB+AH4AfgB+AH4AfgB+AH4AfgB+EH4gfgB+AH4AfUB98H4AfhB+EH1QfhB98H2wfZB9MH1wfkB+EH4wfcB9oH",
          "dtype": "i2"
         },
         "xaxis": "x",
         "y": {
          "bdata": "NhFrEt8T4hPkE/MTCRQKFBYUkxTnFYMWuRZcF6kZyRkeGoAbihvwGwEcBRyXHj4f3B8pIIQgtSKBI90k8CSRJbUl",
          "dtype": "i2"
         },
         "yaxis": "y"
        },
        {
         "hovertemplate": "rating=16<br>Release Year=%{x}<br>Count=%{y}<extra></extra>",
         "legendgroup": "16",
         "marker": {
          "color": "#636efa",
          "symbol": "circle"
         },
         "mode": "markers",
         "name": "16",
         "showlegend": true,
         "type": "scattergl",
         "x": {
          "bdata": "1Qc=",
          "dtype": "i2"
         },
         "xaxis": "x",
         "y": {
          "bdata": "ZxI=",
          "dtype": "i2"
         },
         "yaxis": "y"
        },
        {
         "hovertemplate": "rating=AGES_16_<br>Release Year=%{x}<br>Count=%{y}<extra></extra>",
         "legendgroup": "AGES_16_",
         "marker": {
          "color": "#EF553B",
          "symbol": "circle"
         },
         "mode": "markers",
         "name": "AGES_16_",
         "showlegend": true,
         "type": "scattergl",
         "x": {
          "bdata": "4gfgBw==",
          "dtype": "i2"
         },
         "xaxis": "x",
         "y": {
          "bdata": "oxMSFA==",
          "dtype": "i2"
         },
         "yaxis": "y"
        },
        {
         "hovertemplate": "rating=AGES_18_<br>Release Year=%{x}<br>Count=%{y}<extra></extra>",
         "legendgroup": "AGES_18_",
         "marker": {
          "color": "#00cc96",
          "symbol": "circle"
         },
         "mode": "markers",
         "name": "AGES_18_",
         "showlegend": true,
         "type": "scattergl",
         "x": {
          "bdata": "4QfhB+EH",
          "dtype": "i2"
         },
         "xaxis": "x",
         "y": {
          "bdata": "DBQeFGYW",
          "dtype": "i2"
         },
         "yaxis": "y"
        },
        {
         "hovertemplate": "rating=ALL_AGES<br>Release Year=%{x}<br>Count=%{y}<extra></extra>",
         "legendgroup": "ALL_AGES",
         "marker": {
          "color": "#ab63fa",
          "symbol": "circle"
         },
         "mode": "markers",
         "name": "ALL_AGES",
         "showlegend": true,
         "type": "scattergl",
         "x": {
          "bdata": "5Ac=",
          "dtype": "i2"
         },
         "xaxis": "x",
         "y": {
          "bdata": "VBQ=",
          "dtype": "i2"
         },
         "yaxis": "y"
        },
        {
         "hovertemplate": "rating=NOT_RATE<br>Release Year=%{x}<br>Count=%{y}<extra></extra>",
         "legendgroup": "NOT_RATE",
         "marker": {
          "color": "#FFA15A",
          "symbol": "circle"
         },
         "mode": "markers",
         "name": "NOT_RATE",
         "showlegend": true,
         "type": "scattergl",
         "x": {
          "bdata": "3AfkB4UH",
          "dtype": "i2"
         },
         "xaxis": "x",
         "y": {
          "bdata": "fBcIGY4h",
          "dtype": "i2"
         },
         "yaxis": "y"
        }
       ],
       "layout": {
        "height": 400,
        "legend": {
         "title": {
          "text": "rating"
         },
         "tracegroupgap": 0
        },
        "template": {
         "data": {
          "bar": [
           {
            "error_x": {
             "color": "#2a3f5f"
            },
            "error_y": {
             "color": "#2a3f5f"
            },
            "marker": {
             "line": {
              "color": "#E5ECF6",
              "width": 0.5
             },
             "pattern": {
              "fillmode": "overlay",
              "size": 10,
              "solidity": 0.2
             }
            },
            "type": "bar"
           }
          ],
          "barpolar": [
           {
            "marker": {
             "line": {
              "color": "#E5ECF6",
              "width": 0.5
             },
             "pattern": {
              "fillmode": "overlay",
              "size": 10,
              "solidity": 0.2
             }
            },
            "type": "barpolar"
           }
          ],
          "carpet": [
           {
            "aaxis": {
             "endlinecolor": "#2a3f5f",
             "gridcolor": "white",
             "linecolor": "white",
             "minorgridcolor": "white",
             "startlinecolor": "#2a3f5f"
            },
            "baxis": {
             "endlinecolor": "#2a3f5f",
             "gridcolor": "white",
             "linecolor": "white",
             "minorgridcolor": "white",
             "startlinecolor": "#2a3f5f"
            },
            "type": "carpet"
           }
          ],
          "choropleth": [
           {
            "colorbar": {
             "outlinewidth": 0,
             "ticks": ""
            },
            "type": "choropleth"
           }
          ],
          "contour": [
           {
            "colorbar": {
             "outlinewidth": 0,
             "ticks": ""
            },
            "colorscale": [
             [
              0,
              "#0d0887"
             ],
             [
              0.1111111111111111,
              "#46039f"
             ],
             [
              0.2222222222222222,
              "#7201a8"
             ],
             [
              0.3333333333333333,
              "#9c179e"
             ],
             [
              0.4444444444444444,
              "#bd3786"
             ],
             [
              0.5555555555555556,
              "#d8576b"
             ],
             [
              0.6666666666666666,
              "#ed7953"
             ],
             [
              0.7777777777777778,
              "#fb9f3a"
             ],
             [
              0.8888888888888888,
              "#fdca26"
             ],
             [
              1,
              "#f0f921"
             ]
            ],
            "type": "contour"
           }
          ],
          "contourcarpet": [
           {
            "colorbar": {
             "outlinewidth": 0,
             "ticks": ""
            },
            "type": "contourcarpet"
           }
          ],
          "heatmap": [
           {
            "colorbar": {
             "outlinewidth": 0,
             "ticks": ""
            },
            "colorscale": [
             [
              0,
              "#0d0887"
             ],
             [
              0.1111111111111111,
              "#46039f"
             ],
             [
              0.2222222222222222,
              "#7201a8"
             ],
             [
              0.3333333333333333,
              "#9c179e"
             ],
             [
              0.4444444444444444,
              "#bd3786"
             ],
             [
              0.5555555555555556,
              "#d8576b"
             ],
             [
              0.6666666666666666,
              "#ed7953"
             ],
             [
              0.7777777777777778,
              "#fb9f3a"
             ],
             [
              0.8888888888888888,
              "#fdca26"
             ],
             [
              1,
              "#f0f921"
             ]
            ],
            "type": "heatmap"
           }
          ],
          "histogram": [
           {
            "marker": {
             "pattern": {
              "fillmode": "overlay",
              "size": 10,
              "solidity": 0.2
             }
            },
            "type": "histogram"
           }
          ],
          "histogram2d": [
           {
            "colorbar": {
             "outlinewidth": 0,
             "ticks": ""
            },
            "colorscale": [
             [
              0,
              "#0d0887"
             ],
             [
              0.1111111111111111,
              "#46039f"
             ],
             [
              0.2222222222222222,
              "#7201a8"
             ],
             [
              0.3333333333333333,
              "#9c179e"
             ],
             [
              0.4444444444444444,
              "#bd3786"
             ],
             [
              0.5555555555555556,
              "#d8576b"
             ],
             [
              0.6666666666666666,
              "#ed7953"
             ],
             [
              0.7777777777777778,
              "#fb9f3a"
             ],
             [
              0.8888888888888888,
              "#fdca26"
             ],
             [
              1,
              "#f0f921"
             ]
            ],
            "type": "histogram2d"
           }
          ],
          "histogram2dcontour": [
           {
            "colorbar": {
             "outlinewidth": 0,
             "ticks": ""
            },
            "colorscale": [
             [
              0,
              "#0d0887"
             ],
             [
              0.1111111111111111,
              "#46039f"
             ],
             [
              0.2222222222222222,
              "#7201a8"
             ],
             [
              0.3333333333333333,
              "#9c179e"
             ],
             [
              0.4444444444444444,
              "#bd3786"
             ],
             [
              0.5555555555555556,
              "#d8576b"
             ],
             [
              0.6666666666666666,
              "#ed7953"
             ],
             [
              0.7777777777777778,
              "#fb9f3a"
             ],
             [
              0.8888888888888888,
              "#fdca26"
             ],
             [
              1,
              "#f0f921"
             ]
            ],
            "type": "histogram2dcontour"
           }
          ],
          "mesh3d": [
           {
            "colorbar": {
             "outlinewidth": 0,
             "ticks": ""
            },
            "type": "mesh3d"
           }
          ],
          "parcoords": [
           {
            "line": {
             "colorbar": {
              "outlinewidth": 0,
              "ticks": ""
             }
            },
            "type": "parcoords"
           }
          ],
          "pie": [
           {
            "automargin": true,
            "type": "pie"
           }
          ],
          "scatter": [
           {
            "fillpattern": {
             "fillmode": "overlay",
             "size": 10,
             "solidity": 0.2
            },
            "type": "scatter"
           }
          ],
          "scatter3d": [
           {
            "line": {
             "colorbar": {
              "outlinewidth": 0,
              "ticks": ""
             }
            },
            "marker": {
             "colorbar": {
              "outlinewidth": 0,
              "ticks": ""
             }
            },
            "type": "scatter3d"
           }
          ],
          "scattercarpet": [
           {
            "marker": {
             "colorbar": {
              "outlinewidth": 0,
              "ticks": ""
             }
            },
            "type": "scattercarpet"
           }
          ],
          "scattergeo": [
           {
            "marker": {
             "colorbar": {
              "outlinewidth": 0,
              "ticks": ""
             }
            },
            "type": "scattergeo"
           }
          ],
          "scattergl": [
           {
            "marker": {
             "colorbar": {
              "outlinewidth": 0,
              "ticks": ""
             }
            },
            "type": "scattergl"
           }
          ],
          "scattermap": [
           {
            "marker": {
             "colorbar": {
              "outlinewidth": 0,
              "ticks": ""
             }
            },
            "type": "scattermap"
           }
          ],
          "scattermapbox": [
           {
            "marker": {
             "colorbar": {
              "outlinewidth": 0,
              "ticks": ""
             }
            },
            "type": "scattermapbox"
           }
          ],
          "scatterpolar": [
           {
            "marker": {
             "colorbar": {
              "outlinewidth": 0,
              "ticks": ""
             }
            },
            "type": "scatterpolar"
           }
          ],
          "scatterpolargl": [
           {
            "marker": {
             "colorbar": {
              "outlinewidth": 0,
              "ticks": ""
             }
            },
            "type": "scatterpolargl"
           }
          ],
          "scatterternary": [
           {
            "marker": {
             "colorbar": {
              "outlinewidth": 0,
              "ticks": ""
             }
            },
            "type": "scatterternary"
           }
          ],
          "surface": [
           {
            "colorbar": {
             "outlinewidth": 0,
             "ticks": ""
            },
            "colorscale": [
             [
              0,
              "#0d0887"
             ],
             [
              0.1111111111111111,
              "#46039f"
             ],
             [
              0.2222222222222222,
              "#7201a8"
             ],
             [
              0.3333333333333333,
              "#9c179e"
             ],
             [
              0.4444444444444444,
              "#bd3786"
             ],
             [
              0.5555555555555556,
              "#d8576b"
             ],
             [
              0.6666666666666666,
              "#ed7953"
             ],
             [
              0.7777777777777778,
              "#fb9f3a"
             ],
             [
              0.8888888888888888,
              "#fdca26"
             ],
             [
              1,
              "#f0f921"
             ]
            ],
            "type": "surface"
           }
          ],
          "table": [
           {
            "cells": {
             "fill": {
              "color": "#EBF0F8"
             },
             "line": {
              "color": "white"
             }
            },
            "header": {
             "fill": {
              "color": "#C8D4E3"
             },
             "line": {
              "color": "white"
             }
            },
            "type": "table"
           }
          ]
         },
         "layout": {
          "annotationdefaults": {
           "arrowcolor": "#2a3f5f",
           "arrowhead": 0,
           "arrowwidth": 1
          },
          "autotypenumbers": "strict",
          "coloraxis": {
           "colorbar": {
            "outlinewidth": 0,
            "ticks": ""
           }
          },
          "colorscale": {
           "diverging": [
            [
             0,
             "#8e0152"
            ],
            [
             0.1,
             "#c51b7d"
            ],
            [
             0.2,
             "#de77ae"
            ],
            [
             0.3,
             "#f1b6da"
            ],
            [
             0.4,
             "#fde0ef"
            ],
            [
             0.5,
             "#f7f7f7"
            ],
            [
             0.6,
             "#e6f5d0"
            ],
            [
             0.7,
             "#b8e186"
            ],
            [
             0.8,
             "#7fbc41"
            ],
            [
             0.9,
             "#4d9221"
            ],
            [
             1,
             "#276419"
            ]
           ],
           "sequential": [
            [
             0,
             "#0d0887"
            ],
            [
             0.1111111111111111,
             "#46039f"
            ],
            [
             0.2222222222222222,
             "#7201a8"
            ],
            [
             0.3333333333333333,
             "#9c179e"
            ],
            [
             0.4444444444444444,
             "#bd3786"
            ],
            [
             0.5555555555555556,
             "#d8576b"
            ],
            [
             0.6666666666666666,
             "#ed7953"
            ],
            [
             0.7777777777777778,
             "#fb9f3a"
            ],
            [
             0.8888888888888888,
             "#fdca26"
            ],
            [
             1,
             "#f0f921"
            ]
           ],
           "sequentialminus": [
            [
             0,
             "#0d0887"
            ],
            [
             0.1111111111111111,
             "#46039f"
            ],
            [
             0.2222222222222222,
             "#7201a8"
            ],
            [
             0.3333333333333333,
             "#9c179e"
            ],
            [
             0.4444444444444444,
             "#bd3786"
            ],
            [
             0.5555555555555556,
             "#d8576b"
            ],
            [
             0.6666666666666666,
             "#ed7953"
            ],
            [
             0.7777777777777778,
             "#fb9f3a"
            ],
            [
             0.8888888888888888,
             "#fdca26"
            ],
            [
             1,
             "#f0f921"
            ]
           ]
          },
          "colorway": [
           "#636efa",
           "#EF553B",
           "#00cc96",
           "#ab63fa",
           "#FFA15A",
           "#19d3f3",
           "#FF6692",
           "#B6E880",
           "#FF97FF",
           "#FECB52"
          ],
          "font": {
           "color": "#2a3f5f"
          },
          "geo": {
           "bgcolor": "white",
           "lakecolor": "white",
           "landcolor": "#E5ECF6",
           "showlakes": true,
           "showland": true,
           "subunitcolor": "white"
          },
          "hoverlabel": {
           "align": "left"
          },
          "hovermode": "closest",
          "mapbox": {
           "style": "light"
          },
          "paper_bgcolor": "white",
          "plot_bgcolor": "#E5ECF6",
          "polar": {
           "angularaxis": {
            "gridcolor": "white",
            "linecolor": "white",
            "ticks": ""
           },
           "bgcolor": "#E5ECF6",
           "radialaxis": {
            "gridcolor": "white",
            "linecolor": "white",
            "ticks": ""
           }
          },
          "scene": {
           "xaxis": {
            "backgroundcolor": "#E5ECF6",
            "gridcolor": "white",
            "gridwidth": 2,
            "linecolor": "white",
            "showbackground": true,
            "ticks": "",
            "zerolinecolor": "white"
           },
           "yaxis": {
            "backgroundcolor": "#E5ECF6",
            "gridcolor": "white",
            "gridwidth": 2,
            "linecolor": "white",
            "showbackground": true,
            "ticks": "",
            "zerolinecolor": "white"
           },
           "zaxis": {
            "backgroundcolor": "#E5ECF6",
            "gridcolor": "white",
            "gridwidth": 2,
            "linecolor": "white",
            "showbackground": true,
            "ticks": "",
            "zerolinecolor": "white"
           }
          },
          "shapedefaults": {
           "line": {
            "color": "#2a3f5f"
           }
          },
          "ternary": {
           "aaxis": {
            "gridcolor": "white",
            "linecolor": "white",
            "ticks": ""
           },
           "baxis": {
            "gridcolor": "white",
            "linecolor": "white",
            "ticks": ""
           },
           "bgcolor": "#E5ECF6",
           "caxis": {
            "gridcolor": "white",
            "linecolor": "white",
            "ticks": ""
           }
          },
          "title": {
           "x": 0.05
          },
          "xaxis": {
           "automargin": true,
           "gridcolor": "white",
           "linecolor": "white",
           "ticks": "",
           "title": {
            "standoff": 15
           },
           "zerolinecolor": "white",
           "zerolinewidth": 2
          },
          "yaxis": {
           "automargin": true,
           "gridcolor": "white",
           "linecolor": "white",
           "ticks": "",
           "title": {
            "standoff": 15
           },
           "zerolinecolor": "white",
           "zerolinewidth": 2
          }
         }
        },
        "title": {
         "text": "Number of Shows Released Each Year by Age Rating"
        },
        "width": 800,
        "xaxis": {
         "anchor": "y",
         "domain": [
          0,
          1
         ],
         "title": {
          "text": "Release Year"
         }
        },
        "yaxis": {
         "anchor": "x",
         "domain": [
          0,
          1
         ],
         "title": {
          "text": "Count"
         }
        }
       }
      }
     },
     "metadata": {},
     "output_type": "display_data"
    }
   ],
   "source": [
    "fig = px.scatter(\n",
    "    df,\n",
    "    x='release_year',\n",
    "    color='rating',\n",
    "    labels=dict(release_year = 'Release Year', index='Count'),\n",
    "    width=800,\n",
    "    height=400,\n",
    "    title = 'Number of Shows Released Each Year by Age Rating'\n",
    ")\n",
    "fig.show()"
   ]
  },
  {
   "cell_type": "code",
   "execution_count": 79,
   "metadata": {},
   "outputs": [
    {
     "data": {
      "application/vnd.plotly.v1+json": {
       "config": {
        "plotlyServerURL": "https://plot.ly"
       },
       "data": [
        {
         "bingroup": "x",
         "hovertemplate": "Release Year=%{x}<br>count=%{y}<extra></extra>",
         "legendgroup": "",
         "marker": {
          "color": "#636efa",
          "pattern": {
           "shape": ""
          }
         },
         "name": "",
         "orientation": "v",
         "showlegend": false,
         "type": "histogram",
         "x": {
          "bdata": "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",
          "dtype": "i2"
         },
         "xaxis": "x",
         "yaxis": "y"
        },
        {
         "hovertemplate": "Release Year=%{x}<extra></extra>",
         "legendgroup": "",
         "marker": {
          "color": "#636efa"
         },
         "name": "",
         "notched": true,
         "showlegend": false,
         "type": "box",
         "x": {
          "bdata": "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",
          "dtype": "i2"
         },
         "xaxis": "x2",
         "yaxis": "y2"
        }
       ],
       "layout": {
        "bargap": 0.2,
        "barmode": "relative",
        "height": 300,
        "legend": {
         "tracegroupgap": 0
        },
        "template": {
         "data": {
          "bar": [
           {
            "error_x": {
             "color": "#2a3f5f"
            },
            "error_y": {
             "color": "#2a3f5f"
            },
            "marker": {
             "line": {
              "color": "#E5ECF6",
              "width": 0.5
             },
             "pattern": {
              "fillmode": "overlay",
              "size": 10,
              "solidity": 0.2
             }
            },
            "type": "bar"
           }
          ],
          "barpolar": [
           {
            "marker": {
             "line": {
              "color": "#E5ECF6",
              "width": 0.5
             },
             "pattern": {
              "fillmode": "overlay",
              "size": 10,
              "solidity": 0.2
             }
            },
            "type": "barpolar"
           }
          ],
          "carpet": [
           {
            "aaxis": {
             "endlinecolor": "#2a3f5f",
             "gridcolor": "white",
             "linecolor": "white",
             "minorgridcolor": "white",
             "startlinecolor": "#2a3f5f"
            },
            "baxis": {
             "endlinecolor": "#2a3f5f",
             "gridcolor": "white",
             "linecolor": "white",
             "minorgridcolor": "white",
             "startlinecolor": "#2a3f5f"
            },
            "type": "carpet"
           }
          ],
          "choropleth": [
           {
            "colorbar": {
             "outlinewidth": 0,
             "ticks": ""
            },
            "type": "choropleth"
           }
          ],
          "contour": [
           {
            "colorbar": {
             "outlinewidth": 0,
             "ticks": ""
            },
            "colorscale": [
             [
              0,
              "#0d0887"
             ],
             [
              0.1111111111111111,
              "#46039f"
             ],
             [
              0.2222222222222222,
              "#7201a8"
             ],
             [
              0.3333333333333333,
              "#9c179e"
             ],
             [
              0.4444444444444444,
              "#bd3786"
             ],
             [
              0.5555555555555556,
              "#d8576b"
             ],
             [
              0.6666666666666666,
              "#ed7953"
             ],
             [
              0.7777777777777778,
              "#fb9f3a"
             ],
             [
              0.8888888888888888,
              "#fdca26"
             ],
             [
              1,
              "#f0f921"
             ]
            ],
            "type": "contour"
           }
          ],
          "contourcarpet": [
           {
            "colorbar": {
             "outlinewidth": 0,
             "ticks": ""
            },
            "type": "contourcarpet"
           }
          ],
          "heatmap": [
           {
            "colorbar": {
             "outlinewidth": 0,
             "ticks": ""
            },
            "colorscale": [
             [
              0,
              "#0d0887"
             ],
             [
              0.1111111111111111,
              "#46039f"
             ],
             [
              0.2222222222222222,
              "#7201a8"
             ],
             [
              0.3333333333333333,
              "#9c179e"
             ],
             [
              0.4444444444444444,
              "#bd3786"
             ],
             [
              0.5555555555555556,
              "#d8576b"
             ],
             [
              0.6666666666666666,
              "#ed7953"
             ],
             [
              0.7777777777777778,
              "#fb9f3a"
             ],
             [
              0.8888888888888888,
              "#fdca26"
             ],
             [
              1,
              "#f0f921"
             ]
            ],
            "type": "heatmap"
           }
          ],
          "histogram": [
           {
            "marker": {
             "pattern": {
              "fillmode": "overlay",
              "size": 10,
              "solidity": 0.2
             }
            },
            "type": "histogram"
           }
          ],
          "histogram2d": [
           {
            "colorbar": {
             "outlinewidth": 0,
             "ticks": ""
            },
            "colorscale": [
             [
              0,
              "#0d0887"
             ],
             [
              0.1111111111111111,
              "#46039f"
             ],
             [
              0.2222222222222222,
              "#7201a8"
             ],
             [
              0.3333333333333333,
              "#9c179e"
             ],
             [
              0.4444444444444444,
              "#bd3786"
             ],
             [
              0.5555555555555556,
              "#d8576b"
             ],
             [
              0.6666666666666666,
              "#ed7953"
             ],
             [
              0.7777777777777778,
              "#fb9f3a"
             ],
             [
              0.8888888888888888,
              "#fdca26"
             ],
             [
              1,
              "#f0f921"
             ]
            ],
            "type": "histogram2d"
           }
          ],
          "histogram2dcontour": [
           {
            "colorbar": {
             "outlinewidth": 0,
             "ticks": ""
            },
            "colorscale": [
             [
              0,
              "#0d0887"
             ],
             [
              0.1111111111111111,
              "#46039f"
             ],
             [
              0.2222222222222222,
              "#7201a8"
             ],
             [
              0.3333333333333333,
              "#9c179e"
             ],
             [
              0.4444444444444444,
              "#bd3786"
             ],
             [
              0.5555555555555556,
              "#d8576b"
             ],
             [
              0.6666666666666666,
              "#ed7953"
             ],
             [
              0.7777777777777778,
              "#fb9f3a"
             ],
             [
              0.8888888888888888,
              "#fdca26"
             ],
             [
              1,
              "#f0f921"
             ]
            ],
            "type": "histogram2dcontour"
           }
          ],
          "mesh3d": [
           {
            "colorbar": {
             "outlinewidth": 0,
             "ticks": ""
            },
            "type": "mesh3d"
           }
          ],
          "parcoords": [
           {
            "line": {
             "colorbar": {
              "outlinewidth": 0,
              "ticks": ""
             }
            },
            "type": "parcoords"
           }
          ],
          "pie": [
           {
            "automargin": true,
            "type": "pie"
           }
          ],
          "scatter": [
           {
            "fillpattern": {
             "fillmode": "overlay",
             "size": 10,
             "solidity": 0.2
            },
            "type": "scatter"
           }
          ],
          "scatter3d": [
           {
            "line": {
             "colorbar": {
              "outlinewidth": 0,
              "ticks": ""
             }
            },
            "marker": {
             "colorbar": {
              "outlinewidth": 0,
              "ticks": ""
             }
            },
            "type": "scatter3d"
           }
          ],
          "scattercarpet": [
           {
            "marker": {
             "colorbar": {
              "outlinewidth": 0,
              "ticks": ""
             }
            },
            "type": "scattercarpet"
           }
          ],
          "scattergeo": [
           {
            "marker": {
             "colorbar": {
              "outlinewidth": 0,
              "ticks": ""
             }
            },
            "type": "scattergeo"
           }
          ],
          "scattergl": [
           {
            "marker": {
             "colorbar": {
              "outlinewidth": 0,
              "ticks": ""
             }
            },
            "type": "scattergl"
           }
          ],
          "scattermap": [
           {
            "marker": {
             "colorbar": {
              "outlinewidth": 0,
              "ticks": ""
             }
            },
            "type": "scattermap"
           }
          ],
          "scattermapbox": [
           {
            "marker": {
             "colorbar": {
              "outlinewidth": 0,
              "ticks": ""
             }
            },
            "type": "scattermapbox"
           }
          ],
          "scatterpolar": [
           {
            "marker": {
             "colorbar": {
              "outlinewidth": 0,
              "ticks": ""
             }
            },
            "type": "scatterpolar"
           }
          ],
          "scatterpolargl": [
           {
            "marker": {
             "colorbar": {
              "outlinewidth": 0,
              "ticks": ""
             }
            },
            "type": "scatterpolargl"
           }
          ],
          "scatterternary": [
           {
            "marker": {
             "colorbar": {
              "outlinewidth": 0,
              "ticks": ""
             }
            },
            "type": "scatterternary"
           }
          ],
          "surface": [
           {
            "colorbar": {
             "outlinewidth": 0,
             "ticks": ""
            },
            "colorscale": [
             [
              0,
              "#0d0887"
             ],
             [
              0.1111111111111111,
              "#46039f"
             ],
             [
              0.2222222222222222,
              "#7201a8"
             ],
             [
              0.3333333333333333,
              "#9c179e"
             ],
             [
              0.4444444444444444,
              "#bd3786"
             ],
             [
              0.5555555555555556,
              "#d8576b"
             ],
             [
              0.6666666666666666,
              "#ed7953"
             ],
             [
              0.7777777777777778,
              "#fb9f3a"
             ],
             [
              0.8888888888888888,
              "#fdca26"
             ],
             [
              1,
              "#f0f921"
             ]
            ],
            "type": "surface"
           }
          ],
          "table": [
           {
            "cells": {
             "fill": {
              "color": "#EBF0F8"
             },
             "line": {
              "color": "white"
             }
            },
            "header": {
             "fill": {
              "color": "#C8D4E3"
             },
             "line": {
              "color": "white"
             }
            },
            "type": "table"
           }
          ]
         },
         "layout": {
          "annotationdefaults": {
           "arrowcolor": "#2a3f5f",
           "arrowhead": 0,
           "arrowwidth": 1
          },
          "autotypenumbers": "strict",
          "coloraxis": {
           "colorbar": {
            "outlinewidth": 0,
            "ticks": ""
           }
          },
          "colorscale": {
           "diverging": [
            [
             0,
             "#8e0152"
            ],
            [
             0.1,
             "#c51b7d"
            ],
            [
             0.2,
             "#de77ae"
            ],
            [
             0.3,
             "#f1b6da"
            ],
            [
             0.4,
             "#fde0ef"
            ],
            [
             0.5,
             "#f7f7f7"
            ],
            [
             0.6,
             "#e6f5d0"
            ],
            [
             0.7,
             "#b8e186"
            ],
            [
             0.8,
             "#7fbc41"
            ],
            [
             0.9,
             "#4d9221"
            ],
            [
             1,
             "#276419"
            ]
           ],
           "sequential": [
            [
             0,
             "#0d0887"
            ],
            [
             0.1111111111111111,
             "#46039f"
            ],
            [
             0.2222222222222222,
             "#7201a8"
            ],
            [
             0.3333333333333333,
             "#9c179e"
            ],
            [
             0.4444444444444444,
             "#bd3786"
            ],
            [
             0.5555555555555556,
             "#d8576b"
            ],
            [
             0.6666666666666666,
             "#ed7953"
            ],
            [
             0.7777777777777778,
             "#fb9f3a"
            ],
            [
             0.8888888888888888,
             "#fdca26"
            ],
            [
             1,
             "#f0f921"
            ]
           ],
           "sequentialminus": [
            [
             0,
             "#0d0887"
            ],
            [
             0.1111111111111111,
             "#46039f"
            ],
            [
             0.2222222222222222,
             "#7201a8"
            ],
            [
             0.3333333333333333,
             "#9c179e"
            ],
            [
             0.4444444444444444,
             "#bd3786"
            ],
            [
             0.5555555555555556,
             "#d8576b"
            ],
            [
             0.6666666666666666,
             "#ed7953"
            ],
            [
             0.7777777777777778,
             "#fb9f3a"
            ],
            [
             0.8888888888888888,
             "#fdca26"
            ],
            [
             1,
             "#f0f921"
            ]
           ]
          },
          "colorway": [
           "#636efa",
           "#EF553B",
           "#00cc96",
           "#ab63fa",
           "#FFA15A",
           "#19d3f3",
           "#FF6692",
           "#B6E880",
           "#FF97FF",
           "#FECB52"
          ],
          "font": {
           "color": "#2a3f5f"
          },
          "geo": {
           "bgcolor": "white",
           "lakecolor": "white",
           "landcolor": "#E5ECF6",
           "showlakes": true,
           "showland": true,
           "subunitcolor": "white"
          },
          "hoverlabel": {
           "align": "left"
          },
          "hovermode": "closest",
          "mapbox": {
           "style": "light"
          },
          "paper_bgcolor": "white",
          "plot_bgcolor": "#E5ECF6",
          "polar": {
           "angularaxis": {
            "gridcolor": "white",
            "linecolor": "white",
            "ticks": ""
           },
           "bgcolor": "#E5ECF6",
           "radialaxis": {
            "gridcolor": "white",
            "linecolor": "white",
            "ticks": ""
           }
          },
          "scene": {
           "xaxis": {
            "backgroundcolor": "#E5ECF6",
            "gridcolor": "white",
            "gridwidth": 2,
            "linecolor": "white",
            "showbackground": true,
            "ticks": "",
            "zerolinecolor": "white"
           },
           "yaxis": {
            "backgroundcolor": "#E5ECF6",
            "gridcolor": "white",
            "gridwidth": 2,
            "linecolor": "white",
            "showbackground": true,
            "ticks": "",
            "zerolinecolor": "white"
           },
           "zaxis": {
            "backgroundcolor": "#E5ECF6",
            "gridcolor": "white",
            "gridwidth": 2,
            "linecolor": "white",
            "showbackground": true,
            "ticks": "",
            "zerolinecolor": "white"
           }
          },
          "shapedefaults": {
           "line": {
            "color": "#2a3f5f"
           }
          },
          "ternary": {
           "aaxis": {
            "gridcolor": "white",
            "linecolor": "white",
            "ticks": ""
           },
           "baxis": {
            "gridcolor": "white",
            "linecolor": "white",
            "ticks": ""
           },
           "bgcolor": "#E5ECF6",
           "caxis": {
            "gridcolor": "white",
            "linecolor": "white",
            "ticks": ""
           }
          },
          "title": {
           "x": 0.05
          },
          "xaxis": {
           "automargin": true,
           "gridcolor": "white",
           "linecolor": "white",
           "ticks": "",
           "title": {
            "standoff": 15
           },
           "zerolinecolor": "white",
           "zerolinewidth": 2
          },
          "yaxis": {
           "automargin": true,
           "gridcolor": "white",
           "linecolor": "white",
           "ticks": "",
           "title": {
            "standoff": 15
           },
           "zerolinecolor": "white",
           "zerolinewidth": 2
          }
         }
        },
        "title": {
         "text": "Distribution of Shows Released Each Year"
        },
        "width": 700,
        "xaxis": {
         "anchor": "y",
         "domain": [
          0,
          1
         ],
         "title": {
          "text": "Release Year"
         }
        },
        "xaxis2": {
         "anchor": "y2",
         "domain": [
          0,
          1
         ],
         "matches": "x",
         "showgrid": true,
         "showticklabels": false
        },
        "yaxis": {
         "anchor": "x",
         "domain": [
          0,
          0.8316
         ],
         "title": {
          "text": "count"
         }
        },
        "yaxis2": {
         "anchor": "x2",
         "domain": [
          0.8416,
          1
         ],
         "matches": "y2",
         "showgrid": false,
         "showline": false,
         "showticklabels": false,
         "ticks": ""
        }
       }
      }
     },
     "metadata": {},
     "output_type": "display_data"
    }
   ],
   "source": [
    "# Histogram\n",
    "fig = px.histogram(\n",
    "    df,\n",
    "    x = 'release_year',\n",
    "    marginal = 'box',\n",
    "    title = 'Distribution of Shows Released Each Year',\n",
    "    labels = dict(release_year = 'Release Year', index = 'Count')\n",
    ")\n",
    "fig.update_layout(\n",
    "    width = 700,\n",
    "    height = 300,\n",
    "    bargap = 0.2\n",
    ")\n",
    "fig.show()"
   ]
  },
  {
   "cell_type": "markdown",
   "metadata": {},
   "source": [
    "# 8. Top 5 Most Popular Cast Member in U.S Contents"
   ]
  },
  {
   "cell_type": "code",
   "execution_count": null,
   "metadata": {},
   "outputs": [
    {
     "name": "stdout",
     "output_type": "stream",
     "text": [
      "cast\n",
      "Ian Ziering         4\n",
      "Margo Martindale    4\n",
      "Tom Noonan          4\n",
      "Tara Reid           4\n",
      "Angelina Jolie      3\n",
      "Name: count, dtype: int64\n"
     ]
    }
   ],
   "source": [
    "df = df[df[\"country\"].str.contains(\"United States\", na=False, case=False)]\n",
    "\n",
    "df = df.dropna(subset=[\"cast\"])\n",
    "\n",
    "df = df.assign(cast=df[\"cast\"].str.split(\", \")).explode(\"cast\")\n",
    "\n",
    "df = df.loc[~df[\"cast\"].isin({\"Unknown\", \"1\"})]\n",
    "\n",
    "top_5_cast = df[\"cast\"].value_counts().nlargest(5)\n",
    "\n",
    "print(top_5_cast)"
   ]
  },
  {
   "cell_type": "markdown",
   "metadata": {},
   "source": [
    "# 9.Compare Country Proportion in Movies vs TV Shows"
   ]
  },
  {
   "cell_type": "code",
   "execution_count": null,
   "metadata": {},
   "outputs": [
    {
     "name": "stdout",
     "output_type": "stream",
     "text": [
      "type            Movie  TV Show  Total  Movie_Proportion  TV_Show_Proportion\n",
      "country                                                                    \n",
      "United States    1678      432   2110          0.795261            0.204739\n",
      "United Kingdom    173       28    201          0.860697            0.139303\n",
      "Germany           139        0    139          1.000000            0.000000\n",
      "Canada             79       29    108          0.731481            0.268519\n",
      "India              82        0     82          1.000000            0.000000\n",
      "France             51        0     51          1.000000            0.000000\n",
      "China              37        0     37          1.000000            0.000000\n",
      "Japan              20        0     20          1.000000            0.000000\n",
      "Denmark            15        0     15          1.000000            0.000000\n",
      "Italy              15        0     15          1.000000            0.000000\n"
     ]
    }
   ],
   "source": [
    "df = df.dropna(subset=[\"country\", \"type\"])\n",
    "\n",
    "df[\"country\"] = df[\"country\"].str.split(\", \")\n",
    "df = df.explode(\"country\")\n",
    "\n",
    "country_proportion = (df.groupby([\"country\", \"type\"])\n",
    "                        .size()\n",
    "                        .unstack(fill_value=0)\n",
    "                        .assign(Total=lambda x: x.sum(axis=1))\n",
    "                        .assign(Movie_Proportion=lambda x: x[\"Movie\"] / x[\"Total\"],\n",
    "                                TV_Show_Proportion=lambda x: x[\"TV Show\"] / x[\"Total\"])\n",
    "                        .sort_values(\"Total\", ascending=False))\n",
    "\n",
    "print(country_proportion.head(10))\n"
   ]
  },
  {
   "cell_type": "code",
   "execution_count": null,
   "metadata": {},
   "outputs": [
    {
     "data": {
      "application/vnd.plotly.v1+json": {
       "config": {
        "plotlyServerURL": "https://plot.ly"
       },
       "data": [
        {
         "hovertemplate": "Type=Movies<br>Country=%{x}<br>Proportion=%{y}<extra></extra>",
         "legendgroup": "Movies",
         "marker": {
          "color": "blue",
          "pattern": {
           "shape": ""
          }
         },
         "name": "Movies",
         "orientation": "v",
         "showlegend": true,
         "textposition": "auto",
         "texttemplate": "%{y}",
         "type": "bar",
         "x": [
          "United States",
          "United Kingdom",
          "Germany",
          "Canada",
          "India",
          "France",
          "China",
          "Japan",
          "Denmark",
          "Italy"
         ],
         "xaxis": "x",
         "y": {
          "bdata": "i92xfcZy6T+WOkJs04rrPwAAAAAAAPA/hfYS2kto5z8AAAAAAADwPwAAAAAAAPA/AAAAAAAA8D8AAAAAAADwPwAAAAAAAPA/AAAAAAAA8D8=",
          "dtype": "f8"
         },
         "yaxis": "y"
        },
        {
         "hovertemplate": "Type=TV Shows<br>Country=%{x}<br>Proportion=%{y}<extra></extra>",
         "legendgroup": "TV Shows",
         "marker": {
          "color": "red",
          "pattern": {
           "shape": ""
          }
         },
         "name": "TV Shows",
         "orientation": "v",
         "showlegend": true,
         "textposition": "auto",
         "texttemplate": "%{y}",
         "type": "bar",
         "x": [
          "United States",
          "United Kingdom",
          "Germany",
          "Canada",
          "India",
          "France",
          "China",
          "Japan",
          "Denmark",
          "Italy"
         ],
         "xaxis": "x",
         "y": {
          "bdata": "1Ik4CeY0yj+nFfdOstTBPwAAAAAAAAAA9xLaS2gv0T8AAAAAAAAAAAAAAAAAAAAAAAAAAAAAAAAAAAAAAAAAAAAAAAAAAAAAAAAAAAAAAAA=",
          "dtype": "f8"
         },
         "yaxis": "y"
        }
       ],
       "layout": {
        "barmode": "relative",
        "legend": {
         "title": {
          "text": "Type"
         },
         "tracegroupgap": 0
        },
        "template": {
         "data": {
          "bar": [
           {
            "error_x": {
             "color": "#2a3f5f"
            },
            "error_y": {
             "color": "#2a3f5f"
            },
            "marker": {
             "line": {
              "color": "#E5ECF6",
              "width": 0.5
             },
             "pattern": {
              "fillmode": "overlay",
              "size": 10,
              "solidity": 0.2
             }
            },
            "type": "bar"
           }
          ],
          "barpolar": [
           {
            "marker": {
             "line": {
              "color": "#E5ECF6",
              "width": 0.5
             },
             "pattern": {
              "fillmode": "overlay",
              "size": 10,
              "solidity": 0.2
             }
            },
            "type": "barpolar"
           }
          ],
          "carpet": [
           {
            "aaxis": {
             "endlinecolor": "#2a3f5f",
             "gridcolor": "white",
             "linecolor": "white",
             "minorgridcolor": "white",
             "startlinecolor": "#2a3f5f"
            },
            "baxis": {
             "endlinecolor": "#2a3f5f",
             "gridcolor": "white",
             "linecolor": "white",
             "minorgridcolor": "white",
             "startlinecolor": "#2a3f5f"
            },
            "type": "carpet"
           }
          ],
          "choropleth": [
           {
            "colorbar": {
             "outlinewidth": 0,
             "ticks": ""
            },
            "type": "choropleth"
           }
          ],
          "contour": [
           {
            "colorbar": {
             "outlinewidth": 0,
             "ticks": ""
            },
            "colorscale": [
             [
              0,
              "#0d0887"
             ],
             [
              0.1111111111111111,
              "#46039f"
             ],
             [
              0.2222222222222222,
              "#7201a8"
             ],
             [
              0.3333333333333333,
              "#9c179e"
             ],
             [
              0.4444444444444444,
              "#bd3786"
             ],
             [
              0.5555555555555556,
              "#d8576b"
             ],
             [
              0.6666666666666666,
              "#ed7953"
             ],
             [
              0.7777777777777778,
              "#fb9f3a"
             ],
             [
              0.8888888888888888,
              "#fdca26"
             ],
             [
              1,
              "#f0f921"
             ]
            ],
            "type": "contour"
           }
          ],
          "contourcarpet": [
           {
            "colorbar": {
             "outlinewidth": 0,
             "ticks": ""
            },
            "type": "contourcarpet"
           }
          ],
          "heatmap": [
           {
            "colorbar": {
             "outlinewidth": 0,
             "ticks": ""
            },
            "colorscale": [
             [
              0,
              "#0d0887"
             ],
             [
              0.1111111111111111,
              "#46039f"
             ],
             [
              0.2222222222222222,
              "#7201a8"
             ],
             [
              0.3333333333333333,
              "#9c179e"
             ],
             [
              0.4444444444444444,
              "#bd3786"
             ],
             [
              0.5555555555555556,
              "#d8576b"
             ],
             [
              0.6666666666666666,
              "#ed7953"
             ],
             [
              0.7777777777777778,
              "#fb9f3a"
             ],
             [
              0.8888888888888888,
              "#fdca26"
             ],
             [
              1,
              "#f0f921"
             ]
            ],
            "type": "heatmap"
           }
          ],
          "histogram": [
           {
            "marker": {
             "pattern": {
              "fillmode": "overlay",
              "size": 10,
              "solidity": 0.2
             }
            },
            "type": "histogram"
           }
          ],
          "histogram2d": [
           {
            "colorbar": {
             "outlinewidth": 0,
             "ticks": ""
            },
            "colorscale": [
             [
              0,
              "#0d0887"
             ],
             [
              0.1111111111111111,
              "#46039f"
             ],
             [
              0.2222222222222222,
              "#7201a8"
             ],
             [
              0.3333333333333333,
              "#9c179e"
             ],
             [
              0.4444444444444444,
              "#bd3786"
             ],
             [
              0.5555555555555556,
              "#d8576b"
             ],
             [
              0.6666666666666666,
              "#ed7953"
             ],
             [
              0.7777777777777778,
              "#fb9f3a"
             ],
             [
              0.8888888888888888,
              "#fdca26"
             ],
             [
              1,
              "#f0f921"
             ]
            ],
            "type": "histogram2d"
           }
          ],
          "histogram2dcontour": [
           {
            "colorbar": {
             "outlinewidth": 0,
             "ticks": ""
            },
            "colorscale": [
             [
              0,
              "#0d0887"
             ],
             [
              0.1111111111111111,
              "#46039f"
             ],
             [
              0.2222222222222222,
              "#7201a8"
             ],
             [
              0.3333333333333333,
              "#9c179e"
             ],
             [
              0.4444444444444444,
              "#bd3786"
             ],
             [
              0.5555555555555556,
              "#d8576b"
             ],
             [
              0.6666666666666666,
              "#ed7953"
             ],
             [
              0.7777777777777778,
              "#fb9f3a"
             ],
             [
              0.8888888888888888,
              "#fdca26"
             ],
             [
              1,
              "#f0f921"
             ]
            ],
            "type": "histogram2dcontour"
           }
          ],
          "mesh3d": [
           {
            "colorbar": {
             "outlinewidth": 0,
             "ticks": ""
            },
            "type": "mesh3d"
           }
          ],
          "parcoords": [
           {
            "line": {
             "colorbar": {
              "outlinewidth": 0,
              "ticks": ""
             }
            },
            "type": "parcoords"
           }
          ],
          "pie": [
           {
            "automargin": true,
            "type": "pie"
           }
          ],
          "scatter": [
           {
            "fillpattern": {
             "fillmode": "overlay",
             "size": 10,
             "solidity": 0.2
            },
            "type": "scatter"
           }
          ],
          "scatter3d": [
           {
            "line": {
             "colorbar": {
              "outlinewidth": 0,
              "ticks": ""
             }
            },
            "marker": {
             "colorbar": {
              "outlinewidth": 0,
              "ticks": ""
             }
            },
            "type": "scatter3d"
           }
          ],
          "scattercarpet": [
           {
            "marker": {
             "colorbar": {
              "outlinewidth": 0,
              "ticks": ""
             }
            },
            "type": "scattercarpet"
           }
          ],
          "scattergeo": [
           {
            "marker": {
             "colorbar": {
              "outlinewidth": 0,
              "ticks": ""
             }
            },
            "type": "scattergeo"
           }
          ],
          "scattergl": [
           {
            "marker": {
             "colorbar": {
              "outlinewidth": 0,
              "ticks": ""
             }
            },
            "type": "scattergl"
           }
          ],
          "scattermap": [
           {
            "marker": {
             "colorbar": {
              "outlinewidth": 0,
              "ticks": ""
             }
            },
            "type": "scattermap"
           }
          ],
          "scattermapbox": [
           {
            "marker": {
             "colorbar": {
              "outlinewidth": 0,
              "ticks": ""
             }
            },
            "type": "scattermapbox"
           }
          ],
          "scatterpolar": [
           {
            "marker": {
             "colorbar": {
              "outlinewidth": 0,
              "ticks": ""
             }
            },
            "type": "scatterpolar"
           }
          ],
          "scatterpolargl": [
           {
            "marker": {
             "colorbar": {
              "outlinewidth": 0,
              "ticks": ""
             }
            },
            "type": "scatterpolargl"
           }
          ],
          "scatterternary": [
           {
            "marker": {
             "colorbar": {
              "outlinewidth": 0,
              "ticks": ""
             }
            },
            "type": "scatterternary"
           }
          ],
          "surface": [
           {
            "colorbar": {
             "outlinewidth": 0,
             "ticks": ""
            },
            "colorscale": [
             [
              0,
              "#0d0887"
             ],
             [
              0.1111111111111111,
              "#46039f"
             ],
             [
              0.2222222222222222,
              "#7201a8"
             ],
             [
              0.3333333333333333,
              "#9c179e"
             ],
             [
              0.4444444444444444,
              "#bd3786"
             ],
             [
              0.5555555555555556,
              "#d8576b"
             ],
             [
              0.6666666666666666,
              "#ed7953"
             ],
             [
              0.7777777777777778,
              "#fb9f3a"
             ],
             [
              0.8888888888888888,
              "#fdca26"
             ],
             [
              1,
              "#f0f921"
             ]
            ],
            "type": "surface"
           }
          ],
          "table": [
           {
            "cells": {
             "fill": {
              "color": "#EBF0F8"
             },
             "line": {
              "color": "white"
             }
            },
            "header": {
             "fill": {
              "color": "#C8D4E3"
             },
             "line": {
              "color": "white"
             }
            },
            "type": "table"
           }
          ]
         },
         "layout": {
          "annotationdefaults": {
           "arrowcolor": "#2a3f5f",
           "arrowhead": 0,
           "arrowwidth": 1
          },
          "autotypenumbers": "strict",
          "coloraxis": {
           "colorbar": {
            "outlinewidth": 0,
            "ticks": ""
           }
          },
          "colorscale": {
           "diverging": [
            [
             0,
             "#8e0152"
            ],
            [
             0.1,
             "#c51b7d"
            ],
            [
             0.2,
             "#de77ae"
            ],
            [
             0.3,
             "#f1b6da"
            ],
            [
             0.4,
             "#fde0ef"
            ],
            [
             0.5,
             "#f7f7f7"
            ],
            [
             0.6,
             "#e6f5d0"
            ],
            [
             0.7,
             "#b8e186"
            ],
            [
             0.8,
             "#7fbc41"
            ],
            [
             0.9,
             "#4d9221"
            ],
            [
             1,
             "#276419"
            ]
           ],
           "sequential": [
            [
             0,
             "#0d0887"
            ],
            [
             0.1111111111111111,
             "#46039f"
            ],
            [
             0.2222222222222222,
             "#7201a8"
            ],
            [
             0.3333333333333333,
             "#9c179e"
            ],
            [
             0.4444444444444444,
             "#bd3786"
            ],
            [
             0.5555555555555556,
             "#d8576b"
            ],
            [
             0.6666666666666666,
             "#ed7953"
            ],
            [
             0.7777777777777778,
             "#fb9f3a"
            ],
            [
             0.8888888888888888,
             "#fdca26"
            ],
            [
             1,
             "#f0f921"
            ]
           ],
           "sequentialminus": [
            [
             0,
             "#0d0887"
            ],
            [
             0.1111111111111111,
             "#46039f"
            ],
            [
             0.2222222222222222,
             "#7201a8"
            ],
            [
             0.3333333333333333,
             "#9c179e"
            ],
            [
             0.4444444444444444,
             "#bd3786"
            ],
            [
             0.5555555555555556,
             "#d8576b"
            ],
            [
             0.6666666666666666,
             "#ed7953"
            ],
            [
             0.7777777777777778,
             "#fb9f3a"
            ],
            [
             0.8888888888888888,
             "#fdca26"
            ],
            [
             1,
             "#f0f921"
            ]
           ]
          },
          "colorway": [
           "#636efa",
           "#EF553B",
           "#00cc96",
           "#ab63fa",
           "#FFA15A",
           "#19d3f3",
           "#FF6692",
           "#B6E880",
           "#FF97FF",
           "#FECB52"
          ],
          "font": {
           "color": "#2a3f5f"
          },
          "geo": {
           "bgcolor": "white",
           "lakecolor": "white",
           "landcolor": "#E5ECF6",
           "showlakes": true,
           "showland": true,
           "subunitcolor": "white"
          },
          "hoverlabel": {
           "align": "left"
          },
          "hovermode": "closest",
          "mapbox": {
           "style": "light"
          },
          "paper_bgcolor": "white",
          "plot_bgcolor": "#E5ECF6",
          "polar": {
           "angularaxis": {
            "gridcolor": "white",
            "linecolor": "white",
            "ticks": ""
           },
           "bgcolor": "#E5ECF6",
           "radialaxis": {
            "gridcolor": "white",
            "linecolor": "white",
            "ticks": ""
           }
          },
          "scene": {
           "xaxis": {
            "backgroundcolor": "#E5ECF6",
            "gridcolor": "white",
            "gridwidth": 2,
            "linecolor": "white",
            "showbackground": true,
            "ticks": "",
            "zerolinecolor": "white"
           },
           "yaxis": {
            "backgroundcolor": "#E5ECF6",
            "gridcolor": "white",
            "gridwidth": 2,
            "linecolor": "white",
            "showbackground": true,
            "ticks": "",
            "zerolinecolor": "white"
           },
           "zaxis": {
            "backgroundcolor": "#E5ECF6",
            "gridcolor": "white",
            "gridwidth": 2,
            "linecolor": "white",
            "showbackground": true,
            "ticks": "",
            "zerolinecolor": "white"
           }
          },
          "shapedefaults": {
           "line": {
            "color": "#2a3f5f"
           }
          },
          "ternary": {
           "aaxis": {
            "gridcolor": "white",
            "linecolor": "white",
            "ticks": ""
           },
           "baxis": {
            "gridcolor": "white",
            "linecolor": "white",
            "ticks": ""
           },
           "bgcolor": "#E5ECF6",
           "caxis": {
            "gridcolor": "white",
            "linecolor": "white",
            "ticks": ""
           }
          },
          "title": {
           "x": 0.05
          },
          "xaxis": {
           "automargin": true,
           "gridcolor": "white",
           "linecolor": "white",
           "ticks": "",
           "title": {
            "standoff": 15
           },
           "zerolinecolor": "white",
           "zerolinewidth": 2
          },
          "yaxis": {
           "automargin": true,
           "gridcolor": "white",
           "linecolor": "white",
           "ticks": "",
           "title": {
            "standoff": 15
           },
           "zerolinecolor": "white",
           "zerolinewidth": 2
          }
         }
        },
        "title": {
         "text": "Proportion of Movies vs. TV Shows by Country"
        },
        "xaxis": {
         "anchor": "y",
         "domain": [
          0,
          1
         ],
         "title": {
          "text": "Country"
         }
        },
        "yaxis": {
         "anchor": "x",
         "domain": [
          0,
          1
         ],
         "title": {
          "text": "Proportion"
         }
        }
       }
      }
     },
     "metadata": {},
     "output_type": "display_data"
    }
   ],
   "source": [
    "top_countries = country_proportion.head(10).reset_index()\n",
    "\n",
    "plot_data = top_countries.melt(id_vars=\"country\", \n",
    "                               value_vars=[\"Movie_Proportion\", \"TV_Show_Proportion\"],\n",
    "                               var_name=\"Type\", value_name=\"Proportion\")\n",
    "\n",
    "plot_data[\"Type\"] = plot_data[\"Type\"].replace({\"Movie_Proportion\": \"Movies\", \"TV_Show_Proportion\": \"TV Shows\"})\n",
    "\n",
    "fig = px.bar(plot_data, \n",
    "             x=\"country\", \n",
    "             y=\"Proportion\", \n",
    "             color=\"Type\", \n",
    "             title=\"Proportion of Movies vs. TV Shows by Country\",\n",
    "             labels={\"country\": \"Country\", \"Proportion\": \"Proportion\"},\n",
    "             text_auto=True,\n",
    "             color_discrete_map={\"Movies\": \"blue\", \"TV Shows\": \"red\"})\n",
    "\n",
    "fig.show()"
   ]
  }
 ],
 "metadata": {
  "kernelspec": {
   "display_name": "Python 3",
   "language": "python",
   "name": "python3"
  },
  "language_info": {
   "codemirror_mode": {
    "name": "ipython",
    "version": 3
   },
   "file_extension": ".py",
   "mimetype": "text/x-python",
   "name": "python",
   "nbconvert_exporter": "python",
   "pygments_lexer": "ipython3",
   "version": "3.12.5"
  }
 },
 "nbformat": 4,
 "nbformat_minor": 2
}
